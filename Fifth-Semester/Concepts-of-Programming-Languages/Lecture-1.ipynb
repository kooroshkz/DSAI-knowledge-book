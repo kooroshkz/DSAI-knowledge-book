{
 "cells": [
  {
   "cell_type": "markdown",
   "id": "75e09f16",
   "metadata": {},
   "source": [
    "### **Von Neumann Architecture** \n",
    "Design model of the most computers nowatodays.\n",
    "\n",
    "* **CPU (Central Processing Unit)** with:\n",
    "  * **Control Unit (CU):** Directs the flow of data and instructions.\n",
    "  * **Arithmetic/Logic Unit (ALU):** Does math and logic operations.\n",
    "* **Memory Unit:** Stores both data and instructions.\n",
    "\n",
    "* The **process (called the fetch-decode-execute cycle):**\n",
    "  1. **Fetch**: The CPU gets the next instruction from memory (using the program counter).\n",
    "  2. **Decode + Execute**: The CPU understands the instruction and runs it.\n",
    "  3. **Increase Program Counter**: Move to the next instruction. (**Imperative paradigm**: Goes Instruction after instruction)\n",
    "\n",
    "\n",
    "* Well-defined → clear, unique answer.\n",
    "* Ill-defined → unclear, no single answer.\n"
   ]
  },
  {
   "cell_type": "markdown",
   "id": "ccad7cc9",
   "metadata": {},
   "source": [
    "\n",
    "---\n",
    "\n",
    "### **MIPS Architecture**\n",
    "\n",
    "* MIPS is a type of CPU design (a RISC – Reduced Instruction Set Computer).\n",
    "* Instructions in MIPS are always **32 bits** long, but they come in **three formats**:\n",
    "\n",
    "  * **R-type (Register):** For operations between registers (like add, sub).\n",
    "  * **I-type (Immediate):** For operations with constants or memory addresses.\n",
    "  * **J-type (Jump):** For jump instructions (changing the program counter).\n",
    "\n",
    "  ```assembly\n",
    "  add $r1, $r2, $r6 # This means: `$r6 = $r1 + $r2`\n",
    "  ```\n",
    "\n",
    "* **Machine code (decimal fields):**\n",
    "  `[ op | rs | rt | rd | shamt | funct ]`\n",
    "\n",
    "  * `op = 0` → because this is an R-type instruction.\n",
    "  * `rs = 1` → first input register.\n",
    "  * `rt = 2` → second input register.\n",
    "  * `rd = 6` → destination register.\n",
    "  * `shamt = 0` → no shifting here.\n",
    "  * `funct = 32` → tells the CPU this is an **add** operation.\n",
    "\n",
    "- **Zuse’s Plankalkül** : This was the first high-level programming language\n"
   ]
  }
 ],
 "metadata": {
  "language_info": {
   "name": "python"
  }
 },
 "nbformat": 4,
 "nbformat_minor": 5
}

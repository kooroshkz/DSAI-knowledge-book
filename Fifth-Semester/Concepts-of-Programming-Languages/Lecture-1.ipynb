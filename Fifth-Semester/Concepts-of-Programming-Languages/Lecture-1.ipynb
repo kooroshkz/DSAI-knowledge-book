{
 "cells": [
  {
   "cell_type": "markdown",
   "id": "75e09f16",
   "metadata": {},
   "source": [
    "### **Von Neumann Architecture** \n",
    "Design model of the most computers nowatodays.\n",
    "\n",
    "* **CPU (Central Processing Unit)** with:\n",
    "  * **Control Unit (CU):** Directs the flow of data and instructions.\n",
    "  * **Arithmetic/Logic Unit (ALU):** Does math and logic operations.\n",
    "* **Memory Unit:** Stores both data and instructions.\n",
    "\n",
    "* The **process (called the fetch-decode-execute cycle):**\n",
    "  1. **Fetch**: The CPU gets the next instruction from memory (using the program counter).\n",
    "  2. **Decode + Execute**: The CPU understands the instruction and runs it.\n",
    "  3. **Increase Program Counter**: Move to the next instruction. (**Imperative paradigm**: Goes Instruction after instruction)\n",
    "\n",
    "\n",
    "* Well-defined → clear, unique answer.\n",
    "* Ill-defined → unclear, no single answer.\n"
   ]
  },
  {
   "cell_type": "markdown",
   "id": "ccad7cc9",
   "metadata": {},
   "source": [
    "\n",
    "---\n",
    "\n",
    "### **MIPS Architecture**\n",
    "\n",
    "* MIPS is a type of CPU design (a RISC – Reduced Instruction Set Computer).\n",
    "* Instructions in MIPS are always **32 bits** long, but they come in **three formats**:\n",
    "\n",
    "  * **R-type (Register):** For operations between registers (like add, sub).\n",
    "  * **I-type (Immediate):** For operations with constants or memory addresses.\n",
    "  * **J-type (Jump):** For jump instructions (changing the program counter).\n",
    "\n",
    "  ```assembly\n",
    "  add $r1, $r2, $r6 # This means: `$r6 = $r1 + $r2`\n",
    "  ```\n",
    "\n",
    "* **Machine code (decimal fields):**\n",
    "  `[ op | rs | rt | rd | shamt | funct ]`\n",
    "\n",
    "  * `op = 0` → because this is an R-type instruction.\n",
    "  * `rs = 1` → first input register.\n",
    "  * `rt = 2` → second input register.\n",
    "  * `rd = 6` → destination register.\n",
    "  * `shamt = 0` → no shifting here.\n",
    "  * `funct = 32` → tells the CPU this is an **add** operation.\n",
    "\n",
    "- **Zuse’s Plankalkül** : This was the first high-level programming language\n"
   ]
  },
  {
   "cell_type": "markdown",
   "id": "87d4dc4b",
   "metadata": {
    "vscode": {
     "languageId": "plaintext"
    }
   },
   "source": [
    "---\n",
    "### **Turing Machine**\n",
    "Turing machine will say a computer can do computation which having a initial data (as a model we imagine a tape of 1s and 0s) and a set of rules (as a model we imagine a table of rules, if you where in this state and number was 1 -> change to 0 and move right) to manipulate the data, finnally if we reached halting state (a state where we stop) the data on the tape is the result of the computation. So it shows the problem is breakable down to a set of such simple rules that turing machine can do it. So with computer we can do any computation that turing machine can do.\n",
    "\n",
    "- **Linguistic Relativity**: The idea that the language we speak influences how we think, see, and understand the world. Different languages may shape thought in different ways.\n",
    "\n",
    "---\n",
    "\n",
    "- **Duck Typing**: We dont care about the type of an object, only if it behaves as we expect. Like we define a function to transform given data, regardless which group of data it belongs to, as long as it has the required methods/attributes to be transformed. (e.g. Python, Ruby)\n",
    "- **Static Typing**: Variable types are *checked at compile-time*, you must declare types before use. (e.g. Java, C, C#)\n",
    "- **Dynamic Typing**: Types are *checked at runtime* and no need to declare type explicitly. (e.g. Python, JavaScript)\n",
    "- **Gradual typing**: mix of static + dynamic (e.g., TypeScript, Python with type hints).\n",
    "\n",
    "- **Formal Language**: A language with strict rules and syntax, often used in mathematics and computer science (e.g., programming languages, logic).\n",
    "- **Natural Language**: A language that has evolved naturally among people for everyday communication (e.g., English, Spanish).\n",
    "- **Semi-formal Language**: A language that combines elements of both formal and natural languages, often used in technical documentation (e.g., Mathematical notation, UML diagrams).\n",
    "\n",
    "\n"
   ]
  }
 ],
 "metadata": {
  "language_info": {
   "name": "python"
  }
 },
 "nbformat": 4,
 "nbformat_minor": 5
}

{
 "cells": [
  {
   "cell_type": "markdown",
   "id": "1877997f",
   "metadata": {},
   "source": [
    "## OCaml Notes\n",
    "\n",
    "### Run and Compile OCaml Code\n",
    "\n",
    "#### **Method 1 – Manual compile**\n",
    "\n",
    "```bash\n",
    "ocamlc -o filename.byte filename.ml\n",
    "./filename.byte\n",
    "```\n",
    "\n",
    "#### **Method 2 – Using Dune**\n",
    "\n",
    "```bash\n",
    "# create project file\n",
    "echo \"(lang dune 3.4)\" > dune-project\n",
    "\n",
    "# create build file\n",
    "echo \"(executable (name filename))\" > dune\n",
    "\n",
    "# build, run, clean\n",
    "dune build\n",
    "dune exec ./filename.exe\n",
    "dune clean\n",
    "```\n",
    "\n",
    "---"
   ]
  },
  {
   "cell_type": "markdown",
   "id": "c4fd6924",
   "metadata": {},
   "source": [
    "```ocaml\n",
    "print_endline \"Hello, World!\";;  (* prints and adds a newline. *)\n",
    "\n",
    "print_string \"Hello, World!\";;  (* prints without adding a newline. *)\n",
    "\n",
    "\"Functional \" ^ \"Programming\";; (* string concatenation *)\n",
    "\n",
    "if 5 < 10 then \"Correct\" else \"Incorrect\";;\n",
    "\n",
    "let x = 15;;\n",
    "let y = 5;;\n",
    "x + y;;\n",
    "(* 20 *)\n",
    "\n",
    "(fun x y -> (x +. y) /. 2.);; (* anonymous function for average of two floats *)\n",
    "```\n"
   ]
  }
 ],
 "metadata": {
  "language_info": {
   "name": "python"
  }
 },
 "nbformat": 4,
 "nbformat_minor": 5
}

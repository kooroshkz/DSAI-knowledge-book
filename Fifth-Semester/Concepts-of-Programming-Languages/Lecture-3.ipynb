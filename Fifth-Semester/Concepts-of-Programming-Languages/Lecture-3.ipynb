{
 "cells": [
  {
   "cell_type": "markdown",
   "id": "2b7e4e62",
   "metadata": {},
   "source": [
    "### **Lexical Analysis**\n",
    "**First step of compilation** which converts source code into tokens.\n",
    "\n",
    "\n",
    "### Important terms:\n",
    "\n",
    "* **Lexeme**: The smallest meaningful unit in the source code. Example: `if`, `x`, `42`, `+` are all lexemes.\n",
    "* **Token**: A **category** or **type** that groups lexemes. Example:\n",
    "  * `if` → keyword token\n",
    "  * `x` → identifier token\n",
    "  * `42` → number token\n",
    "  * `+` → operator token\n",
    "* **Lexer** or **Scanner**: Program does lexical analysis, reads source code and produces tokens.\n",
    "  * **Regular Expressions (Regex) Lexer**: Write rules like:\n",
    "   * identifiers = `[a-zA-Z_][a-zA-Z0-9_]*`\n",
    "   * numbers = `[0-9]+`\n",
    "     Then, a program uses these rules to recognize tokens.\n",
    "  * **Finite State Machine (FSM) Lexer**: Build a machine with states and transitions that recognize valid tokens step by step (like following a flowchart of character inputs).\n",
    "  \n",
    "### **Syntax Analysis**\n",
    "After lexical analysis, the **parser** takes a sequence of tokens (from the lexer) and tries to build a structure (parse tree) using those grammar rules. e.g.:\n",
    "```C\n",
    "int x = 42;\n",
    "```\n",
    "Tokens: `int`, `x`, `=`, `42`, `;` then *parser* check if it fits grammar rule like `Statement → Type Identifier '=' Number ';'`, then builds a parse tree.\n",
    "\n",
    "#### Parsing strategies:\n",
    "* **Top-Down Parsing**: Start from the root of the parse tree and try to build it down to the leaves (tokens).\n",
    "* **Bottom-Up Parsing**: Start from the tokens and try to build up to the root of the parse tree.\n",
    "\n",
    "###  Parsing as Graph Search\n",
    "\n",
    "1. **Parsing** = build structure (parse tree) from tokens using grammar.\n",
    "2. **Naive BFS** → explores all possibilities → exponential growth.\n",
    "3. **Prefix test** → cut branches if they don’t match target string’s prefix.\n",
    "4. **Leftmost derivation** = always expand the leftmost non-terminal first.\n",
    "   * Makes search systematic.\n",
    "5. **BFS + Leftmost + Prefix test** → faster, fewer branches.\n",
    "6. **Problem**: Some grammars still blow up (too many useless branches)."
   ]
  },
  {
   "cell_type": "markdown",
   "id": "72287c31",
   "metadata": {
    "vscode": {
     "languageId": "plaintext"
    }
   },
   "source": [
    "- **Recursive Descent Parsing**: A top-down parsing method with DFS instead of BFS using recursion. Each non-terminal in the grammar has a function. Each rule is handled by code inside that function.\n",
    "    - **Problem**: Infinite recursion $\\to$ Solution:  **Left recursion**.\n",
    "- **Left Recursion**: A grammar is left recursive if a non-terminal A can eventually derive a form starting with itself $A ⇒^* Aγ$ where $⇒^*$ means in zero or more steps\n",
    "    - Direct left recursion: $A ⇒ Aγ$\n",
    "    - Indirect left recursion: $A ⇒^* Aγ$\n",
    "    - **Problem**: Left recursion causes infinite recursion in recursive descent parsing.\n",
    "    - **Solution**: Eliminate left recursion by rewriting rules. Remove Direct Left Recursion:\n",
    "\n",
    "Suppose we have:\n",
    "\n",
    "```\n",
    "A ::= Aα1 | Aα2 | ... | Aαn | β1 | ... | βk\n",
    "```\n",
    "\n",
    "We rewrite as:\n",
    "\n",
    "```\n",
    "A ::= β1A' | β2A' | ... | βkA'\n",
    "A' ::= α1A' | α2A' | ... | αnA' | ε\n",
    "```\n",
    "\n",
    "Where `Aα1,...` are Left Recursive productions and `β1,...` are Non-Left Recursive productions.\n",
    "\n",
    "---"
   ]
  },
  {
   "cell_type": "markdown",
   "id": "c496515c",
   "metadata": {},
   "source": [
    "#### Predictive Parser\n",
    "\n",
    "BFS, DFS are slow due to backtracking. A **lookahead parser** peeks at the next token to decide which rule to apply, reducing backtracking.\n",
    "\n",
    "#### One-step lookahead\n",
    "* We define FIRST(γ) which is the set of terminals (tokens) that can appear first if we derive γ.\n",
    "* Rule for $LL(1)$ grammar :\n",
    "    - First L, parse from left-to-right and second creates the leftmost derivation (**Left recursion test**)\n",
    "    - If $A \\rightarrow \\alpha$, $A \\rightarrow \\beta$ then $FIRST(\\alpha) \\cap FIRST(\\beta) = \\emptyset$ (**pairwise disjointness test**)\n",
    "* **LL(k) Parsers** use k tokens of lookahead to decide which rule to apply which is more powerful but more complex.\n"
   ]
  },
  {
   "cell_type": "markdown",
   "id": "e589b796",
   "metadata": {},
   "source": [
    "---\n",
    "\n",
    "### Lambda Expressions\n",
    "\n",
    "- **Variables**: x, y, z, ...\n",
    "- **Abstraction**: λx.E (function with parameter x and body E)\n",
    "- **Application**: (E1 E2) (apply function E1 to argument E2)\n",
    "    - Left associative: E1 E2 E3 = ((E1 E2) E3)\n",
    "    - Higher precedence than abstraction: λx.E1 E2 = λx.(E1 E2)"
   ]
  },
  {
   "cell_type": "markdown",
   "id": "28b887c5",
   "metadata": {},
   "source": [
    "---\n",
    "\n",
    "### Excercises\n",
    "\n",
    "---\n",
    "\n",
    "<img src=\"../../Files/fifth-semester/CoPL/3.png\" alt=\"Lexical and Syntax Analysis Summary\" width=\"600\"/>\n",
    "\n",
    "A grammar rule is left-recursive if a nonterminal can call itself at the very left of a production, like A → A α\n",
    "\n",
    "**Indirect left recursion**:\n",
    "\n",
    "$ A ::= Bb | c $\n",
    "\n",
    "$ B ::= A | a $\n",
    "\n",
    "---\n",
    "\n"
   ]
  },
  {
   "cell_type": "markdown",
   "id": "806907d4",
   "metadata": {
    "vscode": {
     "languageId": "plaintext"
    }
   },
   "source": [
    "**Question:**\n",
    "Does the following grammar satisfy the *pairwise disjointness test*?\n",
    "\n",
    "$$\n",
    "\\begin{aligned}\n",
    "A &::= aB \\mid b \\mid cBB \\\\\n",
    "B &::= aB \\mid bA \\mid aBb \\\\\n",
    "C &::= aaA \\mid b \\mid caB\n",
    "\\end{aligned}\n",
    "$$\n",
    "\n",
    "\n",
    "**Answer:**\n",
    "No, it does not.\n",
    "For the nonterminal **B**, two of its rules cause overlap: $\n",
    "FIRST(aB) \\cap FIRST(aBb) = { a } $ \n",
    "So the grammar fails the pairwise disjointness test.\n",
    "\n",
    "#### Pairwise Disjointness Test\n",
    "It’s a test used in LL(1) grammars (the kind used by top-down parsers) to check if the grammar is **predictive**: meaning the parser can always decide which rule to use just by looking at the next input symbol.\n",
    "\n",
    "For a nonterminal like `A`, suppose it has many rules:\n",
    "\n",
    "```\n",
    "A → α₁ | α₂ | α₃ | ...\n",
    "```\n",
    "\n",
    "Then the grammar passes the **pairwise disjointness test** if the **FIRST sets** of all right-hand sides are **disjoint** — i.e., no overlap.\n",
    "\n",
    "Formally:\n",
    "\n",
    "```\n",
    "For every pair (αᵢ, αⱼ),  FIRST(αᵢ) ∩ FIRST(αⱼ) = ∅\n",
    "```\n",
    "\n",
    "If two rules start with something that can begin with the same terminal, the parser won’t know which rule to pick →  fails the test.\n",
    "\n",
    "---\n"
   ]
  },
  {
   "cell_type": "markdown",
   "id": "efcfad0f",
   "metadata": {},
   "source": [
    "<img src=\"../../Files/fifth-semester/CoPL/4.png\" alt=\"Pairwise Disjointness Test Example\" width=\"600\"/>"
   ]
  },
  {
   "cell_type": "markdown",
   "id": "400361cc",
   "metadata": {
    "vscode": {
     "languageId": "plaintext"
    }
   },
   "source": [
    "---\n",
    "\n"
   ]
  },
  {
   "cell_type": "markdown",
   "id": "4da9cef0",
   "metadata": {},
   "source": [
    "<img src=\"../../Files/fifth-semester/CoPL/5.png\" alt=\"Pairwise Disjointness Test Example\" width=\"600\"/>\n",
    "<br>\n",
    "<img src=\"../../Files/fifth-semester/CoPL/6.png\" alt=\"Pairwise Disjointness Test Example\" width=\"600\"/>"
   ]
  }
 ],
 "metadata": {
  "language_info": {
   "name": "python"
  }
 },
 "nbformat": 4,
 "nbformat_minor": 5
}

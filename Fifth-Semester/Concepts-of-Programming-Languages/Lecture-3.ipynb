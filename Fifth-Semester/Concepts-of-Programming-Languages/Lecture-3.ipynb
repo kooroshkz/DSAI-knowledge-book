{
 "cells": [
  {
   "cell_type": "markdown",
   "id": "2b7e4e62",
   "metadata": {},
   "source": [
    "### **Lexical Analysis**\n",
    "**First step of compilation** which converts source code into tokens.\n",
    "\n",
    "\n",
    "### Important terms:\n",
    "\n",
    "* **Lexeme**: The smallest meaningful unit in the source code. Example: `if`, `x`, `42`, `+` are all lexemes.\n",
    "* **Token**: A **category** or **type** that groups lexemes. Example:\n",
    "  * `if` → keyword token\n",
    "  * `x` → identifier token\n",
    "  * `42` → number token\n",
    "  * `+` → operator token\n",
    "* **Lexer** or **Scanner**: Program does lexical analysis, reads source code and produces tokens.\n",
    "  * **Regular Expressions (Regex) Lexer**: Write rules like:\n",
    "   * identifiers = `[a-zA-Z_][a-zA-Z0-9_]*`\n",
    "   * numbers = `[0-9]+`\n",
    "     Then, a program uses these rules to recognize tokens.\n",
    "  * **Finite State Machine (FSM) Lexer**: Build a machine with states and transitions that recognize valid tokens step by step (like following a flowchart of character inputs).\n",
    "  \n",
    "### **Syntax Analysis**\n",
    "After lexical analysis, the **parser** takes a sequence of tokens (from the lexer) and tries to build a structure (parse tree) using those grammar rules. e.g.:\n",
    "```C\n",
    "int x = 42;\n",
    "```\n",
    "Tokens: `int`, `x`, `=`, `42`, `;` then *parser* check if it fits grammar rule like `Statement → Type Identifier '=' Number ';'`, then builds a parse tree.\n",
    "\n",
    "#### Parsing strategies:\n",
    "* **Top-Down Parsing**: Start from the root of the parse tree and try to build it down to the leaves (tokens).\n",
    "* **Bottom-Up Parsing**: Start from the tokens and try to build up to the root of the parse tree.\n",
    "\n",
    "###  Parsing as Graph Search\n",
    "\n",
    "1. **Parsing** = build structure (parse tree) from tokens using grammar.\n",
    "2. **Naive BFS** → explores all possibilities → exponential growth.\n",
    "3. **Prefix test** → cut branches if they don’t match target string’s prefix.\n",
    "4. **Leftmost derivation** = always expand the leftmost non-terminal first.\n",
    "   * Makes search systematic.\n",
    "5. **BFS + Leftmost + Prefix test** → faster, fewer branches.\n",
    "6. **Problem**: Some grammars still blow up (too many useless branches)."
   ]
  },
  {
   "cell_type": "markdown",
   "id": "72287c31",
   "metadata": {
    "vscode": {
     "languageId": "plaintext"
    }
   },
   "source": [
    "- **Recursive Descent Parsing**: A top-down parsing method with DFS instead of BFS using recursion. Each non-terminal in the grammar has a function. Each rule is handled by code inside that function.\n",
    "    - **Problem**: Infinite recursion $\\to$ Solution:  **Left recursion**.\n",
    "- **Left Recursion**: A grammar is left recursive if a non-terminal A can eventually derive a form starting with itself $A ⇒^* Aγ$ where $⇒^*$ means in zero or more steps\n",
    "    - Direct left recursion: $A ⇒ Aγ$\n",
    "    - Indirect left recursion: $A ⇒^* Aγ$\n",
    "    - **Problem**: Left recursion causes infinite recursion in recursive descent parsing.\n",
    "    - **Solution**: Eliminate left recursion by rewriting rules. Remove Direct Left Recursion:\n",
    "\n",
    "Suppose we have:\n",
    "\n",
    "```\n",
    "A ::= Aα1 | Aα2 | ... | Aαn | β1 | ... | βk\n",
    "```\n",
    "\n",
    "(where each `β` does NOT start with `A`).\n",
    "\n",
    "We rewrite as:\n",
    "\n",
    "```\n",
    "A  ::= β1Â | β2Â | ... | βkÂ\n",
    "Â  ::= α1Â | α2Â | ... | αnÂ | ε\n",
    "```\n",
    "\n",
    "(Â is a new non-terminal, and ε = empty string).\n",
    "\n",
    "---"
   ]
  },
  {
   "cell_type": "markdown",
   "id": "c496515c",
   "metadata": {},
   "source": [
    "#### Predictive Parser\n",
    "\n",
    "BFS, DFS are slow due to backtracking. A **lookahead parser** peeks at the next token to decide which rule to apply, reducing backtracking.\n",
    "\n",
    "#### One-step lookahead\n",
    "* We define FIRST(γ) which is the set of terminals (tokens) that can appear first if we derive γ.\n",
    "* Rule for $LL(1)$ grammar:\n",
    "    - First L, parse from left-to-right and second creates the leftmost derivation\n",
    "    - If $A \\rightarrow \\alpha$, $A \\rightarrow \\beta$ then $FIRST(\\alpha) \\cap FIRST(\\beta) = \\emptyset$\n",
    "* **LL(k) Parsers** use k tokens of lookahead to decide which rule to apply which is more powerful but more complex.\n"
   ]
  }
 ],
 "metadata": {
  "language_info": {
   "name": "python"
  }
 },
 "nbformat": 4,
 "nbformat_minor": 5
}

{
 "cells": [
  {
   "cell_type": "markdown",
   "id": "e4b4749b",
   "metadata": {},
   "source": [
    "### Formal Grammar Components\n",
    "- **1. Metalanguage**: Language used to describe another language (English for programming languages)\n",
    "- **2. Object Language**: The language being described (Python, Java, etc.)\n",
    "- **3. Terminal**: The smallest symbols of the object language (e.g., `2`, `+`, `3`)\n",
    "- **4. Non-terminal**: Placeholder symbols (e.g., `<expression>`, `<number>`)\n",
    "- **5. Rule (Production)**: A way to replace a non-terminal with other symbols (terminals or non-terminals). (e.g., `<expression> → <number> + <number>`, `<number> → 2 | 3`)\n",
    "- **6. Derivation (Parse)**: The step-by-step process of applying rules until only terminals remain.\n",
    "- **7. Start Symbol**: The main non-terminal we begin with.\n",
    "\n",
    "- **Lexical ambiguity**, arising from multiple meanings of words like \"I saw a bat\" (the animal or the sporting equipment)\n",
    "- **Syntactical ambiguity**, where the grammatical structure allows for different interpretations (or parse trees) like \"I saw the man with the telescope.\"\n"
   ]
  },
  {
   "cell_type": "markdown",
   "id": "7a4f8c1c",
   "metadata": {
    "vscode": {
     "languageId": "plaintext"
    }
   },
   "source": [
    "### Chomsky Hierarchy\n",
    "\n",
    "- **Type-0: Unrestricted (Free Grammar - Most Complex and General)**: Like Universal languages (can describe any computable language)\n",
    "- **Type-1: Context-Sensitive Grammar (CSG)**: Rules depend on surrounding symbols (e.g., `A B C → A D C` if `B` is in a certain context, e.g.: Grammar for natural languages)\n",
    "- **Type-2: Context-Free Grammar (CFG)**: Rules are applied regardless of context (e.g., `A → B C`, e.g.: Grammar for arithmetic expressions) $\\to$ **Most programming languages**\n",
    "- **Type-3: Regular Grammar**: Simplest form, rules are linear (e.g., `A → aB | b`, e.g.: Grammar for making postaddresses)"
   ]
  },
  {
   "cell_type": "markdown",
   "id": "f7d7e1b9",
   "metadata": {
    "vscode": {
     "languageId": "plaintext"
    }
   },
   "source": [
    "### **Ambiguity**\n",
    "When there is a sentence which has more than one parse tree. $/$to$ no algorithm can determine if a grammar is ambiguous or not.\n",
    "\n",
    "<img src=\"../../Files/fifth-semester/CoPL/1.png\" alt=\"Ambiguity Example\" style=\"width:400px;\">\n",
    "\n",
    "### **Associativity**\n",
    "\n",
    "* A binary operator ($\\oplus$) can be:\n",
    "  * **Left-associative**: $A \\oplus B \\oplus C = (A \\oplus B) \\oplus C$\n",
    "  * **Right-associative**: $A \\oplus B \\oplus C = A \\oplus (B \\oplus C)$\n",
    "  * **Associative**: $(A \\oplus B) \\oplus C = A \\oplus (B \\oplus C)$\n",
    "\n",
    "### **Precedence**\n",
    "\n",
    "* If there are two binary operators, $\\oplus$ and $\\otimes$:\n",
    "    - $\\otimes$ has **higher precedence** than $\\oplus$ if:\n",
    "        - $A \\oplus B \\otimes C = A \\oplus (B \\otimes C)$\n",
    "        - Meaning: do $\\otimes$ first before $\\oplus$.\n"
   ]
  },
  {
   "cell_type": "markdown",
   "id": "5f7a65d7",
   "metadata": {
    "vscode": {
     "languageId": "plaintext"
    }
   },
   "source": [
    "---\n",
    "\n",
    "### Excercises\n",
    "\n",
    "---\n",
    "\n",
    "1- Write a grammar for the language consisting of strings that have n number of copies of the letter a followed by n + 1 copies of the letter b, where n > 0.\n",
    "\n",
    "```\n",
    "S → a S b | a b b # Many other solutions are possible\n",
    "```\n",
    "---"
   ]
  },
  {
   "cell_type": "markdown",
   "id": "fae2b12a",
   "metadata": {
    "vscode": {
     "languageId": "plaintext"
    }
   },
   "source": [
    "2 - Given the following grammar:\n",
    "\n",
    "$\n",
    "S ::= \\; skip \\; \\mid \\; S;S \\; \\mid \\; x := T\n",
    "$\n",
    "\n",
    "$\n",
    "T ::= \\; x \\; \\mid \\; n \\; \\mid \\; (T+T) \\; \\mid \\; (T \\times T)\n",
    "$\n",
    "\n",
    "where $x$ stands for any variable name, and $n$ for any number draw the parse tree for the following expression: $x := y; y := (x + 6) ; skip$\n",
    "<img src=\"../../Files/fifth-semester/CoPL/2.png\" alt=\"Parse Tree Example\" style=\"width:400px;\">\n"
   ]
  }
 ],
 "metadata": {
  "language_info": {
   "name": "python"
  }
 },
 "nbformat": 4,
 "nbformat_minor": 5
}

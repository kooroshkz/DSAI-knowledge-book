{
 "cells": [
  {
   "cell_type": "markdown",
   "id": "ecb112e1",
   "metadata": {},
   "source": [
    "- **Datasheets for datasets**:\n",
    "    - **Motivation**\n",
    "    - **Dataset composition** (recommended splits, evaluation metrics)\n",
    "    - **Data collection process** (time period, sampling strategy, participant information)\n",
    "    - **Legal & Ethical considerations** (Connsent obtained, privacy, compliance with GDPR)\n",
    "- **Annotator aggregation**: Combine annotations from multiple annotators to improve reliability and reduce bias. We call this term one model and is usally done with **mean** to calculate a single **gold score**.\n",
    "- **Ablation studies** with methods like **BackFlip** to understand the impact of different components in the model."
   ]
  }
 ],
 "metadata": {
  "language_info": {
   "name": "python"
  }
 },
 "nbformat": 4,
 "nbformat_minor": 5
}

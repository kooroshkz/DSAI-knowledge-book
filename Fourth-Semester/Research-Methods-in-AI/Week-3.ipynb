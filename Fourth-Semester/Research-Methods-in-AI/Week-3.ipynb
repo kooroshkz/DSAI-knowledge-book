{
 "cells": [
  {
   "cell_type": "markdown",
   "id": "f51add83",
   "metadata": {},
   "source": [
    "- **The Empirical Cycle**\n",
    "    - **Observation**: You notice something interesting or strange.\n",
    "    - **Induction**: You form a hypothesis based on your observations.\n",
    "    - **Deduction**: Make testable predictions from your hypothesis.\n",
    "    - **Testing**: You conduct experiments or gather data to test your predictions.\n",
    "    - **Evaluation**: Analyze the results to see if they support or refute your hypothesis.\n",
    "\n",
    "- **Fraud** in resarch:\n",
    "    - **Fabrication**: Making up data or results.\n",
    "    - **Falsification**: Manipulating research materials, equipment, or processes to misrepresent results.\n",
    "    - **Plagiarism**: Using someone else's work or ideas without proper attribution.\n",
    "\n",
    "- **Questionable research practices (QRPs)**\n",
    "    - **Inappropriate publication practices**: How you publish and present results\n",
    "        - **Salami slicing**: Publishing multiple papers from the same dataset (Wastes journal space, overstates how much evidence exists.)\n",
    "        - **HARKing** (Hypothesizing After the Results are Known): Hypothesizing After Results are Known (Turns an exploratory finding into a fake “confirmation”; inflates confidence.)\n",
    "        - **Selective reporting**: Only reporting results that support your hypothesis (Gives a false success rate; readers think the effect is stronger than it really is.)\n",
    "        - **Cherry-picking**: Selectively reporting results that support your hypothesis\n",
    "    - **Messing up the empirical cycle**: Skipping or re-using steps of the research process\n",
    "        - **re-testing old data without new data**: Using old data to test new hypotheses without collecting new data (results aren’t truly confirmed.)\n",
    "    - **P-hacking**: Tweaking the analysis until the p-value < 0.05\n",
    "        - **rounding p**: Rounding p-values to make them appear significant\n",
    "        **changing outlier rules**: Altering how outliers are defined to affect results"
   ]
  }
 ],
 "metadata": {
  "language_info": {
   "name": "python"
  }
 },
 "nbformat": 4,
 "nbformat_minor": 5
}

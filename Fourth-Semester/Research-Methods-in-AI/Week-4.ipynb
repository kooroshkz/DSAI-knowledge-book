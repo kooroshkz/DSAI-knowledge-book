{
 "cells": [
  {
   "cell_type": "markdown",
   "id": "1e11f0cf",
   "metadata": {},
   "source": [
    "- **Quality of outlets and publications**:\n",
    "    - “Impact factor”: how often are papers in a certain outlet (journal, conference, etc.) cited\n",
    "    - “H-index”: h papers that have each been cited at least h times\n",
    "- **Predatory journals**:\n",
    "    - No legit quality control\n",
    "    - Fast publication times\n",
    "    - Charging a (small) fee\n",
    "- **Paper Mill**: Companies or groups that make fake research papers for people with plagiarism or make up results that are not real (fabrication).\n",
    "- **Conference proceedings**:\n",
    "    - Find a good place to publish (venue or outlet like a journal or conference)\n",
    "    - meta-reviewer checks the reviews and makes a decision\n",
    "    - **Desk rejection** if wasn's a good fit\n",
    "    - Else, editor sends it to 1 to 4 peer reviewers to evaluate it carefully\n",
    "        - **Peer review**:\n",
    "            - **Single-blind**: reviewers know the authors, but not vice versa\n",
    "            - **Double-blind**: neither reviewers nor authors know each other\n",
    "            - **Open review**: both know each other\n",
    "            - Reviewers are not paid, and don't asses **reproducibility** (can the results be reproduced by others)\n",
    "- **Null effects**: when the results show no significant or intresting effect, often not published  \n",
    "    - **post-hoc explanations**: explanations after the fact, often not very convincing\n",
    "- **QRP** will make cognitive biases like **Confirmation bias** or **Hindsight bias** (after something happens people start saying: Yeah I could feel it was going to be like that)\n",
    "\n",
    "- **Consequences of QRPs**: Replicability issues, Overestimation performance, Distrust in science\n",
    "- **Avoid QRPs**:\n",
    "    - **Better training**: for researchers, reviewers, and editors\n",
    "    - **21-word solution**: Always say how you chose sample size, removed data, changed methods, and measured things.\n",
    "        - **Error of omission** = forgetting or leaving something out by mistake.\n",
    "        - **Error of commission** = doing something wrong or wrongfully on purpose.\n",
    "    - **Blind analysis**\n",
    "    - **Preregistration**: Write your study plan before starting to prevent changing it later.\n",
    "        - Develop Idea $\\to$ Design Study $\\to Peer review 1 $\\to$ Data collection $\\to$ Write Report $\\to$ Peer review 2  $\\to$ Publish\n",
    "    - **Multiverse or sensitivity analysis:** Checking results using different methods or ways of analyzing data to see if the findings stay the same and are reliable."
   ]
  }
 ],
 "metadata": {
  "language_info": {
   "name": "python"
  }
 },
 "nbformat": 4,
 "nbformat_minor": 5
}

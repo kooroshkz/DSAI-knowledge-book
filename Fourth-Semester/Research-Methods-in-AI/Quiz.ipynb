{
 "cells": [
  {
   "cell_type": "markdown",
   "id": "5be7e486",
   "metadata": {},
   "source": [
    "#### 1- In statistics, what is a type I (type 1) error?\n",
    "- A. $H_0$ is rejected, while $H_0$ is true.\n",
    "- B. $H_a$ is rejected, while $H_a$ is true.\n",
    "- C. $H_0$ is retained, while $H_0$ is true.\n",
    "- D. $H_a$ is retained, while $H_a$ is true.\n",
    "\n",
    "#### 2- Practically (perhaps unjustly), the most important numbers in statistics are p-values. Which of the following statements about the p-value is most correct?\n",
    "##### The p-value is a probability statement about...\n",
    "- A. the null hypothesis.\n",
    "- B. the alternative hypothesis.\n",
    "- C. the data.\n",
    "- D. making type I errors.\n",
    "\n",
    "#### 3- If the null-hypothesis is true (so “no pattern in the data”), what should the distribution of the p-value look like?\n",
    "![](../../Files/fourth-semester/rm/1.png)\n",
    "\n",
    "#### 4. Why is sequential testing with optional stopping considered a questionable research practice?\n",
    "- A. Because it increases the sample size of a study by a considerable amount\n",
    "- B. Because it increases the Type II error rate of a study by a considerable amount\n",
    "- C. Because it increases the risk of incorrectly rejecting the null hypothesis by a considerable amount\n",
    "- D. Because it increases the length of the empirical cycle by a considerable amount\n",
    "\n",
    "#### 5. Why does HARKing mess up the empirical cycle?\n",
    "- A. Because one generates a hypothesis and tests that hypothesis on the same dataset\n",
    "- B. Because one does not collect any new data at any point of the empirical cycle\n",
    "- C. Because one essentially switches the order of the deduction and the induction phase\n",
    "- D. Because one creates an unwanted feedback loop between the evaluation and the testing phase\n",
    "\n",
    "#### 6. Which statement about pre-registration is correct?\n",
    "- A. Pre-registration is an example of a Registered Report\n",
    "- B. Pre-registration mainly aims to reduce the Type 2 error rate\n",
    "- C. Pre-registration is a requirement when proposing an AI application\n",
    "- D. Pre-registration can protect researchers against cognitive biases\n",
    "\n",
    "#### 7. Silberzahn, Nosek and colleagues, examined whether soccer referees were more likely to hand out red cards to dark-skinned players. They asked 29 teams to investigate this question, and the results differed considerably. Why was that the case?\n",
    "- A. Because some teams committed fraud to reach a desirable conclusion\n",
    "- B. Because the teams analyzed different datasets\n",
    "- C. Because the teams performed different analyses\n",
    "- D. Because the teams performed the same analyses, but some teams made mistakes\n",
    "\n",
    "#### 8. What is an advantage of articles published in high-impact journals compared to pre-prints?\n",
    "- A. The reproducibility of the results are checked\n",
    "- B. Quick dissemination of findings\n",
    "- C. Paper is freely available for everyone to read\n",
    "- D. None of the above\n",
    "\n",
    "#### 9. What is the relationship between reproducibility and replicability?\n",
    "- A. Reproducibility is a special case of replicability\n",
    "- B. Replicability is a special case of reproducibility\n",
    "- C. They are complementary aspects\n",
    "- D. They are mutually exclusive, i.e. only one aspect can be satisfied\n",
    "\n",
    "#### 10. What is reason for using seed-averaging when training a neural network model?\n",
    "- A. To ensure label balance\n",
    "- B. To ensure the highest performance\n",
    "- C. To ensure a fair reporting of performance\n",
    "- D. To ensure fair data shuffling"
   ]
  },
  {
   "cell_type": "markdown",
   "id": "eca70d24",
   "metadata": {
    "vscode": {
     "languageId": "plaintext"
    }
   },
   "source": [
    "##### Answers\n",
    "\n",
    "1- A, 2- C, 3- A, 4- C, 5- A, 6- D, 7- C, 8- D, 9- C, 10- C"
   ]
  }
 ],
 "metadata": {
  "language_info": {
   "name": "python"
  }
 },
 "nbformat": 4,
 "nbformat_minor": 5
}

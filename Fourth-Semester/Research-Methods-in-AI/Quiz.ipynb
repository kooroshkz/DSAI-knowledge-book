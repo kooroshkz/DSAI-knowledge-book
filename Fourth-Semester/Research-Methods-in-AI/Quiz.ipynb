{
 "cells": [
  {
   "cell_type": "markdown",
   "id": "5be7e486",
   "metadata": {},
   "source": [
    "#### 1- In statistics, what is a type I (type 1) error?\n",
    "- A. $H_0$ is rejected, while $H_0$ is true.\n",
    "- B. $H_a$ is rejected, while $H_a$ is true.\n",
    "- C. $H_0$ is retained, while $H_0$ is true.\n",
    "- D. $H_a$ is retained, while $H_a$ is true.\n",
    "\n",
    "#### 2- Practically (perhaps unjustly), the most important numbers in statistics are p-values. Which of the following statements about the p-value is most correct?\n",
    "##### The p-value is a probability statement about...\n",
    "- A. the null hypothesis.\n",
    "- B. the alternative hypothesis.\n",
    "- C. the data.\n",
    "- D. making type I errors.\n",
    "\n",
    "#### 3- If the null-hypothesis is true (so “no pattern in the data”), what should the distribution of the p-value look like?\n",
    "![](../../Files/fourth-semester/rm/1.png)\n"
   ]
  },
  {
   "cell_type": "markdown",
   "id": "eca70d24",
   "metadata": {
    "vscode": {
     "languageId": "plaintext"
    }
   },
   "source": [
    "##### Answers\n",
    "\n",
    "1- A, 2- C, 3- A"
   ]
  }
 ],
 "metadata": {
  "language_info": {
   "name": "python"
  }
 },
 "nbformat": 4,
 "nbformat_minor": 5
}

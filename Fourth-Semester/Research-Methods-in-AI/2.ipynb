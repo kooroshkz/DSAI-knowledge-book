{
 "cells": [
  {
   "cell_type": "markdown",
   "id": "8ad36cb2",
   "metadata": {},
   "source": [
    "**Replicability** means you can take the same data and the same analysis code and get the exact same results.\n",
    "**Reproducibility** means an independent team can run a new version of the experiment—collect fresh data under the same methods—and arrive at similar conclusions.\n"
   ]
  }
 ],
 "metadata": {
  "language_info": {
   "name": "python"
  }
 },
 "nbformat": 4,
 "nbformat_minor": 5
}

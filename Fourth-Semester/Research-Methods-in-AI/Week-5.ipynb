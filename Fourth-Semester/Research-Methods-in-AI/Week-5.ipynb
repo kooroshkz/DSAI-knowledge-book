{
 "cells": [
  {
   "cell_type": "markdown",
   "id": "6bd05ec4",
   "metadata": {},
   "source": [
    "- **Challenges of open data**:\n",
    "    - **No time**: after a study is done the next one needs to start (publish or perish)\n",
    "    - **No access**: computer crash, collaborator left…\n",
    "    - **Privacy**: no consent to share the data was asked\n",
    "    - **Proprietary data**: companies don’t want to share their data\n",
    "- **Reproducibility:** Uses the same data and tools as the first study, they should get the same results.\n",
    "- **Replicability:** Follows the same steps as the first study but collects new data, they should get similar results.\n",
    "- **Avoid Cherry Picking** $\\to$ Seed-averaging \n",
    "- **Paper review checklist**:\n",
    "    - **General Content**: Introduction point to RQ, Main finding is clear\n",
    "    - **Scientific Artifacts**: They refrenced artifacts and licenses\n",
    "    - **Computational Experiments**: Clear results and analysis\n",
    "    - **Human Participants**: Info on participants demographic and recruitment\n",
    "    - **AI assistance**\n",
    "\n",
    "- **The Research Proposal**:\n",
    "    - **Motivation**: Research idea and executive summary\n",
    "    - **Application**: For thesis and funding\n",
    "    - **Types**:\n",
    "        - Reproduce/replicate\n",
    "        - Same method in new domain\n",
    "        - New theoretical framework\n",
    "    - **Structure**:\n",
    "        - Background/context\n",
    "        - Research questions\n",
    "        - Contributions: New things or knowledge your research will add to science\n",
    "        - Methodology\n",
    "        - Planning\n",
    "        - Resources\n",
    "\n",
    "- **SMART Proposal**: Specific, Measurable, Achievable, Relevant, Time-bound\n"
   ]
  }
 ],
 "metadata": {
  "language_info": {
   "name": "python"
  }
 },
 "nbformat": 4,
 "nbformat_minor": 5
}

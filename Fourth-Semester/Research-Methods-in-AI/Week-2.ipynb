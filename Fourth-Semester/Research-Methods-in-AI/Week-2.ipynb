{
 "cells": [
  {
   "cell_type": "markdown",
   "id": "de2cb443",
   "metadata": {},
   "source": [
    "- **Frequentist testing steps**\n",
    "    - Make hypotheses\n",
    "        - One sided: H0 $\\to$ Apple is faster than Xiaomi ($H_0 : \\mu_A > \\mu_X$)\n",
    "        - Two sided: H0 $\\to$ One of Apple or Xiaomi is faster than the other. ($H_0 : \\mu_A \\neq \\mu_X$)\n",
    "    - Collect data\n",
    "    - Calculate statistics\n",
    "    - Inference\n",
    "    - Draw conclusions\n"
   ]
  },
  {
   "cell_type": "markdown",
   "id": "7121e7ec",
   "metadata": {
    "vscode": {
     "languageId": "plaintext"
    }
   },
   "source": [
    "- **t-test**: number that tells us how far our sample result is from what the null hypothesis expects\n",
    "    - Standard Error $(SE) = \\frac{\\sigma}{\\sqrt{n}}$\n",
    "    - $t = \\frac{\\bar{x} - \\mu}{SE} = \\frac{\\text{observed difference} - \\text{expected difference (from } H_0\\text{)}}{\\text{standard error}}$\n",
    "    - Where $\\bar{x}$ is the sample mean, $\\mu$ is the population mean.\n",
    "\n",
    "- **Tests**:\n",
    "    - **One-sample t-test**: Checks if the mean of your sample is equal to some specific value.\n",
    "        - **Null hypothesis**: The average value in the population is equal to a known number.\n",
    "        - **Formula**: $t = \\frac{\\bar{x} - \\mu_{null}}{SE}$\n",
    "    - **Chi-squared test for independence**\n",
    "        - **Null hypothesis**: The two categorical variables are independent.\n",
    "        - **Formula**: $X^2 = \\sum \\frac{(Observed - Expect)^2}{E}$\n",
    "    - **Two-sample t-test for independent samples**\n",
    "        - **Null hypothesis**: The means of two independent groups are equal.\n",
    "        - **Formula**: $t = \\frac{\\bar{x}_1 - \\bar{x}_2}{SE}$, where $SE$ is the standard error of the difference between the two means.\n",
    "    - **Two-sample t-test for paired samples**\n",
    "        - **Null hypothesis**: The means of two related groups are equal.\n",
    "        - **Formula**: $t = \\frac{\\bar{d}}{SE_d}$, where $\\bar{d}$ is the mean of the differences and $SE_d$ is the standard error of the differences.\n",
    "    - **Linear regression**\n",
    "\n",
    "- **Types of distributions**:\n",
    "    - **Population distribution**: The distribution of a variable in the entire population.\n",
    "    - **Sample distribution**: The distribution of a variable in a specific sample.\n",
    "    - **Sampling distribution**: The distribution of a statistic (like the sample mean) across all possible samples of a given size from the population.\n",
    "\n",
    "- **Central Limit Theorem**: Sample means form a normal shape, even if the data isn’t normal\n",
    "\n",
    "- **p-value**: The chance of observing the data (if low chance, we reject null hypothesis)\n",
    "- **Errors**:\n",
    "    - **Type I error**: Rejecting the null hypothesis when it is true (false positive).\n",
    "    - **Type II error**: Failing to reject the null hypothesis when it is false (false negative).\n",
    "        - **Power**: The probability of correctly rejecting a false null hypothesis (1 - Type II error rate).\n",
    "        - Chance that a test correctly finds a real effect when there actually is one.\n",
    "\n"
   ]
  }
 ],
 "metadata": {
  "language_info": {
   "name": "python"
  }
 },
 "nbformat": 4,
 "nbformat_minor": 5
}

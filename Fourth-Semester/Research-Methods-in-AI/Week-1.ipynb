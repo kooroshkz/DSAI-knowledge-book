{
 "cells": [
  {
   "cell_type": "markdown",
   "id": "42d499eb",
   "metadata": {},
   "source": [
    "- **Statistics** $\\to$ independent variables (features)\n",
    "- **Machine Learning** $\\to$ dependent variable (label/outcome)\n",
    "- **Simulating data**:\n",
    "    - Test method performance with known truth\n",
    "    - Test analysis before having real data\n",
    "    - Forces you to consider all assumptions\n",
    "- **Random Variables**:\n",
    "    - You don’t know its value until you *observe* or *sample* it.\n",
    "    - The value is not fixed, it can change and depends on some random process.\n",
    "    - Each value has a probability of happening (based on its distribution).\n",
    "- **Categorical Variables**: with BarPlots (frequency counts)\n",
    "    - **Nominal**: Just names, no order (e.g., color, Gender).\n",
    "        - Can have **Median** and **Mode**.\n",
    "    - **Ordinal**: ordered categories (e.g., BSc < MSc < PhD rating scales like 1-5 stars).\n",
    "- **Numerical Variables**:\n",
    "    - **Interval**: Continuous values with meaningful differences (e.g., temperature, time).\n",
    "    - **Ratio**: Like interval but with a true zero point. We can multiply and devide (e.g., weight, price).\n",
    "\n",
    "- For Numerical Variables, **BarPlots** are not appropriate, use **Histograms** or **BoxPlots** instead.\n",
    "- **Density plots**: Linear curved Histograms, Like moving average.\n",
    "    - **Kernel Density Plot**: The total area under the curve is 1.\n",
    "- **Probability Distributions**:\n",
    "    - **Continuous** $\\to$ Use Probability Density Function (PDF) like **Normal Distribution**.\n",
    "    - **Discrete** $\\to$ Use Probability Mass Function (PMF) like **Binomial Distribution**.\n",
    "\n",
    "- **Bivariate**: describe two variables like **Correlation** unlike univariate.\n",
    "\n",
    "- **Variance**: Measure of how much the values of a variable differ from the mean.\n",
    "    - The variance ($s^2$) is the square of the standard deviation ($s$)\n",
    "    - $s^2 = \\frac{1}{n-1} \\sum_{i=1}^{n} (x_i - \\bar{x})^2$\n",
    "- **Standard Deviation**: Square root of variance, gives a sense of spread in the same units as the data.\n"
   ]
  },
  {
   "cell_type": "markdown",
   "id": "6c7ced63",
   "metadata": {
    "vscode": {
     "languageId": "plaintext"
    }
   },
   "source": [
    "- **Cross-table** (Contingency Table): for categorical variables\n",
    "<table border=\"1\" style=\"border-collapse: collapse; text-align: center;\">\n",
    "  <tr>\n",
    "    <th></th>\n",
    "    <th>fail</th>\n",
    "    <th>pass</th>\n",
    "    <th></th>\n",
    "  </tr>\n",
    "  <tr>\n",
    "    <th>cat</th>\n",
    "    <td>14</td>\n",
    "    <td>6</td>\n",
    "    <td>20</td>\n",
    "  </tr>\n",
    "  <tr>\n",
    "    <th>dog</th>\n",
    "    <td>10</td>\n",
    "    <td>2</td>\n",
    "    <td>12</td>\n",
    "  </tr>\n",
    "  <tr>\n",
    "    <th></th>\n",
    "    <td>24</td>\n",
    "    <td>8</td>\n",
    "    <td>32</td>\n",
    "  </tr>\n",
    "</table>\n",
    "\n",
    "\n",
    "\n",
    "- To go from **Sample** to **Population** we make a **t-test**.\n",
    "    - **t-test**: Compares means of two groups to see if they are significantly different.\n",
    "    - **ANOVA**: Compares means of three or more groups.\n",
    "- **Covariance**: Measure of how two variables change together.\n",
    "    - Positive covariance means they increase together, negative means one increases while the other decreases.\n",
    "    - $cov_{x,y} = s_{x,y} = \\frac{1}{n-1} \\sum_{i=1}^{n} (x_i - \\bar{x})(y_i - \\bar{y})$\n",
    "    - To standardize covariance, we use **Pearson correlation**\n",
    "        - $r_{x,y} = \\frac{cov_{x,y}}{s_x s_y}$\n",
    "    - Correlation ranges from -1 to 1."
   ]
  },
  {
   "cell_type": "markdown",
   "id": "c39b594e",
   "metadata": {},
   "source": [
    "- **Law of Large Numbers (LLN)**: As the sample size increases, the sample mean approaches the population mean.\n",
    "- **Central Limit Theorem (CLT)**: The distribution of the sample mean approaches a normal distribution as the sample size increases, regardless of the population's distribution."
   ]
  }
 ],
 "metadata": {
  "language_info": {
   "name": "python"
  }
 },
 "nbformat": 4,
 "nbformat_minor": 5
}

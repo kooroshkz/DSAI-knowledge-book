{
 "cells": [
  {
   "cell_type": "markdown",
   "id": "79041300",
   "metadata": {},
   "source": [
    "DICTEE hs. 9\n",
    "    1.  Gisteren heb ik lekker gegeten.\n",
    "    2. Op de markt hebben we aardbeien, tomaten en kaas gekocht.\n",
    "    3. Morgenmiddag heeft hij een afspraAk met de huisarts.\n",
    "    4. WanneEr is de cursus Nederlands begonnen?\n",
    "    5. De student is vandaag op de fiets naar de cursus gekomen. \n",
    "\n"
   ]
  }
 ],
 "metadata": {
  "language_info": {
   "name": "python"
  }
 },
 "nbformat": 4,
 "nbformat_minor": 5
}

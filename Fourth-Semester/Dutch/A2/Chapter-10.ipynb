{
 "cells": [
  {
   "cell_type": "markdown",
   "id": "7f167c0c",
   "metadata": {},
   "source": [
    "### **Perfectum vs. Imperfectum in Dutch**\n",
    "\n",
    "* **Perfectum:** Present Perfect / Simple Past ( Done actions + a connection to the present ).\n",
    "    *  **Ik heb iets gekocht.** (I have bought something.)\n",
    "* **Imperfectum:** \tSimple Past / Past Continuous ( Non related past actions to present or for repeated/ongoing actions )\n",
    "  * Stem + **-te** if SoFT KetCHuP or **-de** if not.\n",
    "  * If plural, add **-ten** (SoFT KetCHuP) or **-den**. ( Wij , jullie, zij )\n",
    "    *  **Ik kocht iets.** (I bought something.)\n",
    "  * **Irregular verbs:** Doesn't follow the rules above.\n",
    "  * **Waarom ben je zo moe? Gisteravond heb ik teveel wijn gedronken.** (Why are you so tired? Last night I drank too much wine.)\n",
    "\n",
    "### Some Irregular Verbs in **Imperfectum & Perfectum**\n",
    "\n",
    "| Infinitive (Translation) | Singular      | Plural   | Perfectum (auxiliary)      |\n",
    "| ------------------------ | ------------- | -------- | -------------------------- |\n",
    "| mogen (may, be allowed)  | mocht         | mochten  | gemogen (**heb**)          |\n",
    "| willen (to want)         | wilde / wou\\* | wilden   | gewild (**heb**)           |\n",
    "| moeten (must, have to)   | moest         | moesten  | gemoeten (**heb**)         |\n",
    "| kunnen (can, be able)    | kon           | konden   | gekund (**heb**)           |\n",
    "| zullen (shall, will)     | zou           | zouden   | — (no perfectum form)      |\n",
    "| gaan (to go)             | ging          | gingen   | gegaan (**ben**)           |\n",
    "| komen (to come)          | kwam          | kwamen   | gekomen (**ben**)          |\n",
    "| zijn (to be)             | was           | waren    | geweest (**ben**)          |\n",
    "| hebben (to have)         | had           | hadden   | gehad (**heb**)            |\n",
    "| worden (to become)       | werd          | werden   | geworden (**ben**)         |\n",
    "\n",
    "\\* “wou” is only used for singular, and mostly in speaking.*\n",
    "\n",
    "---"
   ]
  },
  {
   "cell_type": "markdown",
   "id": "8b683c89",
   "metadata": {},
   "source": [
    "\n",
    "\n",
    "### **Undrestanding in Dutch**\n",
    "\n",
    "* **verstaan:** Hearing, not catching the words well\n",
    "\n",
    "  * **Ik versta u niet.** (I cannot hear/understand you.)\n",
    "  * **Ik versta geen Frans.** (I do not understand French.)\n",
    "\n",
    "* **begrijpen:** Understanding the meaning.\n",
    "\n",
    "  * **Ik begrijp die zin niet.** (I do not understand that sentence.)\n",
    "\n",
    "* **snappen:**\n",
    "  To get/understand something (casual/colloquial).\n",
    "\n",
    "  * **Snap je?** (Do you get it?)\n",
    "  * **snappen, snapte, gesnapt**\n",
    "\n",
    "* **verstandig:** sensible, prudent\n",
    "\n",
    "* **begrijpelijk:** understandable\n",
    "\n",
    "\n",
    "---\n",
    "\n",
    "### **Bedoelen vs. betekenen (to mean)**\n",
    "\n",
    "* **bedoelen:** for people (what do you mean)\n",
    "  * **Wat bedoelt u?** (What do you mean?)\n",
    "* **betekenen:** for words/sentences (what does it mean)\n",
    "  * **Wat betekent “zadel”?** (What does \"zadel\" mean?)\n",
    "  * **Wat betekent deze zin?** (What does this sentence mean?)"
   ]
  }
 ],
 "metadata": {
  "language_info": {
   "name": "python"
  }
 },
 "nbformat": 4,
 "nbformat_minor": 5
}

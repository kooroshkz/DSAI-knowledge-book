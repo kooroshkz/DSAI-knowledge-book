{
 "cells": [
  {
   "cell_type": "markdown",
   "id": "bff7b773",
   "metadata": {
    "vscode": {
     "languageId": "plaintext"
    }
   },
   "source": [
    "### **Negation Rules**\n",
    "\n",
    "- **Can you insert “een” before the noun?**  \n",
    "    → Use **geen**.  \n",
    "\n",
    "- **Are you negating the verb or an adjective?**  \n",
    "    → Use **niet**.  \n",
    "\n",
    "In Dutch you use geen to negate a noun that’s indefinite (a/an), and niet to negate everything else (verbs, adjectives, adverbs, definite nouns, whole clauses)."
   ]
  },
  {
   "cell_type": "markdown",
   "id": "75d5d87b",
   "metadata": {},
   "source": [
    "\n",
    "\n",
    "#### **Special Words for Negation**\n",
    "\n",
    "* iemand / niemand (someone / no one)\n",
    "* iets / niets (something / nothing)\n",
    "* ergens / nergens (somewhere / nowhere)\n",
    "* ooit / nooit (ever / never)\n",
    "\n",
    "---\n",
    "\n",
    "### **Moeten – Niet hoeven te**\n",
    "\n",
    "* **Moeten** = must / have to\n",
    "* **Niet hoeven te** = don’t need to / it’s not necessary\n",
    "\n",
    "**Examples:**\n",
    "\n",
    "* Moet ik de test herhalen?\n",
    "  Nee, je hoeft de test niet te herhalen.\n",
    "  (You don’t have to repeat the test.)\n",
    "* Moet ik nog boodschappen doen?\n",
    "  Nee, je hoeft geen boodschappen meer te doen.\n",
    "* Moet je nog lang werken?\n",
    "  Nee, ik hoef niet lang meer te werken.\n",
    "\n",
    "**Note:**\n",
    "\n",
    "* “Niet hoeven te” = don’t need to\n",
    "* “Geen hoeven te” = don’t need any (for nouns)\n",
    "\n",
    "---\n",
    "\n",
    "## **Reflexive Verbs (Comes after verb)**\n",
    "\n",
    "| Subject   | Reflexive Pronoun | Emphatic Form   |\n",
    "| Subject     | Reflexive Pronoun | Emphatic Form   | Example Sentence         |\n",
    "|-------------|-------------------|-----------------|-------------------------|\n",
    "| ik          | me                | mezelf          | Ik was me.              |\n",
    "| jij/je      | je                | jezelf          | Jij wast je.            |\n",
    "| u           | zich / u          | uzelf           |                         |\n",
    "| hij/zij/het | zich              | zichzelf        | Zij wast zich.          |\n",
    "| wij/we      | ons               | onszelf         | Wij wassen ons.         |\n",
    "| jullie      | je                | jezelf          | Jullie wassen je.       |\n",
    "| zij/ze      | zich              | zichzelf        | Zij wassen zich.        |\n",
    "\n",
    "---\n",
    "\n",
    "## **ZIN OM / ZIN IN**\n",
    "\n",
    "* “Ik heb zin om + infinitief” (to do something)\n",
    "\n",
    "  * Ik heb zin om naar het strand te gaan. (I feel like going to the beach)\n",
    "* “Ik heb zin in + noun” (I want something)\n",
    "\n",
    "  * Ik heb zin in drop. (I feel like licorice)\n",
    "\n",
    "---\n",
    "\n",
    "### **Extra: Sentence Structure (TMP Rule)**\n",
    "\n",
    "* **SUBJECT – VERB – TIME – MANNER – PLACE – OTHER – INFINITIVE**\n",
    "\n",
    "  * Ik ga morgen met de fiets naar school om te studeren.\n",
    "* **Inversion:**\n",
    "\n",
    "  * Morgen ga ik met de fiets naar school.\n"
   ]
  }
 ],
 "metadata": {
  "language_info": {
   "name": "python"
  }
 },
 "nbformat": 4,
 "nbformat_minor": 5
}

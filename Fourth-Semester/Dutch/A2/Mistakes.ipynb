{
 "cells": [
  {
   "cell_type": "markdown",
   "id": "e2869d23",
   "metadata": {},
   "source": [
    "- **Jongen** is singular, **Jongens** is plural.\n",
    "- **Maken** $\\to$ Zij m***aa***kt, Zij/Ze maken."
   ]
  },
  {
   "cell_type": "markdown",
   "id": "7b34781d",
   "metadata": {
    "vscode": {
     "languageId": "plaintext"
    }
   },
   "source": [
    "| Infinitive | Present Perfect (Voltooid Deelwoord) | Simple Past (Imperfectum) |\n",
    "|------------|--------------------------------------|---------------------------|\n",
    "| bellen     | heb gebeld                           | belde / belden            |\n",
    "| zeggen     | heb gezegd                           | zei / zeiden              |\n",
    "| willen     | heb gewild                            | wilde / wilden            |\n",
    "| lezen      | heb gelezen                           | las / lazen               |\n",
    "| doen       | heb gedaan                            | deed / deden              |\n",
    "| hebben     | heb gehad                            | had / hadden              |\n",
    "\n",
    "- Words ending with **-je** are **het-woorden**.\n",
    "- When **adjectives** are at the end of a sentence, they are not getting the **-e** ending."
   ]
  },
  {
   "cell_type": "markdown",
   "id": "fe80f5ae",
   "metadata": {},
   "source": [
    "- **liever** — rather, preferably  \n",
    "- **na** — after  \n",
    "- **nu** — now  \n",
    "- **naast** — next to, beside  \n",
    "- **tijdens** — during"
   ]
  },
  {
   "cell_type": "markdown",
   "id": "be976151",
   "metadata": {},
   "source": [
    "- **Hun** $\\to$ Their and **Hem** $\\to$ Him\n",
    "- For those and these we use **deze** and **die** like de word.\n"
   ]
  },
  {
   "cell_type": "markdown",
   "id": "d537fc82",
   "metadata": {},
   "source": [
    "- anders = \"differently\""
   ]
  },
  {
   "cell_type": "markdown",
   "id": "48ee1362",
   "metadata": {},
   "source": [
    "| Person             | Verb                          |\n",
    "| ------------------ | ----------------------------- |\n",
    "| ik                 | wil                           |\n",
    "| jij / u            | wilt (or wil – both possible) |\n",
    "| hij / zij / het    | wil                           |\n",
    "| wij / jullie / zij | willen                        |\n"
   ]
  }
 ],
 "metadata": {
  "kernelspec": {
   "display_name": "base",
   "language": "python",
   "name": "python3"
  },
  "language_info": {
   "name": "python",
   "version": "3.12.2"
  }
 },
 "nbformat": 4,
 "nbformat_minor": 5
}

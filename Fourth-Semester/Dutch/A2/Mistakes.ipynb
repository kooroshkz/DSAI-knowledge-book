{
 "cells": [
  {
   "cell_type": "markdown",
   "id": "e2869d23",
   "metadata": {},
   "source": [
    "| Singular | Plural  |\n",
    "|----------|---------|\n",
    "| Jongen   | Jongens |\n",
    "\n",
    "- **Maken** $\\to$ Zij m***aa***kt, Zij/Ze maken.\n",
    "- Kunnen $\\to$ Ik **kan**\n",
    "- Lopen $\\to$ Ik **loop**, Hij/Ze **loopt**\n",
    "- Vragen $\\to$ Ik **vraag**, Hij/Ze **vraagt**"
   ]
  },
  {
   "cell_type": "markdown",
   "id": "9bb9de1e",
   "metadata": {},
   "source": [
    "- Wacht **op** sth\n",
    "- Pen $\\to$ Pennen\n",
    "- Grijs $\\to$ Grijze\n",
    "- Wat is hier **aan de hand**? $\\to$ What is going on here?\n",
    "\n"
   ]
  },
  {
   "cell_type": "markdown",
   "id": "7b34781d",
   "metadata": {
    "vscode": {
     "languageId": "plaintext"
    }
   },
   "source": [
    "| Infinitive | Present Perfect (Voltooid Deelwoord) | Simple Past (Imperfectum) |\n",
    "|------------|--------------------------------------|---------------------------|\n",
    "| bellen     | heb gebeld                           | belde / belden            |\n",
    "| zetten     | heb gezet                            | zette / zetten            |\n",
    "| zeggen     | heb gezegd                           | zei / zeiden              |\n",
    "| werken     | heb gewerkt                          | werkte / werkten          |\n",
    "| zijn       | ben geweest                          | was / waren               |\n",
    "| willen     | heb gewild                            | wilde / wilden            |\n",
    "| dansen     | heb gedanst                           | danste / dansten          |\n",
    "| werken     | heb gewerkt                           | werkte / werkten          |\n",
    "| spelen     | heb gespeeld                          | speelde / speelden        |\n",
    "| maken      | heb gemaakt                           | maakte / maakten          |\n",
    "| missen     | heb gemist                            | miste / misten            |\n",
    "| luisteren  | heb geluisterd                        | luisterde / luisterden    |\n",
    "| vertellen  | heb verteld                           | vertelde / vertelden      |\n",
    "| fietsen    | heb gefietst                          | fietste / fietsten        |\n",
    "| lezen      | heb gelezen                           | las / lazen               |\n",
    "| doen       | heb gedaan                            | deed / deden              |\n",
    "| hebben     | heb gehad                            | had / hadden              |\n",
    "\n",
    "- Words ending with **-je** are **het-woorden**.\n",
    "- When **adjectives** are at the end of a sentence, they are not getting the **-e** ending."
   ]
  },
  {
   "cell_type": "markdown",
   "id": "be976151",
   "metadata": {},
   "source": [
    "- **Hun** $\\to$ Their and **Hem** $\\to$ Him\n",
    "- For those and these we use **deze** and **die** like de word.\n"
   ]
  },
  {
   "cell_type": "markdown",
   "id": "d537fc82",
   "metadata": {},
   "source": [
    "- anders = \"differently\"\n",
    "- voordat = \"before\""
   ]
  },
  {
   "cell_type": "markdown",
   "id": "48ee1362",
   "metadata": {},
   "source": [
    "| Person             | Verb                          |\n",
    "| ------------------ | ----------------------------- |\n",
    "| ik                 | wil                           |\n",
    "| jij / u            | wilt (or wil – both possible) |\n",
    "| hij / zij / het    | wil                           |\n",
    "| wij / jullie / zij | willen                        |\n"
   ]
  },
  {
   "cell_type": "markdown",
   "id": "142c2adf",
   "metadata": {},
   "source": [
    "- **Hij doet zijn jas aan ...... hij naar buiten gaat.** $\\to$ als/wanneer/voordat\n",
    "    - He puts on (aandoen) his jacket before he goes outside.\n",
    "- **Je kunt veel vragen ...... de makelaar.** $\\to$ aan\n",
    "    - You can ask many questions to the real estate agent."
   ]
  },
  {
   "cell_type": "markdown",
   "id": "e9f7e5ee",
   "metadata": {},
   "source": [
    "* **Hoewel** → \"Although\" / \"Though\"\n",
    "* **Doordat** → \"Because\" / \"Due to the fact that\"\n",
    "* **Zodat** → \"So that\" / \"In order that\"\n",
    "* **Daardoor** → \"Therefore\" / \"Because of that\"\n",
    "* **toch** → \"Yet\" / \"Still\" / \"However\"\n"
   ]
  },
  {
   "cell_type": "markdown",
   "id": "9765d282",
   "metadata": {},
   "source": [
    "- vragen **aan** iemand = \"to ask someone (something)\""
   ]
  }
 ],
 "metadata": {
  "kernelspec": {
   "display_name": "base",
   "language": "python",
   "name": "python3"
  },
  "language_info": {
   "name": "python",
   "version": "3.12.2"
  }
 },
 "nbformat": 4,
 "nbformat_minor": 5
}

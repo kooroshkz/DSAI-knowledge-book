{
 "cells": [
  {
   "cell_type": "markdown",
   "id": "3ef6eefd",
   "metadata": {
    "vscode": {
     "languageId": "plaintext"
    }
   },
   "source": [
    "- **Plural het** $\\to$ **Plural de** worden\n",
    "- Pluralis with **s** : $-e (LMNR) + -e + -je$ \n",
    "- **Without e adjective:**\n",
    "    - ... ...X\n",
    "    - een hX\n",
    "    - .... hX\n",
    "- Veel < Meer < Meest\n",
    "- If one to the last stem is a vowel $\\to$ Last X2"
   ]
  },
  {
   "cell_type": "markdown",
   "id": "7a6b5c87",
   "metadata": {},
   "source": [
    "- **Hoofzin** (main clause) $\\to$ als/omdat $\\to$ **Bijzin** (subordinate clause)\n",
    "    - Main clause → Normal word order  (S/V/...)\n",
    "    - Subordinate clause → Verb at the end (S...V)\n",
    "- Omdat/Als $\\to$ **Bijzin** (subordinate clause) $\\to$ **Hoofzin** (main clause)\n",
    "    - Subordinate clause → Verb at the end (S...V)\n",
    "    - Main clause → Verb comes right after the comma (, V + S + ...)"
   ]
  },
  {
   "cell_type": "markdown",
   "id": "ead53ce6",
   "metadata": {},
   "source": [
    "## Plural Nouns\n",
    "\n",
    "- **<span style=\"color:purple\">-en</span>** (most common)  \n",
    "  - mostly one syllable  \n",
    "  - <span style=\"color:teal\">fietsen, boeken</span>\n",
    "\n",
    "- **<span style=\"color:green\">-s</span>**  \n",
    "  - ≥2 syllables & ends with **-el, -em, -en, -er, -je, -e**  \n",
    "  - <span style=\"color:teal\">biertjes, jongens</span>\n",
    "\n",
    "- **<span style=\"color:orange\">-’s</span>**  \n",
    "  - ends in vowel **a, i, o, u, y**  \n",
    "  - <span style=\"color:teal\">kiwi’s, auto’s, hobby’s</span>\n",
    "\n",
    "- **<span style=\"color:red\">Irregular</span>**  \n",
    "  - **changes**: <span style=\"color:teal\">stad → steden, kind → kinderen, ei → eieren</span>  \n",
    "  - **no change**: <span style=\"color:teal\">cent, euro, jaar, kilo, uur</span>\n",
    "\n",
    "---\n",
    "\n",
    "## **Geen** vs **Niet**\n",
    "\n",
    "- **Can you insert “een” before the noun?**  \n",
    "    → Use **geen**.  \n",
    "\n",
    "- **Are you negating the verb or an adjective?**  \n",
    "    → Use **niet**.  \n",
    "  - **Verb + Object + niet** (At the end) → If we have definite object"
   ]
  },
  {
   "cell_type": "markdown",
   "id": "53b7f4a4",
   "metadata": {
    "vscode": {
     "languageId": "plaintext"
    }
   },
   "source": [
    "---\n",
    "\n",
    "### **Subordinate Clause**\n",
    "After **dat**, **omdat**, **als**, **wanneer**, **hoewel** (although), **zodat** (so that), **toen** (when):\n",
    "-  Subject – Time/Place – Object – ALL VERBS AT THE END\n",
    "    - Hij weet dat hij vandaag de waarheid weet.\n",
    "        -  (He knows that he knows the truth today.)\n",
    "    - Ik denk dat hij morgen naar school gaat.\n",
    "        - (I think that he goes to school tomorrow.)"
   ]
  },
  {
   "cell_type": "markdown",
   "id": "85064f9b",
   "metadata": {},
   "source": [
    "---\n",
    "\n",
    "## Adjective endings (de-woord vs het-woord)\n",
    "\n",
    "| Context           | de-woord example                                | het-woord example                        |\n",
    "|:------------------|:-----------------------------------------------|:-----------------------------------------|\n",
    "| **Definite**      | de(die) klein<span style=\"color:red\">e</span> courgette  | het(dat) klein<span style=\"color:red\">e</span> bosje   |\n",
    "| **Indefinite**    | een klein<span style=\"color:red\">e</span> courgette | een klein bosje                          |\n",
    "| **No article***   | prettig<span style=\"color:red\">e</span> vakantie    | goed idee                               |\n",
    "| **Plural**        | de klein<span style=\"color:red\">e</span> courgettes | de klein<span style=\"color:red\">e</span> bosjes  |\n",
    "| **Predicate**     | de courgette is klein                           | het bosje is klein                      |\n",
    "\n",
    "\\* no article = adjective takes **-e** only with de-woorden; het-woorden stay unchanged.  \n",
    "\\* predicates : after zijn, blijven, etc.\n",
    "\\* If het and de are used in the same sentence, the adjective takes **-e**.\n"
   ]
  }
 ],
 "metadata": {
  "language_info": {
   "name": "python"
  }
 },
 "nbformat": 4,
 "nbformat_minor": 5
}

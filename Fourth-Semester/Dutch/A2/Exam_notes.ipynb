{
 "cells": [
  {
   "cell_type": "markdown",
   "id": "2acf8166",
   "metadata": {},
   "source": [
    "### Exam\n",
    "\n",
    "\n",
    "| Dutch    | English   |\n",
    "|----------|-----------|\n",
    "| Naas     | Beside    |\n",
    "| tijdens  | During    |\n",
    "| liever   | Prefer    |\n",
    "| Meestal  | Usually   |\n",
    "| Hoewel   | Although  |\n",
    "| Toen     | When      |\n",
    "| herinneren | Remember  |\n",
    "| doordat | Because   |\n",
    "| Daardoor | Therefore |\n",
    "| Voordat | Before    |\n",
    "| Anders   | Differently |\n"
   ]
  },
  {
   "cell_type": "markdown",
   "id": "2ed93cab",
   "metadata": {},
   "source": [
    "| Person             | **Maken**          | **Kunnen**     | **Vragen**        | **Gaan**           | **Willen**          |\n",
    "| ------------------- | ------------------ | --------------| ----------------- | ------------------ | ------------------- |\n",
    "| **ik**             | maak               | kan            | vraag             | ga                 | wil                 |\n",
    "| **jij / u**        | maakt              | kan            | vraagt            | gaat               | wilt (or wil)       |\n",
    "| **hij / zij / het**| maakt              | kan            | vraagt            | gaat               | wil                 |\n",
    "| **wij / jullie / zij** | maken          | kunnen         | vragen            | gaan               | willen              |\n"
   ]
  },
  {
   "cell_type": "markdown",
   "id": "7a6b5c87",
   "metadata": {},
   "source": [
    "- **Hoofzin** (main clause) $\\to$ als/omdat $\\to$ **Bijzin** (subordinate clause)\n",
    "    - Main clause → Normal word order  (S/V/...)\n",
    "    - Subordinate clause → Verb at the end (S...V)\n",
    "- Omdat/Als $\\to$ **Bijzin** (subordinate clause) $\\to$ **Hoofzin** (main clause)\n",
    "    - Subordinate clause → Verb at the end (S...V)\n",
    "    - Main clause → Verb comes right after the comma (, V + S + ...)"
   ]
  },
  {
   "cell_type": "markdown",
   "id": "2eb65697",
   "metadata": {
    "vscode": {
     "languageId": "plaintext"
    }
   },
   "source": [
    "- **Zin** means want and used with **geen**"
   ]
  },
  {
   "cell_type": "markdown",
   "id": "ab19e350",
   "metadata": {},
   "source": [
    "- vragen **aan** iemand = \"to ask someone (something)\""
   ]
  },
  {
   "cell_type": "markdown",
   "id": "7575bf0f",
   "metadata": {},
   "source": [
    "---\n",
    "\n"
   ]
  },
  {
   "cell_type": "markdown",
   "id": "b5bba76a",
   "metadata": {},
   "source": [
    "## Perfectum and Imperfectum\n",
    "\n",
    "- Verb starting with **ver-, be-, ge-, her-, ont-, er**, does nt get **ge-** in perfectum.\n",
    "\n",
    "| Infinitive | Present Perfect (Voltooid Deelwoord) | Simple Past (Imperfectum) |\n",
    "|------------|--------------------------------------|---------------------------|\n",
    "| werken      | heb gewerkt     | werkte / werkten       |\n",
    "| zijn        | ben geweest     | was / waren            |\n",
    "| lezen       | heb gelezen     | las / lazen            |\n",
    "| spelen      | heb gespeeld    | speelde / speelden     |\n",
    "| kijken      | heb gekeken     | keek / keken           |\n",
    "| gaan        | ben gegaan      | ging / gingen          |\n",
    "| eten        | heb gegeten     | at / aten              |\n",
    "| drinken     | heb gedronken   | dronk / dronken        |\n",
    "| houden      | heb gehouden    | hield / hielden        |\n",
    "| begrijpen   | heb begrepen    | begrijp / begrijpen    |\n",
    "| denken      | heb gedacht     | dacht / dachten        |\n",
    "| helpen      | heb geholpen    | helpte / hielpen       |\n",
    "| kopen       | heb gekocht     | kocht / kopen          |\n",
    "| moeten      | heb moeten      | moest / moesten        |\n",
    "| mogen       | heb mogen       | mocht / mochten        |\n",
    "| namen       | heb genoemd     | noemde / noemden       |\n",
    "| zullen      | heb zullen      | zou / zouden           |\n",
    "| vinden      | heb gevonden    | vond / vonden          |\n",
    "| vragen      | heb gevraagd    | vroeg / vragen         |\n",
    "| weten       | heb geweten     | wist / wisten          |\n",
    "| zien        | heb gezien      | zag / zagen            |\n",
    "| krijgen     | heb gekregen    | kreeg / kregen         |\n",
    "| opeten      | heb opgegeten   | at op / aten op        |\n",
    "| kunnen      | heb gekund      | kon / konden           |\n"
   ]
  }
 ],
 "metadata": {
  "language_info": {
   "name": "python"
  }
 },
 "nbformat": 4,
 "nbformat_minor": 5
}

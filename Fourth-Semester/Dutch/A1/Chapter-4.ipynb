{
 "cells": [
  {
   "cell_type": "markdown",
   "id": "2b261105",
   "metadata": {},
   "source": [
    "## Een afspraak maken / uitnodigen  \n",
    "- **<span style=\"color:red\">Zullen we …?</span>** (shall we…?) + infinitive  \n",
    "\n",
    "## Vragen iets samen te doen  \n",
    "- **<span style=\"color:purple\">Ga je mee (naar)…?</span>** (will you come along…?)  \n",
    "- **<span style=\"color:orange\">Heb je zin om …?</span>** (do you feel like…?)  \n"
   ]
  },
  {
   "cell_type": "markdown",
   "id": "5412740e",
   "metadata": {
    "vscode": {
     "languageId": "plaintext"
    }
   },
   "source": [
    "---\n",
    "\n",
    "## Nog meer:\n",
    "- **<span style=\"color:Purple\">More, evenmore</span>** : Wil je nog meer koffie? (do you want more coffee?)\n",
    "\n",
    "## Nog maar:\n",
    "- **<span style=\"color:Purple\">Only, just, still</span>** : Ik heb nog maar een paar euro. (I have only a few euros left)"
   ]
  },
  {
   "cell_type": "markdown",
   "id": "e277ba9f",
   "metadata": {
    "vscode": {
     "languageId": "plaintext"
    }
   },
   "source": [
    "---\n",
    "## Words\n",
    "\n",
    "| **Word**         | **Translation**  | **Example**               |\n",
    "|:-----------------|:-----------------|:--------------------------|\n",
    "| **komt tegen**   | to come along    | Ik  (meet) haar tegen in het park.|\n",
    "|**een paar dagen**| a few days       | Ik ben een paar dagen op vakantie.|\n",
    "| **prachtig**     | beautiful        | Het is prachtig weer.   |\n",
    "| **na**           | after            | Na het werk ga ik naar huis.|\n",
    "| **direct**       | directly (right now) | Ik ga direct naar huis.|\n",
    "| **blijf**        | to stay          | Ik blijf thuis.        |\n",
    "| **hartstikke**   | very (really)    | Het is hartstikke leuk!|\n",
    "| **ervandoor**    | leave quickly    | Ik moet ervandoor.|\n",
    "| **gauw**         | quickly          | Ik moet gauw gaan.|\n",
    "| **wens**         | wish             | Ik wens je een fijne dag!|\n"
   ]
  }
 ],
 "metadata": {
  "language_info": {
   "name": "python"
  }
 },
 "nbformat": 4,
 "nbformat_minor": 5
}

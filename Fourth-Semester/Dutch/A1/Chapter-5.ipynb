{
 "cells": [
  {
   "cell_type": "markdown",
   "id": "1597b906",
   "metadata": {},
   "source": [
    "## Plural Nouns\n",
    "\n",
    "- **<span style=\"color:purple\">-en</span>** (most common)  \n",
    "  - mostly one syllable  \n",
    "  - <span style=\"color:teal\">fietsen, boeken</span>\n",
    "\n",
    "- **<span style=\"color:green\">-s</span>**  \n",
    "  - ≥2 syllables & ends with **-el, -em, -en, -er, -je, -e**  \n",
    "  - <span style=\"color:teal\">biertjes, jongens</span>\n",
    "\n",
    "- **<span style=\"color:orange\">-’s</span>**  \n",
    "  - ends in vowel **a, i, o, u, y**  \n",
    "  - <span style=\"color:teal\">kiwi’s, auto’s, hobby’s</span>\n",
    "\n",
    "- **<span style=\"color:red\">Irregular</span>**  \n",
    "  - **changes**: <span style=\"color:teal\">stad → steden, kind → kinderen, ei → eieren</span>  \n",
    "  - **no change**: <span style=\"color:teal\">cent, euro, jaar, kilo, uur</span>\n",
    "\n",
    "---\n",
    "\n",
    "## Tempo (Word order)\n",
    "\n",
    "**Time – Manner – Place**  \n",
    "\n",
    "**Example**  \n",
    "<span style=\"color:teal\">Zullen we <u>zondagochtend</u>(tijd) met de <u>fiets</u>(Manier) naar <u>de zee</u>(Plaats) gaan?</span>\n"
   ]
  },
  {
   "cell_type": "markdown",
   "id": "073c429b",
   "metadata": {
    "vscode": {
     "languageId": "plaintext"
    }
   },
   "source": [
    "---\n",
    "\n",
    "## Adjective endings (de-woord vs het-woord)\n",
    "\n",
    "| Context           | de-woord example                                | het-woord example                        |\n",
    "|:------------------|:-----------------------------------------------|:-----------------------------------------|\n",
    "| **Definite**      | de(die) klein<span style=\"color:red\">e</span> courgette  | het(dat) klein<span style=\"color:red\">e</span> bosje   |\n",
    "| **Indefinite**    | een klein<span style=\"color:red\">e</span> courgette | een klein bosje                          |\n",
    "| **No article***   | prettig<span style=\"color:red\">e</span> vakantie    | goed idee                               |\n",
    "| **Plural**        | de klein<span style=\"color:red\">e</span> courgettes | de klein<span style=\"color:red\">e</span> bosjes  |\n",
    "| **Predicate**     | de courgette is klein                           | het bosje is klein                      |\n",
    "\n",
    "\\* no article = adjective takes **-e** only with de-woorden; het-woorden stay unchanged.  \n",
    "\\* predicates : after zijn, blijven, etc.\n",
    "\\* If het and de are used in the same sentence, the adjective takes **-e**.\n"
   ]
  },
  {
   "cell_type": "markdown",
   "id": "38048178",
   "metadata": {
    "vscode": {
     "languageId": "plaintext"
    }
   },
   "source": [
    "----\n",
    "\n",
    "## Imperatief (Give command)\n",
    "\n",
    "- **<span style=\"color:red\">Informal</span>**: use **jij/je**-vorm zonder onderwerp (drop –t)  \n",
    "  - <span style=\"color:teal\">Doe maar.</span>  \n",
    "  - <span style=\"color:teal\">Zeg het maar.</span>\n",
    "\n",
    "- **<span style=\"color:green\">Formal</span>**: use **u**-vorm (werkwoord + u)  \n",
    "  - <span style=\"color:teal\">Zegt u het maar?</span>  \n",
    "  - <span style=\"color:teal\">Ga maar zitten.</span>\n",
    "\n",
    "- **<span style=\"color:orange\">Friendly/polite</span>**: voeg **maar** + **even/ eens** toe (“just for a moment”)  \n",
    "  - <span style=\"color:teal\">Vertel eens over je familie.</span>  \n",
    "  - <span style=\"color:teal\">Maak maar spaghetti.</span>\n"
   ]
  },
  {
   "cell_type": "markdown",
   "id": "22d251e2",
   "metadata": {},
   "source": [
    "---\n",
    "\n",
    "## Words\n",
    "\n",
    "| **Word**         | **Translation**  | **Example**               |\n",
    "|:-----------------|:-----------------|:--------------------------|\n",
    "| **vaak** | often           | <span style=\"color:purple\">Ik ga vaak naar de bibliotheek.</span> |\n",
    "| **ongeveer** | about (approx) | <span style=\"color:purple\">Ik ben ongeveer 20 jaar oud.</span> |\n",
    "| **waarnaartoe** | where to | <span style=\"color:purple\">Waarnaartoe ga je?</span> |\n",
    "| **geeft niet** | nws,np,doesn’t matter | <span style=\"color:purple\">Geeft niet, ik ben er al.</span> |\n",
    "\n",
    "\n",
    "\n",
    "\n",
    "\n",
    "\n",
    "“Wel” functies:\n",
    "\n",
    "1. **Bevestiging / “certainly, indeed”**\n",
    "\n",
    "   * “Ik kom wel.” = “I will (definitely) come.”\n",
    "\n",
    "2. **Versterking / “quite, really”**\n",
    "\n",
    "   * “Hij is wel groot.” = “He’s really quite tall.”\n",
    "\n",
    "3. **Tussenwerpsel / “well…”**\n",
    "\n",
    "   * “Wel, wat zullen we doen?” = “Well, what shall we do?”\n",
    "\n"
   ]
  }
 ],
 "metadata": {
  "language_info": {
   "name": "python"
  }
 },
 "nbformat": 4,
 "nbformat_minor": 5
}

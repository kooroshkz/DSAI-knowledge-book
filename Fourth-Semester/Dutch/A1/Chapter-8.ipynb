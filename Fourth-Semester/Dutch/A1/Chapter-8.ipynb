{
 "cells": [
  {
   "cell_type": "markdown",
   "id": "f599041e",
   "metadata": {},
   "source": [
    "### **Location & Position Prepositions**\n",
    "- <span style=\"color:#FF6F61\">**boven**</span> — above  \n",
    "- <span style=\"color:#6B5B95\">**onder**</span> — under  \n",
    "- <span style=\"color:#88B04B\">**tussen**</span> — between  \n",
    "- <span style=\"color:#FFA500\">**achter**</span> — behind  \n",
    "- <span style=\"color:#009B77\">**naast**</span> — next to  \n",
    "- <span style=\"color:#E74C3C\">**voor**</span> — in front of / for  \n",
    "- <span style=\"color:#2ECC71\">**in**</span> — in  \n",
    "- <span style=\"color:#3498DB\">**binnen**</span> — inside  \n",
    "- <span style=\"color:#F1C40F\">**buiten**</span> — outside  \n",
    "- <span style=\"color:#C3447A\">**tegen**</span> — against/opposite  \n",
    "- <span style=\"color:#E27D60\">**op**</span> — on  \n",
    "- <span style=\"color:#556270\">**aan**</span> — at/on  \n",
    "- <span style=\"color:#1ABC9C\">**om**</span> — around / at (time)  \n",
    "- <span style=\"color:#7F8C8D\">**bij**</span> — by / at  \n",
    "- <span style=\"color:#8E44AD\">**tegenover**</span> — opposite  \n",
    "- <span style=\"color:#95A5A6\">**met**</span> — with  \n",
    "\n",
    "---\n",
    "\n",
    "### **Dutch Conjunctions**\n",
    "#### The verb in the second clause goes to the second position.  \n",
    "\n",
    "1. <span style=\"color:#E74C3C\">**Want**</span> – means \"because.\"\n",
    "\n",
    "    Example: *Ik ga naar huis, want ik ben moe.* (I am going home because I am tired.)  \n",
    "\n",
    "2. <span style=\"color:#3498DB\">**Maar**</span> – means \"but.\"\n",
    "\n",
    "    Example: *Ik ben moe, maar ik ga werken.* (I am tired, but I will work.)  \n",
    "\n",
    "3. <span style=\"color:#F1C40F\">**Dus**</span> – means \"so.\"  \n",
    "\n",
    "    Example: *Het regent, dus ik neem een paraplu.* (It is raining, so I will take an umbrella.)  \n",
    "\n",
    "4. <span style=\"color:#88B04B\">**Of**</span> – means \"or.\"  \n",
    "\n",
    "    Example: *Wil je koffie of thee?* (Do you want coffee or tea?)  \n",
    "\n",
    "---\n",
    "\n",
    "### **Position Verbs**\n",
    "- <span style=\"color:#D35400\">**hangen**</span> — to hang  \n",
    "- <span style=\"color:#27AE60\">**staan**</span> — to stand  \n",
    "- <span style=\"color:#2980B9\">**liggen**</span> — to lie  \n",
    "\n",
    "> *Tip:* Combine verbs with prepositions:  \n",
    "> • **hangen aan** (hang **on**)  \n",
    "> • **staan op** (stand **on**)  \n",
    "> • **liggen in** (lie **in**)  \n"
   ]
  },
  {
   "cell_type": "markdown",
   "id": "ce76f69f",
   "metadata": {
    "vscode": {
     "languageId": "plaintext"
    }
   },
   "source": [
    "---"
   ]
  },
  {
   "cell_type": "markdown",
   "id": "5c40c6dc",
   "metadata": {
    "vscode": {
     "languageId": "markdown"
    }
   },
   "source": [
    "### **Negation Rules**\n",
    "\n",
    "- **Can you insert “een” before the noun?**  \n",
    "    → Use **geen**.  \n",
    "\n",
    "- **Are you negating the verb or an adjective?**  \n",
    "    → Use **niet**.  \n",
    "\n",
    "In Dutch you use geen to negate a noun that’s indefinite (a/an), and niet to negate everything else (verbs, adjectives, adverbs, definite nouns, whole clauses)."
   ]
  },
  {
   "cell_type": "markdown",
   "id": "8b5e145f",
   "metadata": {
    "vscode": {
     "languageId": "plaintext"
    }
   },
   "source": [
    "---"
   ]
  },
  {
   "cell_type": "markdown",
   "id": "a72f9b7d",
   "metadata": {
    "vscode": {
     "languageId": "plaintext"
    }
   },
   "source": [
    "## Words\n",
    "\n",
    "| **Word**                               | **Translation**         | **Example**                                           |\n",
    "|:---------------------------------------|:------------------------|:------------------------------------------------------|\n",
    "| **de makelaar**                        | real estate agent       | De makelaar helpt ons zoeken.                         |\n",
    "| **de woning**                          | house                   | Dit is een mooie woning.                              |\n",
    "| **de bovenwoning**                     | upstairs flat           | We hebben een bovenwoning gevonden.                   |\n",
    "| **vierkante (vierkant)**               | square                  | De kamer heeft een vierkante vorm.                    |\n",
    "| **ruime (ruim)**                       | spacious                | Dit is een ruime badkamer.                            |\n",
    "| **de gang**                            | passage(way)            | De gang is smal.                                      |\n",
    "| **eenvoudige (eenvoudig)**             | simple                  | De stijl is eenvoudig.                                |\n",
    "| **de badkamer**                        | bathroom                | De badkamer is modern.                                |\n",
    "| **het bad**                            | bath                    | Het bad is groot.                                     |\n",
    "| **kasten (de kast)**                   | cupboards               | De kasten in de keuken zijn groot.                    |\n",
    "| **bedden (het bed)**                   | beds                    | De bedden zijn comfortabel.                           |\n",
    "| **het bureau**                         | desk                    | Er staat een bureau in de kamer.                      |\n",
    "| **de bank**                            | sofa / couch            | De bank is zacht.                                     |\n",
    "| **benedenwoning**                      | ground-floor flat       | Ze wonen in een benedenwoning.                        |\n",
    "| **bel (bellen)**                       | phone                   | Ik ga je bellen.                                      |\n",
    "| **de begane grond**                    | ground floor            | Op de begane grond is de keuken.                      |\n",
    "| **de woonruimte**                      | accommodation / somewhere to live | We zoeken een goede woonruimte. |\n",
    "| **ver**                                | far                     | Het huis is ver van hier.                             |\n",
    "| **bepaald**                            | certain                 | Er is een bepaald huis dat we willen.                 |\n",
    "| **mogelijkheden (de mogelijkheid)**    | possibilities / options | Er zijn verschillende mogelijkheden.                  |\n",
    "| **laten zien**                         | show                    | De makelaar laat de woning zien.                      |\n",
    "| **hoeven**                             | need                    | We hoeven niet te wachten.                            |\n",
    "| **gebruiken**                          | use                     | We mogen de keuken gebruiken.                         |\n",
    "| **geschikte (geschikt)**               | suitable                | Dit huis is geschikt voor ons.                        |\n",
    "| **want**                               | because                 | We zoeken een huis, want we moeten verhuizen.         |\n",
    "| **verhuren**                           | rent out                | Ze willen hun huis verhuren.                          |\n",
    "| **het voordeel**                       | advantage               | Het voordeel van dit huis is de grote tuin.           |\n",
    "| **niets**                              | nothing                 | Er is niets in de kast.                               |\n",
    "| **dat lijkt me fantastisch**           | that sounds great       | Dat lijkt me fantastisch!                             |\n",
    "| **overleggen**                         | discuss                 | We moeten dit even overleggen.                        |\n",
    "| **zo snel mogelijk**                   | as soon as possible     | Je moet zo snel mogelijk antwoorden.                  |\n"
   ]
  }
 ],
 "metadata": {
  "language_info": {
   "name": "python"
  }
 },
 "nbformat": 4,
 "nbformat_minor": 5
}

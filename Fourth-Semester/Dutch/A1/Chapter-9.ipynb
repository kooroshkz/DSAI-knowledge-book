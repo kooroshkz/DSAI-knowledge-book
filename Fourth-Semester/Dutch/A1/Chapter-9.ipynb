{
 "cells": [
  {
   "cell_type": "markdown",
   "id": "bc6e1dfb",
   "metadata": {},
   "source": [
    "### <span style=\"color:#33a8ff\">Perfectum (Voltooid Verleden Tijd) - Dutch Past Tense</span>\n",
    "\n",
    "**<span style=\"color:#33a8ff\">1. Form:</span>**\n",
    "\n",
    "* **<span style=\"color:green\">\"Hebben\"</span>** or **<span style=\"color:orange\">\"zijn\"</span>** + **<span style=\"color:teal\">past participle</span>** of the verb.\n",
    "\n",
    "  * **<span style=\"color:green\">Ik heb gewerkt</span>** (I worked) - using **<span style=\"color:green\">\"hebben\"</span>**.\n",
    "  * **<span style=\"color:orange\">Ik ben naar huis gefietst</span>** (I cycled home) - using **<span style=\"color:orange\">\"zijn\"</span>**.\n",
    "\n",
    "**<span style=\"color:#33a8ff\">2. Regular Verbs:</span>**\n",
    "\n",
    "* **<span style=\"color:teal\">Past participle</span>**: **<span style=\"color:green\">ge-</span>** + verb stem + **<span style=\"color:orange\">t/d</span>** (if stem ends in **S, F, T, K, CH, P** key to remember: SoFT KeTCHuP).\n",
    "\n",
    "  * Example: **<span style=\"color:green\">werken → gewerkt</span>**, **<span style=\"color:green\">spelen → gespeeld</span>**.\n",
    "\n",
    "**<span style=\"color:#33a8ff\">3. Irregular Verbs:</span>**\n",
    "\n",
    "* Memorize past participles (e.g., **<span style=\"color:orange\">gaan → gegaan</span>**, **<span style=\"color:orange\">komen → gekomen</span>**).\n",
    "* **<span style=\"color:teal\">Verbs with prefixes</span>** (ge-, be-, her-, ver-, ont-) don’t add \"ge-\" in the participle.\n",
    "\n",
    "  * Example: **<span style=\"color:green\">gebruiken → gebruikt</span>**, **<span style=\"color:green\">herhalen → herhaald</span>**.\n",
    "\n",
    "**<span style=\"color:#33a8ff\">4. When to Use \"Zijn\" (instead of \"Hebben\"):</span>**\n",
    "\n",
    "* For movement towards a place: **<span style=\"color:orange\">Ik ben naar huis gefietst</span>**.\n",
    "* Fixed verbs: **<span style=\"color:teal\">gebeuren</span>**, **<span style=\"color:teal\">zijn</span>**, **<span style=\"color:teal\">worden</span>**, **<span style=\"color:teal\">blijven</span>**, **<span style=\"color:teal\">stoppen</span>**, **<span style=\"color:teal\">beginnen</span>**, **<span style=\"color:teal\">komen</span>**.\n",
    "\n",
    "  * Example: **<span style=\"color:orange\">Ik ben naar de universiteit geweest</span>**.\n",
    "\n",
    "---\n"
   ]
  },
  {
   "cell_type": "markdown",
   "id": "67e2919d",
   "metadata": {
    "vscode": {
     "languageId": "plaintext"
    }
   },
   "source": [
    "| **<span style=\"color:#33a8ff\">Verb (Infinitive)</span>** | **<span style=\"color:green\">Past Participle</span>** |\n",
    "|:-------------------------------------------------------:|:--------------------------------------------------:|\n",
    "| **<span style=\"color:#33a8ff\">zijn</span>** (to be)     | **<span style=\"color:green\">geweest</span>**       |\n",
    "| **<span style=\"color:#33a8ff\">hebben</span>** (to have) | **<span style=\"color:green\">gehad</span>**         |\n",
    "| **<span style=\"color:#33a8ff\">doen</span>** (to do)     | **<span style=\"color:green\">gedaan</span>**        |\n",
    "| **<span style=\"color:#33a8ff\">gaan</span>** (to go)     | **<span style=\"color:green\">gegaan</span>**        |\n",
    "| **<span style=\"color:#33a8ff\">komen</span>** (to come)  | **<span style=\"color:green\">gekomen</span>**       |\n",
    "| **<span style=\"color:#33a8ff\">zien</span>** (to see)    | **<span style=\"color:green\">gezien</span>**        |\n",
    "| **<span style=\"color:#33a8ff\">eten</span>** (to eat)    | **<span style=\"color:green\">gegeten</span>**       |\n",
    "| **<span style=\"color:#33a8ff\">leiden</span>** (to lead) | **<span style=\"color:green\">geleid</span>**        |\n",
    "| **<span style=\"color:#33a8ff\">geven</span>** (to give)  | **<span style=\"color:green\">gegeven</span>**       |\n",
    "| **<span style=\"color:#33a8ff\">weten</span>** (to know)  | **<span style=\"color:green\">geweten</span>**       |\n",
    "| **<span style=\"color:#33a8ff\">vinden</span>** (to find) | **<span style=\"color:green\">gevonden</span>**      |\n",
    "| **<span style=\"color:#33a8ff\">spreken</span>** (to speak)| **<span style=\"color:green\">gesproken</span>**     |\n",
    "| **<span style=\"color:#33a8ff\">slapen</span>** (to sleep)| **<span style=\"color:green\">geslapen</span>**      |\n",
    "| **<span style=\"color:#33a8ff\">spelen</span>** (to play) | **<span style=\"color:green\">gespeeld</span>**      |\n",
    "| **<span style=\"color:#33a8ff\">helpen</span>** (to help) | **<span style=\"color:green\">geholpen</span>**      |\n",
    "| **<span style=\"color:#33a8ff\">werken</span>** (to work) | **<span style=\"color:green\">gewerkt</span>**       |\n",
    "| **<span style=\"color:#33a8ff\">kopen</span>** (to buy)   | **<span style=\"color:green\">gekocht</span>**       |\n",
    "| **<span style=\"color:#33a8ff\">drinken</span>** (to drink)| **<span style=\"color:green\">gedronken</span>**      |\n",
    "| **<span style=\"color:#33a8ff\">vergeten</span>** (to forget)| **<span style=\"color:green\">vergeten</span>**       |\n"
   ]
  },
  {
   "cell_type": "markdown",
   "id": "80b0836c",
   "metadata": {
    "vscode": {
     "languageId": "plaintext"
    }
   },
   "source": [
    "## Lichaamsdelen (Body Parts)\n",
    "- <span style=\"color:#33a8ff\">Het hoofd </span> = Head\n",
    "- <span style=\"color:#33a8ff\">de nek </span> = Neck\n",
    "- <span style=\"color:#33a8ff\">de buik </span> = Stomach\n",
    "- <span style=\"color:#33a8ff\">de rug </span> = Back\n",
    "\n",
    "- <span style=\"color:orange\">de arm </span> = Arm\n",
    "- <span style=\"color:orange\">de schouder </span> = Shoulder\n",
    "- <span style=\"color:orange\">de hand </span> = Hand\n",
    "- <span style=\"color:orange\">de vinger </span> = Finger\n",
    "- <span style=\"color:orange\">de borst </span> = Chest\n",
    "- <span style=\"color:orange\">de pols </span> = Wrist\n",
    "\n",
    "- <span style=\"color:red\">het been </span> = Leg\n",
    "- <span style=\"color:red\">de knie </span> = Knee\n",
    "- <span style=\"color:red\">de enkel </span> = Ankle\n",
    "- <span style=\"color:red\">de voet </span> = Foot\n",
    "\n",
    "- <span style=\"color:pink\">het gezicht </span> = Face\n",
    "- <span style=\"color:pink\">het oog </span> = Eye\n",
    "- <span style=\"color:pink\">de neus </span> = Nose\n",
    "- <span style=\"color:pink\">de mond </span> = Mouth\n",
    "- <span style=\"color:pink\">de oor </span> = Ear\n",
    "---\n"
   ]
  },
  {
   "cell_type": "markdown",
   "id": "a1d4b570",
   "metadata": {
    "vscode": {
     "languageId": "plaintext"
    }
   },
   "source": [
    "## Dagdelen (time-of-day expressions)\n",
    "\n",
    "- **<span style=\"color:#33a8ff\">Gisteren</span> (yesterday)**  \n",
    "  <span style=\"color:teal\">gisterochtend, gistermiddag, gisteravond, gisternacht</span>\n",
    "\n",
    "- **<span style=\"color:green\">Vandaag</span> (today)**  \n",
    "  <span style=\"color:teal\">vanochtend, vanmiddag, vanavond, vannacht</span>\n",
    "\n",
    "- **<span style=\"color:orange\">Morgen</span> (tomorrow)**  \n",
    "  <span style=\"color:teal\">morgenochtend, morgenmiddag, morgenavond, morgenacht</span>\n",
    "\n",
    "- **<span style=\"color:purple\">Elke dag</span> (every day)**  \n",
    "  <span style=\"color:teal\">'s Morgens/'s ochtends, 's middags, 's avonds, 's nachts</span>\n",
    "\n",
    "- **<span style=\"color:red\">De + dagdeel</span>** (neutral reference)  \n",
    "  <span style=\"color:teal\">de ochtend, de middag, de avond, de nacht</span>\n",
    "\n"
   ]
  },
  {
   "cell_type": "markdown",
   "id": "92a327ba",
   "metadata": {
    "vscode": {
     "languageId": "plaintext"
    }
   },
   "source": [
    "---\n",
    "\n"
   ]
  },
  {
   "cell_type": "markdown",
   "id": "a00773d0",
   "metadata": {},
   "source": [
    "## Words\n",
    "\n",
    "| **Word**                           | **Translation**               | **Example**                                                             |\n",
    "| :--------------------------------- | :---------------------------- | :---------------------------------------------------------------------- |\n",
    "| **de buik**                        | stomach                       | <span style=\"color:purple\">Ik heb pijn in mijn buik.</span>             |\n",
    "| **denken**                         | think                         | <span style=\"color:purple\">Ik denk dat het gaat regenen.</span>         |\n",
    "| **zoals**                          | as                            | <span style=\"color:purple\">Het is zoals ik het had verwacht.</span>     |\n",
    "| **wat is er aan de hand?**         | what's wrong?                 | <span style=\"color:purple\">Wat is er aan de hand?</span>                |\n",
    "| **zit ik onder de bultjes**        | I'm covered in lumps / a rash | <span style=\"color:purple\">Ik zit onder de bultjes.</span>              |\n",
    "| **bultjes (de bult)**              | lumps                         | <span style=\"color:purple\">Ik heb bultjes op mijn arm.</span>           |\n",
    "| **benen (het been)**               | legs                          | <span style=\"color:purple\">Mijn benen zijn moe.</span>                  |\n",
    "| **de rug**                         | back                          | <span style=\"color:purple\">Mijn rug doet pijn.</span>                   |\n",
    "| **het gezicht**                    | face                          | <span style=\"color:purple\">Ze heeft een mooi gezicht.</span>            |\n",
    "| **jeuken**                         | itch                          | <span style=\"color:purple\">Mijn huid jeukt.</span>                      |\n",
    "| **verschrikkelijk**                | terrible                      | <span style=\"color:purple\">Het is verschrikkelijk koud.</span>          |\n",
    "| **van alles**                      | everything                    | <span style=\"color:purple\">Ik heb van alles gedaan.</span>              |\n",
    "| **geprobeerd (proberen)**          | tried                         | <span style=\"color:purple\">Ik heb het geprobeerd.</span>                |\n",
    "| **bekeken (bekijken)**             | looked at                     | <span style=\"color:purple\">Hij heeft de foto bekeken.</span>            |\n",
    "| **de voetbalvereniging**           | football club                 | <span style=\"color:purple\">Ik speel voor de voetbalvereniging.</span>   |\n",
    "| **het wedstrijdje (de wedstrijd)** | match                         | <span style=\"color:purple\">We hebben het wedstrijdje gewonnen.</span>   |\n",
    "| **daarna**                         | after that                    | <span style=\"color:purple\">We gingen daarna naar huis.</span>           |\n",
    "| **bijzonders (bijzonder)**         | special                       | <span style=\"color:purple\">Dit is een bijzondere gelegenheid.</span>    |\n",
    "| **afgelopen**                      | past / last few               | <span style=\"color:purple\">De afgelopen week was geweldig.</span>       |\n",
    "| **rijp**                           | ripe                          | <span style=\"color:purple\">De banaan is rijp.</span>                    |\n",
    "| **emmers (de emmer)**              | buckets                       | <span style=\"color:purple\">We hebben twee emmertjes water nodig.</span> |\n",
    "| **vorig**                          | last                          | <span style=\"color:purple\">De vorige keer was het leuk.</span>          |\n",
    "| **klachten (de klacht)**           | complaints                    | <span style=\"color:purple\">Er zijn veel klachten over het hotel.</span> |\n",
    "| **lijkt op (lijken op)**           | looks like                    | <span style=\"color:purple\">Dit lijkt op een goed idee.</span>           |\n",
    "| **de reactie**                     | reaction                      | <span style=\"color:purple\">Zijn reactie was positief.</span>            |\n",
    "| **de zalf**                        | ointment                      | <span style=\"color:purple\">Ik gebruik zalf voor de wond.</span>         |\n",
    "| **tegen**                          | against                       | <span style=\"color:purple\">Hij is tegen het idee.</span>                |\n",
    "| **de jeuk**                        | itch                          | <span style=\"color:purple\">De jeuk is erger geworden.</span>            |\n",
    "| **anders**                         | otherwise                     | <span style=\"color:purple\">Je moet anders denken.</span>                |\n",
    "| **krabt (krabben)**                | scratch                       | <span style=\"color:purple\">Hij krabt zijn arm.</span>                   |\n",
    "| **de huid**                        | skin                          | <span style=\"color:purple\">Haar huid is erg zacht.</span>               |\n",
    "| **kapot**                          | broken                        | <span style=\"color:purple\">Mijn telefoon is kapot.</span>               |\n",
    "| **sterkte**                        | good luck                     | <span style=\"color:purple\">Sterkte met je examen!</span>                |\n"
   ]
  }
 ],
 "metadata": {
  "language_info": {
   "name": "python"
  }
 },
 "nbformat": 4,
 "nbformat_minor": 5
}

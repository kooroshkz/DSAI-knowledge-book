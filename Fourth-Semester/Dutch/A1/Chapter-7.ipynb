{
 "cells": [
  {
   "cell_type": "markdown",
   "id": "e35ce0b9",
   "metadata": {
    "vscode": {
     "languageId": "plaintext"
    }
   },
   "source": [
    "\n",
    "## Comparative & Superlative\n",
    "\n",
    "Regular:\n",
    "\n",
    "| Adjective | Comparative (<span style=\"color:purple\">… dan</span>)   | Superlative (<span style=\"color:green\">het …st</span>)    |\n",
    "|:----------|:-------------------------------------------------------|:----------------------------------------------------------|\n",
    "| klein     | <span style=\"color:purple\">kleiner dan</span>          | <span style=\"color:green\">(het) kleinst</span>            |\n",
    "| groot     | <span style=\"color:purple\">groter dan</span>           | <span style=\"color:green\">(het) grootst</span>            |\n",
    "| duur      | <span style=\"color:purple\">duurder dan</span>          | <span style=\"color:green\">(het) duurst</span>             |\n",
    "| goedkoop  | <span style=\"color:purple\">goedkoper dan</span>        | <span style=\"color:green\">(het) goedkoopst</span>         |\n",
    "\n",
    "Irregular:\n",
    "\n",
    "| Adjective | Comparative (<span style=\"color:purple\">… dan</span>)   | Superlative (<span style=\"color:green\">het …st</span>)    |\n",
    "|:----------|:-------------------------------------------------------|:----------------------------------------------------------|\n",
    "| goed      | <span style=\"color:purple\">beter dan</span>            | <span style=\"color:green\">(het) best</span>               |\n",
    "| veel      | <span style=\"color:purple\">meer dan</span>             | <span style=\"color:green\">(het) meest</span>              |\n",
    "| weinig    | <span style=\"color:purple\">minder dan</span>           | <span style=\"color:green\">(het) minst</span>              |\n",
    "| graag     | <span style=\"color:purple\">liever dan</span>           | <span style=\"color:green\">(het) liefst</span>             |\n",
    "\n",
    "---\n",
    "\n",
    "\n",
    "## Demonstratief Pronomen\n",
    "\n",
    "|                | hier (near)                           | daar (far)                            |\n",
    "|:---------------|:--------------------------------------|:--------------------------------------|\n",
    "| **d<span style=\"color:red\">e</span> (sing.)** | <span style=\"color:orange\">dez</span><span style=\"color:red\">e</span> | <span style=\"color:orange\">di</span><span style=\"color:red\">e</span>  |\n",
    "| **he<span style=\"color:green\">t</span> (sing.)**| <span style=\"color:orange\">di</span><span style=\"color:green\">t</span>  | <span style=\"color:orange\">da</span><span style=\"color:green\">t</span>  |\n",
    "| **d<span style=\"color:red\">e</span> (plur.)** | <span style=\"color:orange\">dez</span><span style=\"color:red\">e</span> | <span style=\"color:orange\">di</span><span style=\"color:red\">e</span>  |  \n",
    "\n",
    "`Het` will be turned into `de` for plural nouns.\n",
    "\n",
    "---"
   ]
  },
  {
   "cell_type": "markdown",
   "id": "d29d6e93",
   "metadata": {},
   "source": [
    "## Pronouns and Examples\n",
    "\n",
    "### 1. Subjectvorm (subject form) – used when the object is doing something\n",
    "\n",
    "| **<span style=\"color:lightblue\">Word type</span>**       | **<span style=\"color:green\">Pronoun</span>** | **<span style=\"color:purple\">Example</span>**                                                                                                          |\n",
    "| --------------------- | ------- | ---------------------------------------------------------------------------------------------------------------- |\n",
    "| **<span style=\"color:lightblue\">de-woord (de words)</span>**   | **<span style=\"color:green\">hij</span>** | *<span style=\"color:purple\">Dit is mijn nieuwe fiets. Hij rijdt goed.</span>*<br>(This is my new bike. It rides well.)                             |\n",
    "| **<span style=\"color:lightblue\">het-woord (het words)</span>** | **<span style=\"color:green\">het</span>** | *<span style=\"color:purple\">Dit is een goed boek. Het kost twaalf euro.</span>*<br>(This is a good book. It costs twelve euros.)                   |\n",
    "| **<span style=\"color:lightblue\">pluralis (plural)</span>**     | **<span style=\"color:green\">ze</span>**  | *<span style=\"color:purple\">Dat zijn leuke schoenen! Ze zijn ook niet zo duur.</span>*<br>(Those are nice shoes! They are also not too expensive.) |\n",
    "\n",
    "### 2. Objectvorm (object form) – used when something is receiving an action\n",
    "\n",
    "| **<span style=\"color:lightblue\">Word type</span>**       | **<span style=\"color:green\">Pronoun</span>** | **<span style=\"color:purple\">Example</span>**                                                                                                            |\n",
    "| --------------------- | ------- | ------------------------------------------------------------------------------------------------------------------ |\n",
    "| **<span style=\"color:lightblue\">de-woord (de words)</span>**   | **<span style=\"color:green\">hem</span>** | *<span style=\"color:purple\">Dit is mijn nieuwe fiets. Ik heb hem pas drie weken.</span>*<br>(This is my new bike. I’ve only had it for three weeks.) |\n",
    "| **<span style=\"color:lightblue\">het-woord (het words)</span>** | **<span style=\"color:green\">het</span>** | *<span style=\"color:purple\">Dit is een goed boek. Ik koop het voor mijn vriendin.</span>*<br>(This is a good book. I’m buying it for my girlfriend.) |\n",
    "| **<span style=\"color:lightblue\">pluralis (plural)</span>**     | **<span style=\"color:green\">ze</span>**  | *<span style=\"color:purple\">Dat zijn leuke schoenen! Mag ik ze even passen?</span>*<br>(Those are nice shoes! Can I try them on?)                    |\n",
    "\n",
    "---"
   ]
  },
  {
   "cell_type": "markdown",
   "id": "22d251e2",
   "metadata": {},
   "source": [
    "### Colors\n",
    "| **Kleur**        | **Translation**  |\n",
    "|:-----------------|:-----------------|\n",
    "| **<span style=\"color:green\">groen</span>**        | green            |\n",
    "| **<span style=\"color:yellow\">geel</span>**         | yellow           |\n",
    "| **<span style=\"color:purple\">paars</span>**        | purple           |\n",
    "| **<span style=\"color:brown\">bruin</span>**        | brown            |\n",
    "| **<span style=\"color:gold\">goud</span>**         | gold             |\n",
    "\n",
    "- **Donker**... = dark...\n",
    "- **Licht**... = light...\n",
    "\n",
    "### Kleding\n",
    "| **Kleding**      | **Translation**  |\n",
    "|:-----------------|:-----------------|\n",
    "| **de spijkerbroek** | the jeans     |\n",
    "| **het T-shirt**   | the t-shirt     |\n",
    "| **de rok**       | the skirt        |\n",
    "| **de jurk**      | the dress        |\n",
    "| **de trui**      | the sweater      |\n",
    "| **de jas**       | the coat         |\n",
    "| **de handschoenen**| the gloves     |\n",
    "| **de tas**       | the bag          |\n",
    "| **de zonnebril** | the sunglasses   |\n",
    "| **de onderbroek**| the underwear    |\n",
    "\n",
    "---"
   ]
  },
  {
   "cell_type": "markdown",
   "id": "c86fe569",
   "metadata": {
    "vscode": {
     "languageId": "plaintext"
    }
   },
   "source": [
    "## Words\n",
    "\n",
    "| **Word**                                | **Translation**      | **Example**                                           |\n",
    "|:----------------------------------------|:---------------------|:------------------------------------------------------|\n",
    "| **de kledingzaak**                      | clothes shop         | <span style=\"color:purple\">Ik ga naar de kledingzaak.</span>     |\n",
    "| **de zaak**                             | shop / store         | <span style=\"color:purple\">De zaak is groot.</span>               |\n",
    "| **de verkoopster**                      | saleswoman           | <span style=\"color:purple\">De verkoopster helpt me.</span>        |\n",
    "| **zoek (zoeken)**                       | am looking           | <span style=\"color:purple\">Ik zoek een nieuwe jas.</span>         |\n",
    "| **wat voor**                            | what kind of         | <span style=\"color:purple\">Wat voor muziek luister jij?</span>    |\n",
    "| **het model**                           | style                | <span style=\"color:purple\">Dit model is modern.</span>            |\n",
    "| **laag**                                | low                  | <span style=\"color:purple\">De stoel is laag.</span>               |\n",
    "| **hoog**                                | high                 | <span style=\"color:purple\">De tafel is hoog.</span>              |\n",
    "| **verschillende (verschillend)**        | different            | <span style=\"color:purple\">Ik heb verschillende kleuren.</span>   |\n",
    "| **probeert (proberen)**                 | try on               | <span style=\"color:purple\">Ik probeer de jas aan.</span>          |\n",
    "| **allebei**                             | both                 | <span style=\"color:purple\">We willen allebei pizza.</span>         |\n",
    "| **maar even**                           | just                 | <span style=\"color:purple\">Ik ben maar even hier.</span>          |\n",
    "| **ergens**                              | somewhere            | <span style=\"color:purple\">Ik ga ergens naartoe.</span>           |\n",
    "| **passen**                              | try on               | <span style=\"color:purple\">Je moet de broek passen.</span>        |\n",
    "| **zitten**                              | fit                  | <span style=\"color:purple\">De jas zit goed.</span>                |\n",
    "| **wijd**                                | wide                 | <span style=\"color:purple\">De broek is te wijd.</span>            |\n",
    "| **eventueel**                           | if necessary         | <span style=\"color:purple\">Je kunt het eventueel ruilen.</span>   |\n",
    "| **ruilen**                              | exchange             | <span style=\"color:purple\">Ik wil deze broek ruilen.</span>       |\n",
    "| **binnen**                              | within               | <span style=\"color:purple\">Je moet binnen vijf minuten terug zijn.</span> |\n",
    "| **liggen**                              | are (lie)            | <span style=\"color:purple\">De schoenen liggen op de tafel.</span> |\n",
    "| **allerlei**                            | all kinds of         | <span style=\"color:purple\">Er zijn allerlei soorten fruit.</span> |\n",
    "| **beslissen**                           | decide               | <span style=\"color:purple\">We moeten snel beslissen.</span>       |\n",
    "| **staat me het best (staan)**           | suits me best        | <span style=\"color:purple\">Deze kleur staat me het best.</span>   |\n"
   ]
  }
 ],
 "metadata": {
  "language_info": {
   "name": "python"
  }
 },
 "nbformat": 4,
 "nbformat_minor": 5
}

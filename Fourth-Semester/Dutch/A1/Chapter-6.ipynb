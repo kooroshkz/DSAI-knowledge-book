{
 "cells": [
  {
   "cell_type": "markdown",
   "id": "e35ce0b9",
   "metadata": {
    "vscode": {
     "languageId": "plaintext"
    }
   },
   "source": [
    "## Fixed Combinations\n",
    "\n",
    "- **<span style=\"color:orange\">aan de beurt zijn</span>** : Wie is er aan de beurt? (Who is next?)\n",
    "- **<span style=\"color:green\">op bezoek gaan / komen</span>** : Ik ga op bezoek bij mijn opa. (I am going to visit my grandfather.)\n",
    "---"
   ]
  },
  {
   "cell_type": "markdown",
   "id": "22d251e2",
   "metadata": {},
   "source": [
    "## Words\n",
    "\n",
    "| **Word**         | **Translation**  | **Example**               |\n",
    "|:-----------------|:-----------------|:--------------------------|\n",
    "| **de lepel** | the spoon      | <span style=\"color:purple\">Ik eet met een lepel.</span> |\n",
    "| **de vork** | the fork        | <span style=\"color:purple\">Ik eet met een vork.</span> |\n",
    "| **het mes** | the knife      | <span style=\"color:purple\">Ik snijd met een mes.</span> |\n",
    "| **kiezen** | to choose       | <span style=\"color:purple\">Ik kies een boek.</span> |\n",
    "| **de serveerster** | female waitress | <span style=\"color:purple\">De serveerster brengt het eten.</span> |\n",
    "| **alvast** | in the meantime | <span style=\"color:purple\">Ik bestel alvast een drankje.</span> |\n",
    "| **misschien** | maybe           | <span style=\"color:purple\">Misschien ga ik morgen naar het feest.</span> |\n",
    "| **wat** | a little        | <span style=\"color:purple\">Ik heb wat geld(money) nodig.</span> |\n",
    "\n",
    "\n"
   ]
  }
 ],
 "metadata": {
  "kernelspec": {
   "display_name": "base",
   "language": "python",
   "name": "python3"
  },
  "language_info": {
   "name": "python",
   "version": "3.12.2"
  }
 },
 "nbformat": 4,
 "nbformat_minor": 5
}

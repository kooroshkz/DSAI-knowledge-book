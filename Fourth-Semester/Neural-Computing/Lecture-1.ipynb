{
 "cells": [
  {
   "cell_type": "markdown",
   "metadata": {
    "vscode": {
     "languageId": "plaintext"
    }
   },
   "source": [
    "- **Neuron**:\n",
    "    - **Dendriets**: Branches, recieve signals (action potentials / spikes)\n",
    "    - **Soma**: Cell body, contains nucleus\n",
    "    - **Axon**: Long fiber, transmits signals\n",
    "    - **Axon Terminals**: End points, release neurotransmitters\n",
    "    - **Synapse**: Gap between neurons, where axons connect to dendrites\n",
    "\n",
    "<img src=\"https://miro.medium.com/v2/resize:fit:1400/0*Pe4zFis_WAH7J56A.jpg\" width=\"400\" />\n",
    "\n",
    "- **McCulloch-Pitts Model** :‌ $ O = sgn( \\sum w_i x_i ) $\n",
    "- **Excitation** a positive effect like positive weights increasing the chance to fire.\n"
   ]
  }
 ],
 "metadata": {
  "language_info": {
   "name": "python"
  }
 },
 "nbformat": 4,
 "nbformat_minor": 2
}

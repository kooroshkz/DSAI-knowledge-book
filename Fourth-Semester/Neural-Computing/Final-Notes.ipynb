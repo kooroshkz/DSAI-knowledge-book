{
 "cells": [
  {
   "cell_type": "markdown",
   "id": "650ae7be",
   "metadata": {},
   "source": [
    "- **BP** have both forward and backward passes.\n",
    "- **Image Classification** we use **Softmax** to convert logits to probabilities.\n",
    "- The kernels (filters) are trainable weights updated during backpropagation.\n",
    "- So **Convolution** have **trainable weights**.\n",
    "- Both help to extract important features — convolution extracts local features, pooling reduces size and keeps important info\n",
    "* **Constant Error Carousel (CEC) or $C_t$**: contains the cell state value at time $t$ ensures gradients don't decay, as it allows for old histories to be forwarded to current time step. \n",
    "* **$\\tilde{C}(t)$**: The candidate cell state with new information to be added.\n",
    "* **$i_t$**: The input gate controlling how much new candidate info (Ĉ\\_t) is added to the cell state.\n",
    "* Pooling operation can make information loss."
   ]
  },
  {
   "cell_type": "markdown",
   "id": "bb414e92",
   "metadata": {},
   "source": []
  }
 ],
 "metadata": {
  "language_info": {
   "name": "python"
  }
 },
 "nbformat": 4,
 "nbformat_minor": 5
}

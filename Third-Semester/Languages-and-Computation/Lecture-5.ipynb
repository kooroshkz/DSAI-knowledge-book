{
 "cells": [
  {
   "cell_type": "markdown",
   "id": "1d4e61d1",
   "metadata": {},
   "source": [
    "### Context-Free Grammars\n",
    "* A **grammar G** is *context-free* if each rule (production) has **one non-terminal** on the left-hand side.\n",
    "\n",
    "  * Example of context-free grammar: `S → aSb | ε` (one non-terminal on the left and any terminals/non-terminals on the right)\n",
    "  * Example of Non context-free grammar: `AB → BA` (two non-terminals on the left)\n",
    "\n",
    "### Context-Free Languages\n",
    "* A **language L** is *context-free* if there exists a context-free grammar **G** that produces it.\n"
   ]
  },
  {
   "cell_type": "markdown",
   "id": "a553e928",
   "metadata": {
    "vscode": {
     "languageId": "plaintext"
    }
   },
   "source": [
    "---\n",
    "\n",
    "#### Examples"
   ]
  },
  {
   "cell_type": "markdown",
   "id": "f38d0ffb",
   "metadata": {
    "vscode": {
     "languageId": "plaintext"
    }
   },
   "source": [
    "##### 1- $\\{a^n b^n c^n : n >= 0\\}$\n",
    "$ S \\rightarrow A | \\epsilon $\n",
    "\n",
    "$ A \\rightarrow aABc | abc $\n",
    "\n",
    "$ cB \\rightarrow Bc $\n",
    "\n",
    "$ bB \\rightarrow bb $\n",
    "\n",
    "##### 2- Describle L(G) and draw a parse tree for the string \"abaabb\"\n",
    "$ S \\rightarrow aB | bA | \\lambda $\n",
    "\n",
    "$ A \\rightarrow aS | bAA $\n",
    "\n",
    "$ B \\rightarrow bS | aBB $\n",
    "\n",
    "<img src=\"../../Files/third-semester/lac/19.png\" alt=\"Parse Tree\" width=\"300\"/>"
   ]
  },
  {
   "cell_type": "markdown",
   "id": "bb7228bc",
   "metadata": {
    "vscode": {
     "languageId": "plaintext"
    }
   },
   "source": [
    "---\n",
    "\n",
    "#### BNF notation\n",
    "**Backus–Naur Form (BNF)**\n",
    "* `< >` for **non-terminals** (e.g. `<expression>`)\n",
    "* Real characters like `+`, `·`, or keywords (`while`) for **terminals**\n",
    "* `::=` to mean **“is defined as”**\n",
    "* `|` for **alternatives**\n",
    "\n",
    "Examples:\n",
    "\n",
    "`<expression> ::= <term> | <expression> + <term>` $ E \\rightarrow E + T | T $\n",
    "\n",
    "`<term>       ::= <factor> | <term> · <factor>` $ T \\rightarrow T \\cdot F | F $\n",
    "\n",
    "`<while_statement> ::= while <expression> <statement>` $ W \\rightarrow \\text{while } E \\; S $\n",
    "\n"
   ]
  }
 ],
 "metadata": {
  "language_info": {
   "name": "python"
  }
 },
 "nbformat": 4,
 "nbformat_minor": 5
}

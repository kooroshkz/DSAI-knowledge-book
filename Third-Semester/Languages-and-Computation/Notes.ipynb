{
 "cells": [
  {
   "cell_type": "markdown",
   "id": "1b4f9e07",
   "metadata": {
    "vscode": {
     "languageId": "plaintext"
    }
   },
   "source": [
    "### Commons:\n",
    "\n",
    "- **L = { aⁿbⁿ | n ≥ 0 }**.\n",
    "\n",
    "```\n",
    "S → aSb | ε\n",
    "```\n",
    "\n",
    "\n",
    "- **L = { aⁿbⁿ mix positions of a's and b's | n ≥ 0 }** \n",
    "\n",
    "```\n",
    "S → aSb | bSa | SS | ε\n",
    "```\n",
    "\n",
    "- all even-length palindromes over {a, b}\n",
    "\n",
    "```\n",
    "S → aSa | bSb | ε\n",
    "```\n",
    "- all palindromes \n",
    "\n",
    "```\n",
    "S → aSa | bSb | a | b | ε\n",
    "```\n",
    "\n",
    "- L = { aⁱbʲ | i, j ≥ 0 }** \n",
    "\n",
    "```\n",
    "S → aS | T\n",
    "T → bT | ε\n",
    "```\n",
    "-  **balanced parentheses** over `(` and `)`.\n",
    "\n",
    "```\n",
    "S → SS | (S) | ε\n",
    "```\n",
    "\n",
    "- **L = { aⁱbʲcᵏ | i = j }** \n",
    "\n",
    "```\n",
    "S → AB\n",
    "A → aAb | ε\n",
    "B → cB | ε\n",
    "```\n",
    "- **L = { aⁿbᵐaⁿ | n, m ≥ 0 }** \n",
    "\n",
    "```\n",
    "S → aSa | B\n",
    "B → bB | ε\n",
    "```\n",
    "\n",
    "- **strings over {a, b} with equal numbers of a’s and b’s** \n",
    "\n",
    "```\n",
    "S → aSbS | bSaS | SS | ε\n",
    "```"
   ]
  }
 ],
 "metadata": {
  "language_info": {
   "name": "python"
  }
 },
 "nbformat": 4,
 "nbformat_minor": 5
}

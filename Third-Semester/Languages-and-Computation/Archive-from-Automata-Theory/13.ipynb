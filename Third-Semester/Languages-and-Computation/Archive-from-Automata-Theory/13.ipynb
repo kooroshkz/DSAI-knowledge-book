{
 "cells": [
  {
   "cell_type": "markdown",
   "metadata": {},
   "source": [
    "A **Pushdown Automaton (PDA)** can accept a string in two ways:\n",
    "\n",
    "1. **Final State Acceptance**: PDA finishes in an accepting state after reading all input.\n",
    "2. **Empty Stack Acceptance**: PDA finishes with the **stack empty** after reading all input.\n",
    "\n",
    "We are now focusing on **empty stack acceptance**.\n",
    "\n",
    "---\n",
    "\n",
    "A PDA $ M $ accepts a string $ x $ **by empty stack** if:  \n",
    "- Starting from the initial state $ q_0 $,  \n",
    "- After reading the input $ x $,  \n",
    "- The **stack becomes empty** (all symbols popped).  \n",
    "\n",
    "This is written as:  \n",
    "$$\n",
    "(q_0, x, Z_0) \\vdash^* (q, \\Lambda, \\Lambda) \\ \\text{for some state} \\ q.\n",
    "$$  \n",
    "\n",
    "$$\n",
    "L_e(M) = \\{ x \\in \\Sigma^* \\mid \\exists q \\in Q \\text{ such that } (q_0, x, Z_0) \\vdash^* (q, \\Lambda, \\Lambda) \\}\n",
    "$$\n",
    "\n",
    "---"
   ]
  },
  {
   "cell_type": "markdown",
   "metadata": {},
   "source": [
    "1. **State Representation**:  \n",
    "   $$\n",
    "   [p, X, q]\n",
    "   $$\n",
    "   - $ p $: Current state.  \n",
    "   - $ X $: Top of the stack.  \n",
    "   - $ q $: Next state.\n",
    "\n",
    "2. **Transitions**:  \n",
    "   - **δ function**: Defines how the PDA behaves based on the current state, input symbol, and top stack symbol.  \n",
    "   - For example:  \n",
    "     $$\n",
    "     δ(1, a, X) = \\{ (1, AX) \\}\n",
    "     $$  \n",
    "     - In **State 1**, reading $ a $ with $ X $ on the stack pushes $ A $ on top of $ X $.\n",
    "\n",
    "---"
   ]
  },
  {
   "cell_type": "markdown",
   "metadata": {},
   "source": [
    "![Automata](../../Files/third-semester/automata/22.png)\n",
    "$$\n",
    "[1, X, 1] \\to a [1, A, 1][1, X, 1]\n",
    "$$\n",
    "- **[1, X, 1]**:  \n",
    "   - State **1** (current state).  $\\to$ **X** is the top of the stack. $\\to$ Transition **stays in state 1**.\n",
    "\n",
    "- **a**:  \n",
    "   - Input symbol being read is $ a $.\n",
    "\n",
    "- **[1, A, 1][1, X, 1]**:  \n",
    "   - The stack action:  \n",
    "     - **Push A** on top of the stack (associated with reading $ a $).  \n",
    "     - Then continue processing with **X** still remaining on the stack (recursion).  \n",
    "\n",
    "$$\n",
    "[1, X, 1] \\to a [1, A, 2][2, X, 1]\n",
    "$$\n",
    "- **[1, X, 1]**:  \n",
    "   - State **1** (current state).  $\\to$ **X** is the top of the stack.\n",
    "\n",
    "- **a**:  \n",
    "   - Input symbol being read is $ a $.\n",
    "\n",
    "- **[1, A, 2][2, X, 1]**:  \n",
    "   - Stack action:  \n",
    "     - **Push A** onto the stack (associated with reading $ a $).  $\\to$ Transition the automaton to **State 2**.  $\\to$ Continue processing $ X $ on the stack in state 2.\n",
    "\n",
    "#### **What does it do?**  \n",
    "- This rule **pushes an \"A\"** onto the stack when $ a $ is read.  \n",
    "- However, unlike the first rule, it moves the PDA into **State 2**.  \n",
    "- State 2 marks the **pop phase**:  \n",
    "   - It prepares the PDA to process the second half $ w^r $ of the palindrome.  \n",
    "\n",
    "---"
   ]
  },
  {
   "cell_type": "markdown",
   "metadata": {},
   "source": [
    "**theorem (Pumping Lemma for context-free languages):**  \n",
    "For every context-free language $L$, there is a constant $n \\ge 2$ such that for any string $u \\in L$ with $|u| \\ge n$, we can split $u$ as $u = vwxyz$ where:\n",
    "\n",
    "1. $\\lvert wy\\rvert \\ge 1$  \n",
    "2. $\\lvert wxy\\rvert \\le n$  \n",
    "3. For all $m \\ge 0,\\; vw^m x y^m z \\in L$."
   ]
  },
  {
   "cell_type": "markdown",
   "metadata": {},
   "source": [
    "![Automata](../../Files/third-semester/automata/23.png)"
   ]
  }
 ],
 "metadata": {
  "language_info": {
   "name": "python"
  }
 },
 "nbformat": 4,
 "nbformat_minor": 2
}

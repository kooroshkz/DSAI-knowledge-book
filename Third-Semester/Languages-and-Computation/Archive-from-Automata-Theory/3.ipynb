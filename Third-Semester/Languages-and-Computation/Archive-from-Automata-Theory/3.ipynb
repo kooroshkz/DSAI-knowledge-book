{
 "cells": [
  {
   "cell_type": "markdown",
   "metadata": {},
   "source": [
    "Let $ L = \\{ a^{i^2} \\mid i \\geq 0 \\} $\n",
    "\n",
    "**Lagrange's four-square theorem**\n",
    "$p=a^{2}+b^{2}+c^{2}+d^{2}$\n",
    "\n",
    "$ L^4 = \\{ a^* \\} $\n",
    "\n",
    "#### decidable ⇐⇒ ∃ algorithm that decides\n",
    "\n",
    "\n"
   ]
  },
  {
   "cell_type": "markdown",
   "metadata": {},
   "source": [
    "Regular languages can be finite, infinite, or nonempty. \n",
    "\n",
    "1. **Nonempty Language:**  \n",
    "   - A language $ L $  is nonempty if there exists a string $ x \\in L $  with $ |x| < n $ , where $ n $  is the number of states in the finite automaton (FA).\n",
    "   - Proof uses the **pumping lemma** to find a shorter string.\n",
    "\n",
    "2. **Infinite Language:**  \n",
    "   - A language $ L $  is infinite if there exists a string $ x \\in L $  with $ |x| \\geq n $ .\n",
    "   - Proof uses the pumping lemma to generate infinitely many strings.\n",
    "\n",
    "3. **Finite Check for Decidability:**  \n",
    "   - To check if $ L $  is nonempty, examine strings $ |x| < n $ .  \n",
    "   - To check if $ L $  is infinite, examine strings $ n \\leq |x| < 2n $ . Both involve finite checks."
   ]
  },
  {
   "cell_type": "markdown",
   "metadata": {},
   "source": [
    "---"
   ]
  },
  {
   "cell_type": "markdown",
   "metadata": {
    "vscode": {
     "languageId": "plaintext"
    }
   },
   "source": [
    "### Distinguishable Strings\n",
    "\n",
    "1. **Distinguishable Strings Definition**:\n",
    "   - Two strings $ x $ and $ y $ are *distinguishable* with respect to a language $ L $ if there exists another string $ z $ such that:\n",
    "     - **One Combination**: $ xz \\in L $ (meaning the combined string $ xz $ is in $ L $) but $ yz \\notin L $ (the combined string $ yz $ is not in $ L $).\n",
    "     - **Or Vice Versa**: $ xz \\notin L $ but $ yz \\in L $.\n",
    "   - In simpler terms, $ z $ acts as a \"test string\" to distinguish between $ x $ and $ y $ based on whether combining $ z $ with each of them results in a string in $ L $.\n",
    "\n",
    "2. **Equivalent Definition**:\n",
    "   - We can define distinguishability using *quotient languages*:\n",
    "     - Define $ L/x = \\{ z \\in \\Sigma^* \\mid xz \\in L \\} $.\n",
    "     - $ x $ and $ y $ are **L-distinguishable** if $ L/x \\neq L/y $ (meaning appending $ z $ to $ x $ results in a different membership in $ L $ than appending $ z $ to $ y $).\n",
    "\n",
    "3. **Pairwise Distinguishability**:\n",
    "   - A set of strings $ S \\subseteq \\Sigma^* $ is *pairwise L-distinguishable* if every unique pair of strings $ x, y \\in S $ are distinguishable from each other with respect to $ L $."
   ]
  },
  {
   "cell_type": "markdown",
   "metadata": {
    "vscode": {
     "languageId": "plaintext"
    }
   },
   "source": [
    "### If $ x $ and $ y $ are distinguishable, then $ \\delta^*(q_0, x) \\neq \\delta^*(q_0, y) $."
   ]
  }
 ],
 "metadata": {
  "language_info": {
   "name": "python"
  }
 },
 "nbformat": 4,
 "nbformat_minor": 2
}

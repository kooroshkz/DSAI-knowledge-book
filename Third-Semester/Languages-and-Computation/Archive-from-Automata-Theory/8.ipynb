{
 "cells": [
  {
   "cell_type": "markdown",
   "metadata": {},
   "source": [
    "### **Overview of Language Classes**\n",
    "Languages are classified into different categories based on their complexity and the type of machine that recognizes them:\n",
    "\n",
    "| **Language Class** | **Recognized By**            | **Example Grammar** |\n",
    "|---------------------|------------------------------|----------------------|\n",
    "| Regular Languages   | Finite Automata (FA)        | Regular Grammar      |\n",
    "| Context-Free (CFL)  | Pushdown Automata (PDA)     | Context-Free Grammar |\n",
    "| Context-Sensitive   | Linear Bounded Automata     | Context-Sensitive    |\n",
    "| Recursively Enumerable (RE) | Turing Machines         | Unrestricted Grammar |\n",
    "\n",
    "---\n",
    "\n",
    "### **Advanced Context-Free Language Examples**\n",
    "\n",
    "#### **$ L_1 = \\{a^i b^j c^k \\mid i = j + k\\} $**\n",
    "**Grammar**:\n",
    "$$\n",
    "S \\to aSc \\,|\\, T, \\quad T \\to aTb \\,|\\, \\Lambda\n",
    "$$\n",
    "\n",
    "#### **Derivation for $ aaa \\, b \\, cc $:**\n",
    "1. $ S \\to aSc \\to aaScc \\to aaTcc $\n",
    "2. $ aaTcc \\to aaaTbcc $\n",
    "3. $ aaaTbcc \\to aaabcc $\n",
    "\n",
    "---"
   ]
  },
  {
   "cell_type": "markdown",
   "metadata": {},
   "source": [
    "#### **$ L_2 = \\{a^i b^j c^k \\mid j = i + k\\} $**\n",
    "**Grammar**:\n",
    "$$\n",
    "S \\to XY, \\quad X \\to aXb \\,|\\, \\Lambda, \\quad Y \\to bYc \\,|\\, \\Lambda\n",
    "$$\n",
    "\n",
    "#### **Derivation for $ a \\, bbb \\, cc $:**\n",
    "1. $ S \\to XY \\to aXbYc $\n",
    "2. $ aXbYc \\to abYc \\to abbbYcc $\n",
    "3. $ abbbYcc \\to abbbcc $\n",
    "\n",
    "\n",
    "![Automata Image](../../Files/third-semester/automata/12.JPG)\n",
    "\n",
    "\n",
    "$$\n",
    "     a^i b^i b^k c^k\n",
    "$$\n",
    "---"
   ]
  },
  {
   "cell_type": "markdown",
   "metadata": {},
   "source": [
    "### **Context-Free vs. Non-Context-Free**\n",
    "Some languages **cannot** be represented by a CFG, such as:\n",
    "1. $ A_nB_nC_n = \\{a^n b^n c^n \\mid n \\geq 0\\} $: Requires all three counts $ n $ to match, which a PDA cannot handle.\n",
    "2. $ XX = \\{xx \\mid x \\in \\{a, b\\}^* \\} $: Requires comparing two identical substrings.\n",
    "\n",
    "#### **Reason**:\n",
    "- Context-free languages cannot handle multiple dependencies simultaneously, as PDAs have a single stack.\n",
    "\n",
    "---"
   ]
  },
  {
   "cell_type": "markdown",
   "metadata": {},
   "source": [
    "### **Regular Grammars**\n",
    "A **regular grammar** is a simplified type of CFG that generates regular languages. Productions are of the form:\n",
    "- $ A \\to \\sigma B $: A variable produces a terminal followed by another variable.\n",
    "- $ A \\to \\Lambda $: A variable produces the empty string.\n",
    "\n",
    "#### **Example**:\n",
    "- **Grammar**:\n",
    "  $$\n",
    "  S \\to aA \\,|\\, bS, \\quad A \\to bS \\,|\\, \\Lambda\n",
    "  $$\n",
    "- **Generated Strings**: $ ab, abb, abbb, \\dots $\n",
    "\n",
    "---"
   ]
  },
  {
   "cell_type": "markdown",
   "metadata": {},
   "source": [
    "\n",
    "### **CFG for Arithmetic Expressions**\n",
    "\n",
    "#### **Grammar**:\n",
    "$$\n",
    "S \\to a \\,|\\, S + S \\,|\\, S \\ast S \\,|\\, (S)\n",
    "$$\n",
    "- Terminals: $ \\{a, +, \\ast, (, )\\} $ (actual symbols in the string).\n",
    "- Non-terminal: $ S $ (represents an expression).\n",
    "\n",
    "#### **String to Derive**: $ a + (a \\ast a) $\n",
    "\n",
    "#### **Leftmost Derivation**:\n",
    "Expand the **leftmost variable** first at every step:\n",
    "1. $ S \\to S + S $ (start expanding $ S $).\n",
    "2. $ S + S \\to a + S $ (expand the **leftmost $ S $** to $ a $).\n",
    "3. $ a + S \\to a + (S) $ (next, expand the **leftmost $ S $** to $ (S) $).\n",
    "4. $ a + (S) \\to a + (S \\ast S) $ (expand the **leftmost $ S $** inside the parentheses).\n",
    "5. $ a + (S \\ast S) \\to a + (a \\ast S) $ (expand the leftmost $ S $ to $ a $).\n",
    "6. $ a + (a \\ast S) \\to a + (a \\ast a) $ (expand the last $ S $).\n",
    "\n",
    "\n",
    "### **Derivation Tree**\n",
    "\n",
    "Both leftmost and rightmost derivations produce the **same string**, but the order of rule application differs. The derivation tree for $ a + (a \\ast a) $ looks like this:\n",
    "\n",
    "```\n",
    "         S\n",
    "       / | \\\n",
    "      S  +  S\n",
    "     a     / | \\\n",
    "          (   S  )\n",
    "             / | \\\n",
    "            S   *  S\n",
    "           a       a\n",
    "```"
   ]
  }
 ],
 "metadata": {
  "language_info": {
   "name": "python"
  }
 },
 "nbformat": 4,
 "nbformat_minor": 2
}

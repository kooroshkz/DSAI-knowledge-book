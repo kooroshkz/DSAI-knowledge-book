{
 "cells": [
  {
   "cell_type": "markdown",
   "metadata": {},
   "source": [
    "# Formalism\n",
    "\n",
    "A finite automaton is formally defined as a 5-tuple:  \n",
    "$ M = (Q, \\Sigma, q_0, A, \\delta) $\n",
    "\n",
    "### Deterministic Finite Automaton (DFA):\n",
    "- **Transition Function**:  \n",
    "  $ \\delta : Q \\times \\Sigma \\to Q $  \n",
    "  This means that for each state ($Q$) and input symbol ($\\Sigma$), there is exactly one next state.\n",
    "\n",
    "### Nondeterministic Finite Automaton (NFA):\n",
    "- **Transition Function**:  \n",
    "  $ \\delta : Q \\times (\\Sigma \\cup \\{\\Lambda\\}) \\to 2^Q $  \n",
    "  This allows multiple possible next states for a given state and input symbol, including $\\Lambda$ (epsilon, or empty) transitions.  "
   ]
  },
  {
   "cell_type": "markdown",
   "metadata": {
    "vscode": {
     "languageId": "plaintext"
    }
   },
   "source": [
    "---\n",
    "\n",
    "## **Subset construction (From $NFA \\to DFA$)**\n",
    "\n",
    "First we make a transition table with the head $|State (q)| \\delta(q,a)| \\delta (q,b)$ then start from the initial state and find the next states for each input symbol. Finally we will draw a new graph with the states as the nodes and the transitions as the edges.\n",
    "\n",
    "##### Example:\n",
    "![automata](../../Files/third-semester/automata/25.png)\n",
    "| state \\( q \\) | \\( \\delta(q, a) \\) | \\( \\delta(q, b) \\) |\n",
    "|--------------|-------------------|-------------------|\n",
    "| 1            | 234               | ∅                 |\n",
    "| 234          | 14                | 34                |\n",
    "| 14           | 1234              | ∅                 |\n",
    "| 34           | 14                | 4                 |\n",
    "| 1234         | 1234              | 34                |\n",
    "| 4            | 14                | ∅                 |\n",
    "| ∅            | ∅                 | ∅                 |\n",
    "\n",
    "![automata](../../Files/third-semester/automata/26.png)\n"
   ]
  },
  {
   "cell_type": "markdown",
   "metadata": {},
   "source": [
    "---\n",
    "## $\\Lambda$-Closure (Epsilon-Closure)\n",
    "\n",
    "\n",
    "### Definition:\n",
    "- $\\Lambda(S)$: The set of states reachable from a set $S \\subseteq Q$ through **only $\\Lambda$-transitions**.\n",
    "  - $S \\subseteq \\Lambda(S)$: Every state in $S$ is included in its own $\\Lambda$-closure.\n",
    "  - If $q \\in \\Lambda(S)$, then $\\delta(q, \\Lambda) \\subseteq \\Lambda(S)$: If a state $q$ is in the closure, all states reachable via $\\Lambda$-transitions from $q$ are also included.\n",
    "\n",
    "![Automata Image](../../Files/third-semester/automata/5.JPG)\n"
   ]
  },
  {
   "cell_type": "markdown",
   "metadata": {},
   "source": [
    "---\n",
    "\n",
    "![Automata Image](../../Files/third-semester/automata/6.JPG)\n"
   ]
  },
  {
   "cell_type": "markdown",
   "metadata": {
    "vscode": {
     "languageId": "plaintext"
    }
   },
   "source": [
    "Finite Automata (FA):\n",
    "- **Deterministic Finite Automaton (DFA)**: For each state and input symbol, there's exactly one next state.\n",
    "- **Non-deterministic Finite Automaton (NFA)**: From a given state and input symbol, there can be multiple next states."
   ]
  }
 ],
 "metadata": {
  "language_info": {
   "name": "python"
  }
 },
 "nbformat": 4,
 "nbformat_minor": 2
}

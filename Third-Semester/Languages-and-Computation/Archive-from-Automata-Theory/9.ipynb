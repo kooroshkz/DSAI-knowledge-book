{
 "cells": [
  {
   "cell_type": "markdown",
   "metadata": {},
   "source": [
    "### **Ambiguity in Context-Free Grammars (CFGs)**\n",
    "\n",
    "- A CFG is **ambiguous** if there is at least one string $ x \\in L(G) $ (language of the grammar) that has **more than one derivation tree** or **more than one leftmost/rightmost derivation**.\n",
    "- If no such string exists, the grammar is **unambiguous**.\n",
    "\n",
    "#### **Example**\n",
    "\n",
    "- **Grammar**:\n",
    "  $$\n",
    "  S \\to a \\,|\\, S + S \\,|\\, S \\ast S \\,|\\, (S)\n",
    "  $$\n",
    "- **String**: $ a + a \\ast a $\n",
    "  \n",
    "#### **Derivation Trees**:\n",
    "1. **Tree 1**: $ a + (a \\ast a) $\n",
    "   ```\n",
    "         S\n",
    "       / | \\\n",
    "      S  +  S\n",
    "     a     / | \\\n",
    "          S   *  S\n",
    "         a       a\n",
    "   ```\n",
    "\n",
    "2. **Tree 2**: $ (a + a) \\ast a $\n",
    "   ```\n",
    "         S\n",
    "       / | \\\n",
    "      S   *  S\n",
    "     / | \\    a\n",
    "    S  +  S\n",
    "   a       a\n",
    "   ```\n",
    "\n",
    "\n",
    "#### **Fixing Ambiguity with Unambiguous Grammar**\n",
    "\n",
    "- **Revised Grammar**:\n",
    "  $$\n",
    "  S \\to S + T \\,|\\, T\n",
    "  $$\n",
    "  $$\n",
    "  T \\to T \\ast F \\,|\\, F\n",
    "  $$\n",
    "  $$\n",
    "  F \\to a \\,|\\, (S)\n",
    "  $$\n",
    "\n",
    "- **Purpose**:\n",
    "  - Explicitly states that $ \\ast $ has higher precedence than $ + $.\n",
    "  - Groups operators correctly to avoid ambiguity.\n",
    "\n",
    "---"
   ]
  },
  {
   "cell_type": "markdown",
   "metadata": {},
   "source": [
    "### Expressions: railroad diagram\n",
    "\n",
    "\n",
    "![Automata Image](../../Files/third-semester/automata/13.JPG)"
   ]
  }
 ],
 "metadata": {
  "language_info": {
   "name": "python"
  }
 },
 "nbformat": 4,
 "nbformat_minor": 2
}

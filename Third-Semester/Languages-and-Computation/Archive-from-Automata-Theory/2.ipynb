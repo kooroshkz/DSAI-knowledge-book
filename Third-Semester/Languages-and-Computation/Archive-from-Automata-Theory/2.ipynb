{
 "cells": [
  {
   "cell_type": "markdown",
   "metadata": {
    "vscode": {
     "languageId": "plaintext"
    }
   },
   "source": [
    "#### 1. **Finite Automaton (FA) Formalism**\n",
    "   - **Definition**: A deterministic finite automaton (DFA) is a 5-tuple $ M = (Q, \\Sigma, q_0, A, \\delta) $:\n",
    "     - $ Q $: Finite set of states.\n",
    "     - $ \\Sigma $: Finite input alphabet.\n",
    "     - $ q_0 $: Initial state where $ q_0 \\in Q $.\n",
    "     - $ A $: Accepting (final) states where $ A \\subseteq Q $.\n",
    "     - $ \\delta $: Transition function, $ \\delta : Q \\times \\Sigma \\rightarrow Q $.\n",
    "\n",
    "#### 2. **Example: DFA for Language $ L_1 = \\{ x \\in \\{a, b\\}^* \\mid x \\text{ ends with } aa \\} $**\n",
    "   - States: $ Q = \\{q_0, q_1, q_2\\} $\n",
    "   - Input Alphabet: $ \\Sigma = \\{a, b\\} $\n",
    "   - Initial State: $ q_0 $\n",
    "   - Accepting State: $ A = \\{q_2\\} $\n",
    "   - Transition Table:\n",
    "     | State | a   | b   |\n",
    "     |-------|-----|-----|\n",
    "     | $ q_0 $ | $ q_1 $ | $ q_0 $ |\n",
    "     | $ q_1 $ | $ q_2 $ | $ q_0 $ |\n",
    "     | $ q_2 $ | $ q_2 $ | $ q_0 $ |\n",
    "\n",
    "#### 3. **Extended Transition Function ($ \\delta^* $)**\n",
    "   - **Definition**: \n",
    "     - $ \\delta $: This is a function that takes a current state and a single input symbol and returns the next state.\n",
    "     - $ \\delta^* $: It takes a starting state and a sequence of symbols (string) and returns the resulting state after processing the entire string\n",
    "     - $ \\delta^*(q, \\Lambda) = q $ (no input string).\n",
    "     - $ \\delta^*(q, y\\sigma) = \\delta(\\delta^*(q, y), \\sigma) $."
   ]
  },
  {
   "cell_type": "markdown",
   "metadata": {
    "vscode": {
     "languageId": "plaintext"
    }
   },
   "source": [
    "![ETF](../../Files/third-semester/automata/2.png)"
   ]
  },
  {
   "cell_type": "markdown",
   "metadata": {},
   "source": [
    "\n",
    "\n",
    "#### 4. **Theorem (Extended Transition Function Path)**:\n",
    "   - $ q = \\delta^*(p, w) $ iff there is a path from $ p $ to $ q $ labeled by $ w $.\n",
    "\n",
    "#### 5. **Language Accepted by DFA**\n",
    "   - The DFA $ M $ accepts a string $ x $ if $ \\delta^*(q_0, x) \\in A $.\n",
    "   - The accepted language $ L(M) = \\{ x \\in \\Sigma^* \\mid \\text{x is accepted by } M \\} $.\n",
    "\n",
    "#### 6. **Complement of a Language**\n",
    "   - For DFA $ M = (Q, \\Sigma, q_0, A, \\delta) $:\n",
    "     - $ M^c = (Q, \\Sigma, q_0, Q - A, \\delta) $\n",
    "     - The language $ L(M^c) = \\Sigma^* - L(M) $.\n",
    "\n",
    "#### 7. **Boolean Operations (Union, Intersection, Difference)**\n",
    "   - Product Construction for combining DFAs $ M_1 $ and $ M_2 $:\n",
    "     - States: $ Q = Q_1 \\times Q_2 $\n",
    "     - Transitions: $ \\delta((p, q), \\sigma) = (\\delta_1(p, \\sigma), \\delta_2(q, \\sigma)) $\n",
    "     - Acceptance criteria based on:\n",
    "       - Union: $ A = \\{(p, q) \\mid p \\in A_1 \\text{ or } q \\in A_2\\} $\n",
    "       - Intersection: $ A = \\{(p, q) \\mid p \\in A_1 \\text{ and } q \\in A_2\\} $\n",
    "       - Difference: $ A = \\{(p, q) \\mid p \\in A_1 \\text{ and } q \\notin A_2\\} $"
   ]
  },
  {
   "cell_type": "markdown",
   "metadata": {
    "vscode": {
     "languageId": "plaintext"
    }
   },
   "source": [
    "### Regular Languages\n",
    "\n",
    "- **Definition:** A language is *regular* if it can be represented by a finite automaton (FA). \n",
    "\n",
    "### Closure Properties of Regular Languages\n",
    "\n",
    "**Theorem:** Regular languages (REG) are closed under certain operations, meaning if you apply these operations to regular languages, the result will still be regular.\n",
    "1. **Complement**\n",
    "2. **Union**\n",
    "3. **Intersection**\n",
    "\n",
    "### Pumping Lemma for Regular Languages\n",
    "\n",
    "The *pumping lemma* is a property that all regular languages satisfy. It’s commonly used to prove that certain languages are *not* regular by contradiction.\n",
    "\n",
    "**Theorem** (Pumping Lemma):  \n",
    "For any regular language $ L $ with a finite automaton that has $ n $ states:\n",
    "- If you have any string $ x \\in L $ where $ |x| \\geq n $ (the length of $ x $ is at least $ n $),\n",
    "- Then $ x $ can be split into three parts $ x = uvw $ such that:\n",
    "  1. $ |uv| \\leq n $ (the length of the first two parts is within $ n $),\n",
    "  2. $ |v| \\geq 1 $ (the part $ v $ is non-empty),\n",
    "  3. For any $ m \\geq 0 $, the string $ uv^m w $ is also in $ L $ (repeating $ v $ any number of times keeps the string in $ L $).\n",
    "\n",
    "### Example Using the Pumping Lemma\n",
    "\n",
    "Let’s use an example to see how the pumping lemma works to prove that a language is not regular:\n",
    "\n",
    "#### Example 1: $ L = \\{ a^n b^n \\mid n \\geq 0 \\} $\n",
    "- **Goal**: Show $ L $ is not regular.\n",
    "- **Assume** $ L $ is regular (for contradiction). If it were regular, it would satisfy the pumping lemma.\n",
    "- Choose $ x = a^n b^n $. The length $ |x| = 2n \\geq n $, so we can split $ x $ into $ uvw $.\n",
    "- By the pumping lemma, $ v $ should contain only $ a $’s because $ |uv| \\leq n $. Now if we remove $ v $ (by setting $ m = 0 $), we get fewer $ a $’s than $ b $’s, which is not in $ L $, contradicting the assumption.\n",
    "\n",
    "This contradiction shows that $ L $ is not regular.\n",
    "\n",
    "#### Example 2: $ L = \\{ x \\in \\{a, b\\}^* \\mid \\text{number of } a\\text{'s} = \\text{number of } b\\text{'s} \\} $\n",
    "\n",
    "- Use the same argument: assume it’s regular and use the pumping lemma.\n",
    "- You’ll see that by manipulating $ v $, you end up with a string where the number of $ a $’s and $ b $’s is unequal, which means it’s not in $ L $, leading to a contradiction."
   ]
  }
 ],
 "metadata": {
  "language_info": {
   "name": "python"
  }
 },
 "nbformat": 4,
 "nbformat_minor": 2
}

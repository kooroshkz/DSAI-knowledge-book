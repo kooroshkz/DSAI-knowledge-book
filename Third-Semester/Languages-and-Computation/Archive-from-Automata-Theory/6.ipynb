{
 "cells": [
  {
   "cell_type": "markdown",
   "metadata": {},
   "source": [
    "### **Regular Expressions (RegEx)**\n",
    "\n",
    "#### Definition:\n",
    "- Basic components: $ \\emptyset, \\Lambda, a $.\n",
    "- Operators: Union ($+$), Concatenation, Kleene Star ($*$).\n",
    "\n",
    "#### Examples:\n",
    "1. **Odd number of \"a\"**:\n",
    "   - RegEx: $ b^* a b^* (ab^* a b^*)^* $\n",
    "\n",
    "2. **Even number of \"a\" and \"b\"**:\n",
    "   - RegEx: $ (aa + bb + (ab + ba)(aa + bb)^*(ab + ba))^* $\n",
    "\n",
    "---"
   ]
  },
  {
   "cell_type": "markdown",
   "metadata": {
    "vscode": {
     "languageId": "plaintext"
    }
   },
   "source": [
    "#### Conversions:\n",
    "- **From RegEx to FA**: Thompson’s construction.\n",
    "- **From FA to RegEx**: Algorithms like those by McNaughton and Yamada.\n",
    "\n",
    "---"
   ]
  },
  {
   "cell_type": "markdown",
   "metadata": {},
   "source": [
    "### Thompson’s Construction (RegEx to NFA):\n",
    "Converts a RegEx into an equivalent NFA. For example:\n",
    "- RegEx: $ (aa + b)^* (aba)^* bab $\n",
    "- Step-by-step builds an NFA by combining subcomponents.\n",
    "\n",
    "![Automata Image](../../Files/third-semester/automata/7.jpg)\n",
    "![Automata Image](../../Files/third-semester/automata/8.jpg)\n",
    "![Automata Image](../../Files/third-semester/automata/9.jpg)\n"
   ]
  },
  {
   "cell_type": "markdown",
   "metadata": {},
   "source": [
    "### **Kleene’s Theorem**\n",
    "- **Statement**: Regular languages are equivalent to those accepted by FA and those defined by RegEx.\n",
    "- **Conversion**:\n",
    "  - RegEx → FA: Use Thompson’s construction.\n",
    "  - FA → RegEx: Use algorithms like Brzozowski and McCluskey.\n",
    "\n"
   ]
  },
  {
   "cell_type": "markdown",
   "metadata": {
    "vscode": {
     "languageId": "plaintext"
    }
   },
   "source": [
    "#### **Note**:\n",
    "\n",
    "- For $ (bb + aa) $, pick one of $ bb $ or $ aa $.\n",
    "- For $ ba^*b $, include $ bb $ when there are zero $ a $'s."
   ]
  },
  {
   "cell_type": "markdown",
   "metadata": {},
   "source": [
    "### **Finding a regular expression**\n",
    "\n",
    "![Automata Image](../../Files/third-semester/automata/10.jpg)\n",
    "\n",
    "### Brzozowski et McCluskey\n",
    "\n",
    "![Automata Image](../../Files/third-semester/automata/11.jpg)\n"
   ]
  }
 ],
 "metadata": {
  "language_info": {
   "name": "python"
  }
 },
 "nbformat": 4,
 "nbformat_minor": 2
}

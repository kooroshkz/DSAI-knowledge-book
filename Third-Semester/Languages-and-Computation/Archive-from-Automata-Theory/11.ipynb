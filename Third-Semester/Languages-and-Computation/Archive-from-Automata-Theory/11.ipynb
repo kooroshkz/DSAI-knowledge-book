{
 "cells": [
  {
   "cell_type": "markdown",
   "metadata": {
    "vscode": {
     "languageId": "plaintext"
    }
   },
   "source": [
    "\n",
    "### **Arrow Notations**\n",
    "\n",
    "$$\n",
    "\\text{Input symbol, Stack top / Stack operation (Replaced by stack top)}\n",
    "$$\n",
    "\n",
    "Where:\n",
    "- **Input symbol**: Symbol read from the input string.\n",
    "- **Stack top**: Symbol at the top of the stack that is required for the transition.\n",
    "- **Stack operation**:\n",
    "   - Replace the stack top with new symbols (or no change).\n",
    "   - $ \\Lambda $: Indicates \"nothing\" (no input or no stack symbol)."
   ]
  },
  {
   "cell_type": "markdown",
   "metadata": {
    "vscode": {
     "languageId": "plaintext"
    }
   },
   "source": [
    "![Automata](../../Files/third-semester/automata/14.png)\n",
    "\n",
    "- **Λ, Z₀ / Z₀** and **Λ, a / a** are \"do nothing\" transitions.  "
   ]
  },
  {
   "cell_type": "markdown",
   "metadata": {},
   "source": [
    "\n",
    "\n",
    "---\n",
    "\n",
    "### **Transitions (Step by Step Explanation)**\n",
    "\n",
    "1. **$ q_0 \\to q_1 $**:  \n",
    "   **Arrow label**: $ a, Z_0 / aZ_0 $  \n",
    "   - **Input**: $ a $.  \n",
    "   - **Stack top**: $ Z_0 $.  \n",
    "   - **Stack operation**: Push $ a $ onto the stack, leaving $ Z_0 $ at the bottom.  \n",
    "   - **Effect**: Stack becomes $ aZ_0 $.\n",
    "\n",
    "2. **$ q_1 \\to q_1 $ (loop)**:  \n",
    "   **Arrow label**: $ a, a / aa $  \n",
    "   - **Input**: $ a $.  \n",
    "   - **Stack top**: $ a $ (another $ a $ already on the stack).  \n",
    "   - **Stack operation**: Push another $ a $ onto the stack.  \n",
    "   - **Effect**: Stack grows with more $ a $'s. Example: $ aaZ_0, aaaZ_0, \\dots $.\n",
    "\n",
    "3. **$ q_1 \\to q_2 $**:  \n",
    "   **Arrow label**: $ b, a / \\Lambda $  \n",
    "   - **Input**: $ b $.  \n",
    "   - **Stack top**: $ a $.  \n",
    "   - **Stack operation**: Pop $ a $ off the stack (replace with $ \\Lambda $, meaning nothing).  \n",
    "   - **Effect**: Stack reduces in size as $ a $'s are matched with $ b $'s.\n",
    "\n",
    "4. **$ q_2 \\to q_2 $ (loop)**:  \n",
    "   **Arrow label**: $ b, a / \\Lambda $  \n",
    "   - **Input**: $ b $.  \n",
    "   - **Stack top**: $ a $.  \n",
    "   - **Stack operation**: Pop $ a $ off the stack.  \n",
    "   - **Effect**: Continue matching $ b $'s with $ a $'s on the stack.\n",
    "\n",
    "5. **$ q_2 \\to q_3 $**:  \n",
    "   **Arrow label**: $ \\Lambda, Z_0 / Z_0 $  \n",
    "   - **Input**: $ \\Lambda $ (no input is read).  \n",
    "   - **Stack top**: $ Z_0 $ (marker at the bottom of the stack).  \n",
    "   - **Stack operation**: Leave $ Z_0 $ unchanged.  \n",
    "   - **Effect**: Transition to the accepting state $ q_3 $ when all $ a $'s have been matched with $ b $'s.\n",
    "\n",
    "---"
   ]
  },
  {
   "cell_type": "markdown",
   "metadata": {
    "vscode": {
     "languageId": "plaintext"
    }
   },
   "source": [
    "![Automata](../../Files/third-semester/automata/15.png)"
   ]
  },
  {
   "cell_type": "markdown",
   "metadata": {
    "vscode": {
     "languageId": "plaintext"
    }
   },
   "source": [
    "---\n",
    "\n",
    "### **⊢ (Single Step Transition)**  \n",
    "The symbol **⊢** represents a **single computational step** in a PDA.  \n",
    "\n",
    "$$\n",
    "(p, ax, Bα) \\; \\boldsymbol{⊢_M} \\; (q, x, βα)\n",
    "$$\n",
    "- **(p, ax, Bα):** Current configuration where:  \n",
    "   - $ p $ is the current state.  \n",
    "   - $ ax $ is the input (current symbol $ a $ + remaining string $ x $).  \n",
    "   - $ Bα $ is the stack (top symbol $ B $ + remaining stack $ α $).  \n",
    "\n",
    "- **(q, x, βα):** Next configuration where:  \n",
    "   - $ q $ is the next state.  \n",
    "   - $ x $ is the remaining input after reading $ a $.  \n",
    "   - $ βα $ is the new stack after $ B $ is replaced with $ β $.  \n",
    "\n",
    "### **⊢\\* (Multiple Steps / Computation Sequence)**  \n",
    "The **⊢\\*** symbol represents **zero or more steps** of computation in a PDA.  \n",
    "\n",
    "- It is the **transitive closure** of the single step **⊢** notation.  \n",
    "\n",
    "If:\n",
    "1. $ (p, ax, Bα) \\; ⊢_M \\; (q, x, βα) $  \n",
    "2. $ (q, x, βα) \\; ⊢_M \\; (r, y, γ) $  \n",
    "\n",
    "Then:\n",
    "$$\n",
    "(p, ax, Bα) \\; \\boldsymbol{⊢^*} \\; (r, y, γ)\n",
    "$$\n",
    "\n",
    "---\n",
    "\n",
    "### 3. **Configuration Example (Step-by-Step)**  \n",
    "Let’s consider a PDA accepting the palindrome **“aabcbaa”** with transitions as shown:\n",
    "\n",
    "#### Initial Configuration:\n",
    "$$\n",
    "(0, aabcbaa, Z₀)\n",
    "$$\n",
    "\n",
    "1. $ 0, a, Z₀ → (0, aZ₀) $ (push **a**):  \n",
    "   $ (0, abcbaa, aZ₀) ⊢ $\n",
    "\n",
    "2. $ 0, a, a → (0, aa) $ (push **a** again):  \n",
    "   $ (0, bcbaa, aaZ₀) ⊢ $\n",
    "\n",
    "3. $ 0, b, a → (1, Λ) $ (pop **a**):  \n",
    "   $ (1, cbaa, aZ₀) ⊢ $\n",
    "\n",
    "4. Continue these steps until:  \n",
    "   $ (1, Λ, Z₀) ⊢ (2, Λ, Z₀) $  \n",
    "\n",
    "This is a sequence of transitions. Representing all of these together:\n",
    "$$\n",
    "(0, aabcbaa, Z₀) \\; ⊢^* \\; (2, Λ, Z₀)\n",
    "$$"
   ]
  },
  {
   "cell_type": "markdown",
   "metadata": {
    "vscode": {
     "languageId": "plaintext"
    }
   },
   "source": [
    "![aUTOMATA](../../Files/third-semester/automata/21.png)"
   ]
  },
  {
   "cell_type": "markdown",
   "metadata": {
    "vscode": {
     "languageId": "plaintext"
    }
   },
   "source": [
    "\n",
    "---"
   ]
  },
  {
   "cell_type": "markdown",
   "metadata": {
    "vscode": {
     "languageId": "plaintext"
    }
   },
   "source": [
    "### Deterministic PDA (DPDA) Simplified:\n",
    "\n",
    "A **Deterministic Pushdown Automaton (DPDA)** is a type of PDA that has strict rules for transitions.\n",
    "\n",
    "1. **At Most One Transition**:  \n",
    "   For each state and stack symbol, there is **only one possible transition** for a given input symbol or $ Λ $ (epsilon).\n",
    "\n",
    "2. **No Mixing of Symbols and $ Λ $-Transitions**:  \n",
    "   At any state:\n",
    "   - You cannot have a transition on **both an input symbol** and $ Λ $ at the same time for the same stack symbol.\n",
    "\n",
    "3. **Formal Definition**:  \n",
    "   The transition function $ δ $ satisfies:  \n",
    "   $$\n",
    "   δ(q, σ, X) \\cup δ(q, Λ, X) \\text{ contains at most one element.}\n",
    "   $$\n",
    "   - $ q $: Current state.  \n",
    "   - $ σ $: Input symbol.  \n",
    "   - $ Λ $: Epsilon (no input).  \n",
    "   - $ X $: Top of the stack.\n",
    "\n",
    "4. **Relation to Languages**:  \n",
    "   - **DPDA** can recognize **Deterministic Context-Free Languages (DCFL)**.  "
   ]
  },
  {
   "cell_type": "markdown",
   "metadata": {
    "vscode": {
     "languageId": "plaintext"
    }
   },
   "source": [
    "---\n",
    "### **Non-Determinism**:\n",
    "The machine has to \"guess\" where to stop pushing and start popping the stack to match the second half. This guessing makes the PDA nondeterministic in `abba`.\n",
    "\n",
    "\n",
    "### 5. **Key Takeaway**\n",
    "- **Nondeterministic PDA** (NPDA) **can accept Pal** because it can \"guess\" the middle.  \n",
    "- **Deterministic PDA** cannot handle the required \"guesswork\" for palindromes."
   ]
  }
 ],
 "metadata": {
  "language_info": {
   "name": "python"
  }
 },
 "nbformat": 4,
 "nbformat_minor": 2
}

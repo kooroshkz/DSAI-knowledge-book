{
 "cells": [
  {
   "cell_type": "markdown",
   "metadata": {},
   "source": [
    "- **Abstract machines** Decide if a string belongs to a particular language.\n",
    "    - **Finite Automata (FA)**: Simplest machines which processes strings by moving through a series of states based on the input string.\n",
    "- **Grammars** Define a set of rules to generate all valid strings in a language, consists of:\n",
    "    - **Terminals** (basic symbols like letters),\n",
    "    - **Non-terminals** (intermediate symbols),\n",
    "    - **Production rules** (rules to generate strings),\n",
    "    - **Start symbol** (where generation starts).\n",
    "- **Expressions** describe languages (e.g., regular expression for strings ending with 'ab')."
   ]
  },
  {
   "cell_type": "markdown",
   "metadata": {},
   "source": [
    "![Image](https://i.ytimg.com/vi/kb-Ww8HaHuE/hq720.jpg?sqp=-oaymwEhCK4FEIIDSFryq4qpAxMIARUAAAAAGAElAADIQj0AgKJD&rs=AOn4CLDSRfU_Xzi9ksHwPwRDHGfpCTEc5A)"
   ]
  },
  {
   "cell_type": "markdown",
   "metadata": {
    "vscode": {
     "languageId": "plaintext"
    }
   },
   "source": [
    "### Levels of the Chomsky Hierarchy (Smaller to Bigger):\n",
    "\n",
    "1. **Regular Languages**:\n",
    "   - **Recognized by**: **Finite Automata**.\n",
    "   - These are the simplest languages, describable by regular expressions.\n",
    "   \n",
    "2. **Context-Free Languages**:\n",
    "   - **Recognized by**: **Pushdown Automata**.\n",
    "   - These languages allow more complexity than regular languages, such as nested structures, making them useful for describing the syntax of programming languages.\n",
    "\n",
    "3. **Context-Sensitive Languages**:\n",
    "   - **Recognized by**: **Linear Bounded Automata (LBA)**.\n",
    "   - These are more powerful than context-free languages and include those that require context to be understood (i.e., a rule depends on its surrounding symbols).\n",
    "\n",
    "4. **Recursively Enumerable Languages**:\n",
    "   - **Recognized by**: **Turing Machines**.\n",
    "   - These are the most powerful class of languages, where any language that can be decided by a Turing machine belongs. This includes all computable problems."
   ]
  },
  {
   "cell_type": "markdown",
   "metadata": {
    "vscode": {
     "languageId": "plaintext"
    }
   },
   "source": [
    "## Recall from $\\text{languages}$:\n",
    "\n",
    "- **Letter, Symbol**: $\\sigma \\in \\{ 0, 1, a, b, c \\}$\n",
    "- **Alphabet**: $\\Sigma = \\{ a, b, c \\}$ (finite, nonempty)\n",
    "  \n",
    "- **String, Word**: $w$ (finite)\n",
    "  - $w = a_1 a_2 \\dots a_n$, where $a_i \\in \\Sigma$\n",
    "  - Example: $abbabb$\n",
    "\n",
    "- **Empty String**: $\\lambda, \\Lambda, \\epsilon$\n",
    "  \n",
    "- **Length**: $|x|$\n",
    "  - $|\\Lambda| = 0$\n",
    "  - $|xy| = |x| + |y|$\n",
    "\n",
    "- **Concatenation**: $a_1 \\dots a_m \\cdot b_1 \\dots b_n$\n",
    "  - Example: $ab \\cdot babb$\n",
    "  - $w\\Lambda = \\Lambda w = w$\n",
    "  - $(xy)z = x(yz)$\n",
    "\n",
    "- **String**: $w \\in \\Sigma^*$\n",
    "  - Example: $w \\in \\{ a, b \\}^*$\n",
    "\n",
    "- $\\Sigma^* = \\{ \\Lambda, a, b, aa, ab, ba, bb, aaa, aab, \\dots \\}$ (canonical order)\n",
    "  - **Infinite set of finite strings**\n",
    "\n",
    "- **Language**: $L \\subseteq \\Sigma^*$\n"
   ]
  },
  {
   "cell_type": "markdown",
   "metadata": {
    "vscode": {
     "languageId": "plaintext"
    }
   },
   "source": [
    "- **Λ** is a string with no characters.\n",
    "- **{Λ}** is a set containing one element: the empty string.\n",
    "- **∅** is an empty set, meaning it contains no elements, not even the empty string."
   ]
  },
  {
   "cell_type": "markdown",
   "metadata": {
    "vscode": {
     "languageId": "plaintext"
    }
   },
   "source": [
    "### **Concatenation**\n",
    "\n",
    "\n",
    "- **One (Identity)**\n",
    "    - $ L{Λ} = {Λ}L = L $\n",
    "- **Zero (Empty Set)**\n",
    "    - $ L∅ = ∅L = ∅ $\n",
    "- **Associativity**\n",
    "    - $ (KL)M = K(LM) $\n",
    "\n",
    "- $ L^0 = \\{Λ\\} $ (even if **L** is empty, this is like $ 0^0 $).\n",
    "- $ L^1 = L $, $ L^2 = LL $, and in general, $ L^{n+1} = L^nL $.\n",
    "\n",
    "**Kleene Star (L\\*)**:\n",
    "- Formula: $ L^* = \\bigcup_{n \\geq 0} L^n $, meaning it includes $ L^0, L^1, L^2, \\dots $.\n",
    "\n",
    "- **Example**: If $ L = \\{a\\} $, then:\n",
    "    $$\n",
    "    L^* = \\{\\Lambda, a, aa, aaa, \\dots \\}\n",
    "    $$"
   ]
  },
  {
   "cell_type": "markdown",
   "metadata": {},
   "source": [
    "### Closed under the operation\n",
    "\n",
    "K, L ∈ F, then K∇L ∈ F.\n",
    "\n",
    "**∇** represents an **Operation** which can be **union (∪)**, **concatenation (·)**, or **Kleene star ( * )**. The result of applying **∇** to languages **K** and **L** produces a new language, which, if the family is **closed under the operation**, remains in the same family of languages."
   ]
  },
  {
   "cell_type": "markdown",
   "metadata": {},
   "source": [
    "### Example\n",
    "\n",
    "![Automata Image](../../Files/third-semester/automata/1.jpg)"
   ]
  },
  {
   "cell_type": "markdown",
   "metadata": {},
   "source": [
    "### Over definition\n",
    "\n",
    "When we say $L^* = \\{ \\Lambda, ab, abab, ababab, \\ldots \\}$ is over $\\{a, b\\}$, it means that the strings in $L^*$ can be formed using the symbols from the alphabet $\\{a, b\\}$.\n",
    "\n",
    "A language $ L $ over the alphabet $\\{a, b\\}$ that satisfies $ L = L^* $ is given by $ L = \\{a\\}^* $."
   ]
  },
  {
   "cell_type": "markdown",
   "metadata": {},
   "source": [
    "- Cardinality : $ |L_1 L_2| \\leq |L_1| \\cdot |L_2| $\n",
    "- The inclusion property $ L_1 \\subseteq L_2 $ ensures $ L_1^* \\subseteq L_2^* $"
   ]
  }
 ],
 "metadata": {
  "language_info": {
   "name": "python"
  }
 },
 "nbformat": 4,
 "nbformat_minor": 2
}

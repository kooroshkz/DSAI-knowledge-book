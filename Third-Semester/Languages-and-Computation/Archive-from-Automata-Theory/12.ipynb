{
 "cells": [
  {
   "cell_type": "markdown",
   "metadata": {},
   "source": [
    "### **1. What is Special Closure $ \\text{pre}(L) $?**\n",
    "\n",
    "- **Definition:**  \n",
    "   $ \\text{pre}(L) = \\{ x\\#y \\mid x \\in L \\text{ and } xy \\in L \\} $.  \n",
    "   This operation constructs a new language where we separate $ x $ and $ y $ with a special symbol $ \\# $, and $ x $ and $ xy $ both belong to the original language $ L $.  \n",
    "\n",
    "#### Example:\n",
    "- $ L = \\text{Pal} $ (Palindrome Language):  \n",
    "   $ \\text{pre}(L) $ could contain strings like $ \"a\\#aba\" $, where $ a \\in L $ and $ a \\cdot aba \\in L $.  \n",
    "- $ L = \\{ a^i b^j \\mid i < j \\} $:  \n",
    "   $ \\text{pre}(L) $ contains strings like $ \"a\\#bb\" $ where $ a \\in L $ and $ abb \\in L $.\n",
    "\n",
    "---\n",
    "\n",
    "### **2. CFL vs. DCFL and Closure Properties**\n",
    "\n",
    "- **Context-Free Languages (CFLs):**\n",
    "   - CFLs are **not closed under pre**.  \n",
    "     Example: For certain languages like $ K = \\{ a^n b^n \\mid n \\geq 1 \\} \\cup \\{ a^n b^m c^n \\mid m, n \\geq 1 \\} $, $ \\text{pre}(K) $ is no longer context-free.  \n",
    "   - CFLs are also **not closed under complement**.  \n",
    "\n",
    "- **Deterministic Context-Free Languages (DCFLs):**\n",
    "   - DCFLs **are closed under pre**.  \n",
    "   - DCFLs **are closed under complement**.  \n",
    "   - However, DCFLs are **not closed under union, concatenation ($\\cdot$), or Kleene star ($*$)**.  \n",
    "\n",
    "---\n",
    "\n",
    "### **3. Construction of $ \\text{pre}(L) $ for DCFLs**\n",
    "\n",
    "The construction focuses on building a **new PDA** that processes the pre-language.\n",
    "\n",
    "- **Steps to Construct the New PDA $ M_1 $:**\n",
    "   - Duplicate the original PDA states $ Q $ into a primed set $ Q' $ to \"simulate\" the second part $ y $.  \n",
    "   - Add a special **symbol $ \\# $** to act as a separator.  \n",
    "   - Define transitions to move from the unprimed set $ Q $ to the primed set $ Q' $ when $ \\# $ is read.  \n",
    "   - Continue processing in the primed copy of states.\n",
    "\n",
    "- **Key Notations:**  \n",
    "   - $ Q_1 = Q \\cup Q' \\cup \\{ q_1 \\} $: State set with a primed copy of states.  \n",
    "   - $ Z_1 $: New initial stack symbol.  \n",
    "   - $ δ_1 $: Modified transition function to handle the pre-construction.\n",
    "\n",
    "---\n",
    "\n",
    "### **4. Limitations and Example:**\n",
    "\n",
    "- For the language $ K = \\{ a^n b^n \\mid n \\geq 1 \\} \\cup \\{ a^n b^m c^n \\mid m, n \\geq 1 \\} $:  \n",
    "   - $ \\text{pre}(K) = K\\# \\cup \\{ a^n b^n \\# b^k c^n \\mid n \\geq 1, k \\geq 0 \\} $.  \n",
    "   - $ \\text{pre}(K) $ **is not context-free**, although $ K $ is context-free.  \n",
    "\n",
    "#### Why?  \n",
    "- The pre-construction introduces a level of complexity (cross-dependency of counts) that cannot be handled by a nondeterministic PDA.  \n",
    "\n",
    "---\n",
    "\n",
    "### **5. Key Insight:**\n",
    "\n",
    "- **Non-deterministic CFLs (CFLs):**  \n",
    "   Not closed under **pre**, complement, or operations like union and concatenation.  \n",
    "- **Deterministic CFLs (DCFLs):**  \n",
    "   Closed under **pre** and complement but not under union or concatenation.\n",
    "\n",
    "This distinction highlights the greater **closure properties** of DCFLs for specific operations, like pre-closure.\n",
    "\n",
    "Would you like me to walk through the **PDA construction** step-by-step with an example?"
   ]
  },
  {
   "cell_type": "markdown",
   "metadata": {
    "vscode": {
     "languageId": "plaintext"
    }
   },
   "source": [
    "---"
   ]
  },
  {
   "cell_type": "markdown",
   "metadata": {
    "vscode": {
     "languageId": "plaintext"
    }
   },
   "source": [
    "### PDA process\n",
    "\n",
    "$$\n",
    "\\delta(\\text{current state}, \\text{input symbol}, \\text{top of stack}) = \\{ (\\text{next state}, \\text{new stack content}) \\}\n",
    "$$"
   ]
  },
  {
   "cell_type": "markdown",
   "metadata": {
    "vscode": {
     "languageId": "plaintext"
    }
   },
   "source": [
    "## **Top-down**"
   ]
  },
  {
   "cell_type": "markdown",
   "metadata": {
    "vscode": {
     "languageId": "plaintext"
    }
   },
   "source": [
    "![Automata](../../Files/third-semester/automata/16.png)"
   ]
  },
  {
   "cell_type": "markdown",
   "metadata": {
    "vscode": {
     "languageId": "plaintext"
    }
   },
   "source": [
    "### **Top-Down Parsing**\n",
    "\n",
    "![](../../Files/third-semester/automata/17.png)\n",
    "\n",
    "- **Note**: Input symbol read, Top of the stack / Replaced by new stack content. $a,a/Λ$ means if a is read and a is on top of the stack, pop it off.\n",
    "\n",
    "$$\n",
    "L = \\{ a^i b^j \\mid i \\neq j \\} \n",
    "$$\n",
    "1. **Start Variable**: $ S $  \n",
    "   - $ S \\to X \\mid Y $ (choice between two variables $ X $ and $ Y $)  \n",
    "\n",
    "2. **Production Rules**:  \n",
    "   - $ X \\to aXb \\mid aX \\mid a $ → for $ i > j $ (more $ a $'s than $ b $'s)  \n",
    "   - $ Y \\to aYb \\mid Yb \\mid b $ → for $ i < j $ (more $ b $'s than $ a $'s)  \n",
    "\n",
    "### **Top-Down PDA (Pushdown Automaton)**  \n",
    "\n",
    "- **Start State**: Push $ S $ onto the stack:  \n",
    "  $$\n",
    "  \\delta(q_0, \\Lambda, Z_0) = \\{ (q_1, SZ_0) \\}\n",
    "  $$\n",
    "- **Expand**: Replace variables ($ S, X, Y $) using production rules:  \n",
    "  - $ \\delta(q_1, \\Lambda, S) = \\{ (q_1, X), (q_1, Y) \\} $  \n",
    "  - $ \\delta(q_1, \\Lambda, X) = \\{ (q_1, aXb), (q_1, aX), (q_1, a) \\} $  \n",
    "  - $ \\delta(q_1, \\Lambda, Y) = \\{ (q_1, aYb), (q_1, Yb), (q_1, b) \\} $  \n",
    "- **Match Terminals**: Pop the stack when a terminal matches input:  \n",
    "  - $ \\delta(q_1, a, a) = \\{ (q_1, \\Lambda) \\} $  \n",
    "  - $ \\delta(q_1, b, b) = \\{ (q_1, \\Lambda) \\} $  \n",
    "- **Finish**: Accept when stack is empty:  \n",
    "  $$\n",
    "  \\delta(q_1, \\Lambda, Z_0) = \\{ (q_2, Z_0) \\}\n",
    "  $$\n"
   ]
  },
  {
   "cell_type": "markdown",
   "metadata": {
    "vscode": {
     "languageId": "plaintext"
    }
   },
   "source": [
    "\n",
    "---\n",
    "### Example: Equal amount of A and B\n",
    "![Automata](../../Files/third-semester/automata/18.png)"
   ]
  },
  {
   "cell_type": "markdown",
   "metadata": {
    "vscode": {
     "languageId": "plaintext"
    }
   },
   "source": [
    "---\n",
    "\n",
    "### **Bottom-up = shift-reduce**:\n",
    "\n",
    "\n",
    "![Automata](../../Files/third-semester/automata/19.png)\n",
    "![Automata](../../Files/third-semester/automata/20.png)"
   ]
  }
 ],
 "metadata": {
  "language_info": {
   "name": "python"
  }
 },
 "nbformat": 4,
 "nbformat_minor": 2
}

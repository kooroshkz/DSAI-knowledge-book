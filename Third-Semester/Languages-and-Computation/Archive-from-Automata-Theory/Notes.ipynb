{
 "cells": [
  {
   "cell_type": "markdown",
   "metadata": {
    "vscode": {
     "languageId": "plaintext"
    }
   },
   "source": [
    "A **Pushdown Automaton (PDA)** is formally defined as a **7-tuple**:\n",
    "\n",
    "$$\n",
    "(Q, \\Sigma, \\Gamma, q_0, Z_0, A, \\delta)\n",
    "$$\n",
    "\n",
    "| **Symbol** | **Meaning**                        |\n",
    "|------------|------------------------------------|\n",
    "| $ Q $     | Set of states                     |\n",
    "| $ \\Sigma $ | Input alphabet                    |\n",
    "| $ \\Gamma $ | Stack alphabet                    |\n",
    "| $ q_0 $    | Initial state                     |\n",
    "| $ Z_0 $    | Initial stack symbol              |\n",
    "| $ A $      | Set of accepting states           |\n",
    "| $ \\delta $ | Transition function               |\n",
    "\n",
    "---"
   ]
  },
  {
   "cell_type": "markdown",
   "metadata": {
    "vscode": {
     "languageId": "plaintext"
    }
   },
   "source": [
    "### Combine **PDA $ M_1 $** and **FA $ M_2 $** to accept $ L(M_1) \\cap L(M_2) $.\n",
    "\n",
    "## **Summary of the Combined PDA**\n",
    "1. **States**:  \n",
    "   $ \\{(1, P), (1, Q), (2, P), (2, Q)\\} $ will be shown as $ (1P), (1Q), (2P), (2Q) $.\n",
    "\n",
    "2. **Transitions**:  \n",
    "   - From $ (1, P) $: Start transitions pushing $ a $ or $ b $.  \n",
    "   - From $ (2, P) $ and $ (2, Q) $: Process $ a $'s and $ b $'s while updating stack and FA state.\n",
    "\n",
    "3. **Accepting State** will be intersected like $ Accepting(M_1) \\cap Accepting(M_2) $.\n",
    "\n",
    "---"
   ]
  },
  {
   "cell_type": "markdown",
   "metadata": {
    "vscode": {
     "languageId": "plaintext"
    }
   },
   "source": [
    "- For a **deterministic finite automaton (DFA)**, each state **must have a transition** for every symbol in the alphabet $ \\Sigma $.  \n",
    "     - If a transition for a symbol doesn't exist, the automaton is **incomplete**.\n",
    "- For a **nondeterministic finite automaton (NFA)**, a state **may or may not** have transitions for every symbol in the alphabet. Missing transitions are allowed.\n",
    "\n",
    "---"
   ]
  },
  {
   "cell_type": "markdown",
   "metadata": {
    "vscode": {
     "languageId": "plaintext"
    }
   },
   "source": [
    "### **Distinguishable Strings**\n",
    " \n",
    "   Two strings $ x $ and $ y $ are *L-distinguishable* if there exists a string $ z $ such that:\n",
    "   - $ xz \\in L $ and $ yz \\notin L $, **or**  \n",
    "   - $ xz \\notin L $ and $ yz \\in L $.  \n",
    "\n",
    "**Automaton Perspective**: \n",
    "   $$\n",
    "   \\delta^*(q_0, x) \\neq \\delta^*(q_0, y),\n",
    "   $$\n",
    "\n",
    "---"
   ]
  },
  {
   "cell_type": "markdown",
   "metadata": {
    "vscode": {
     "languageId": "plaintext"
    }
   },
   "source": [
    "**Question:** What does it mean when a string $ x \\in \\Sigma^* $ is accepted by a pushdown automaton $ M $ **by empty stack**?\n",
    "\n",
    "**Answer:**  \n",
    "A string $ x $ is accepted by $ M $ by empty stack if:  \n",
    "$$\n",
    "(q_0, x, Z_0) \\vdash_M^* (q, \\Lambda, \\Lambda)\n",
    "$$\n",
    "for some $ q \\in Q $.  \n",
    "\n",
    "**Explanation**:  \n",
    "- $ x $ is completely read (input becomes $ \\Lambda $).  \n",
    "- The stack is completely empty, including the initial stack symbol $ Z_0 $.  \n",
    "- The final state $ q $ does not matter.\n",
    "\n",
    "---"
   ]
  },
  {
   "cell_type": "markdown",
   "metadata": {},
   "source": [
    "### **Question**: How can you transform a PDA $ M $ (accepting by empty stack) into another PDA $ M_1 $ that accepts the same language by accepting states?\n",
    "\n",
    "### **Answer**:\n",
    "\n",
    "![PDA](../../Files/third-semester/automata/27.png)\n",
    "\n",
    "##### Sample above applied to PDA:\n",
    "\n",
    "Before:\n",
    "\n",
    "![PDA](../../Files/third-semester/automata/28.png)\n",
    "\n",
    "After:\n",
    "\n",
    "![PDA](../../Files/third-semester/automata/29.png)\n",
    "\n",
    "---"
   ]
  },
  {
   "cell_type": "markdown",
   "metadata": {
    "vscode": {
     "languageId": "plaintext"
    }
   },
   "source": [
    "### **Pumping Lemma for Context-Free Languages**\n",
    "\n",
    "Let $ L $ be a context-free language. Then there exists an integer $ n $ such that for every string $ u \\in L $ with $ |u| \\geq n $, the string $ u $ can be written as:\n",
    "\n",
    "$$\n",
    "u = vwx yz\n",
    "$$\n",
    "where $ v, w, x, y, z $ are substrings of $ u $ that satisfy the following conditions:\n",
    "\n",
    "1. $ |wy| \\geq 1 $ (at least one of $ w $ or $ y $ is non-empty).  \n",
    "2. $ |wxy| \\leq n $ (the combined length of $ w, x, y $ is bounded).  \n",
    "3. For every $ m \\geq 0 $, the string $ v w^m x y^m z $ is also in $ L $ (repeating $ w $ and $ y $ any number of times, including 0, keeps the string in $ L $).\n",
    "\n",
    "---\n",
    "\n",
    "### **Key Idea**:\n",
    "The pumping lemma allows us to identify infinite structures or patterns in context-free languages and can be used to prove that a language is *not* context-free by contradiction."
   ]
  },
  {
   "cell_type": "markdown",
   "metadata": {
    "vscode": {
     "languageId": "plaintext"
    }
   },
   "source": [
    "---\n",
    "\n",
    "#### $L(M_2) = {L \\prime}_1 $\n",
    "We only change accepting states\n",
    "\n",
    "$Q_2 = Q_1$\n",
    "\n",
    "$ q_2 = q_1 $\n",
    "\n",
    "$ \\Sigma_2 = \\Sigma_1 $\n",
    "\n",
    "$ A_2 = Q_1 - A_1 $\n",
    "\n",
    "$ \\delta_2 = \\delta_1 $\n",
    "\n",
    "---"
   ]
  },
  {
   "cell_type": "markdown",
   "metadata": {
    "vscode": {
     "languageId": "plaintext"
    }
   },
   "source": [
    "# DFA Minimization\n",
    "\n",
    "1. For states $ x $ and $ y $:\n",
    "    - If **only one** of them is an accepting state, mark it with 1 and leave the rest as 0.\n",
    "\n",
    "2. For all non-marked pairs left, such as $ (1,2) $:\n",
    "    - a: $ \\delta(1,a) = m $, $ \\delta(2,a) = n $\n",
    "    - b: $ \\delta(1,b) = l $, $ \\delta(2,b) = s $\n",
    "\n",
    "    If $ (m,n) $ or $ (l,s) $ were marked from step 1, mark it with 2.\n",
    "\n",
    "3. If it was marked with 2 before, mark it with 3.\n",
    "\n",
    "4. Draw the minimized graph:\n",
    "    - 4a: The completed column (mostly $ q_0 $ or 0) will be the starting point. The final state, which doesn't fit in the table (9), is the accepting state. Draw $ A $ and $ q_0 $ first.\n",
    "    - 4b: Look at a column to see which ones have a dot and group them. Shape different groups and check in the original graph which states are connected to each other to apply the same grouping. Finally, make the previous accepting states group the new accepting state.\n",
    "\n",
    "![Automata Image](../../Files/third-semester/automata/3.JPG)\n",
    "![Automata Image](../../Files/third-semester/automata/4.JPG)\n",
    "\n",
    "---"
   ]
  },
  {
   "cell_type": "markdown",
   "metadata": {},
   "source": [
    "## **Subset construction (From $NFA \\to DFA$)**\n",
    "\n",
    "First we make a transition table with the head $|State (q)| \\delta(q,a)| \\delta (q,b)$ then start from the initial state and find the next states for each input symbol. Finally we will draw a new graph with the states as the nodes and the transitions as the edges.\n",
    "\n",
    "##### Example:\n",
    "![automata](../../Files/third-semester/automata/25.png)\n",
    "| state \\( q \\) | \\( \\delta(q, a) \\) | \\( \\delta(q, b) \\) |\n",
    "|--------------|-------------------|-------------------|\n",
    "| 1            | 234               | ∅                 |\n",
    "| 234          | 14                | 34                |\n",
    "| 14           | 1234              | ∅                 |\n",
    "| 34           | 14                | 4                 |\n",
    "| 1234         | 1234              | 34                |\n",
    "| 4            | 14                | ∅                 |\n",
    "| ∅            | ∅                 | ∅                 |\n",
    "\n",
    "![automata](../../Files/third-semester/automata/26.png)\n",
    "\n",
    "---\n"
   ]
  },
  {
   "cell_type": "markdown",
   "metadata": {},
   "source": [
    "### Thompson’s Construction (RegEx to NFA):\n",
    "Converts a RegEx into an equivalent NFA. For example:\n",
    "- RegEx: $ (aa + b)^* (aba)^* bab $\n",
    "- Step-by-step builds an NFA by combining subcomponents.\n",
    "\n",
    "![Automata Image](../../Files/third-semester/automata/7.jpg)\n",
    "![Automata Image](../../Files/third-semester/automata/8.jpg)\n",
    "![Automata Image](../../Files/third-semester/automata/9.jpg)\n",
    "\n",
    "---\n"
   ]
  },
  {
   "cell_type": "markdown",
   "metadata": {},
   "source": [
    "- **Live Variable**: $ A \\Rightarrow^* x $ (derives some string $ x $ made of terminals).\n",
    "- **Reachable Variable**: $ S \\Rightarrow^* \\alpha A \\beta $ (reachable from the start symbol $ S $).\n",
    "\n",
    "### **Example**:\n",
    "Let:\n",
    "$$\n",
    "S \\to AB \\,|\\, b, \\quad A \\to a, \\quad B \\to C, \\quad C \\to D\n",
    "$$\n",
    "\n",
    "- $ A $ is live and reachable (derives $ a $).\n",
    "- $ B $ and $ C $ are reachable but not live (they don't derive terminal strings).\n",
    "- $ D $ is neither live nor reachable.\n",
    "\n",
    "- **Remove variables** that are not both live and reachable.\n",
    "\n",
    "---"
   ]
  },
  {
   "cell_type": "markdown",
   "metadata": {},
   "source": [
    "### **Steps to Convert CFG to CNF**:\n",
    "1. **Remove $\\Lambda$-productions** (empty productions).\n",
    "2. **Remove unit productions**.\n",
    "3. **Introduce new variables for terminals**:\n",
    "   - Replace terminals in long productions with variables (e.g., $ X_a \\to a $).\n",
    "4. **Split long productions**:\n",
    "   - Break down $ A \\to \\alpha $ where $ \\alpha $ has more than 2 symbols.\n",
    "\n",
    "Given:\n",
    "$$\n",
    "S \\to aTb \\,|\\, ab, \\quad T \\to aTb \\,|\\, ab\n",
    "$$\n",
    "\n",
    "1. Replace terminals with variables:\n",
    "   - $ X_a \\to a, X_b \\to b $.\n",
    "   - Replace:\n",
    "     $$\n",
    "     S \\to X_a T X_b \\,|\\, X_a X_b, \\quad T \\to X_a T X_b \\,|\\, X_a X_b\n",
    "     $$\n",
    "2. Split long productions:\n",
    "   - $ S \\to X_a Y_1, Y_1 \\to T X_b $.\n",
    "   - $ T \\to X_a Y_2, Y_2 \\to T X_b $.\n",
    "\n",
    "**Final CNF**:\n",
    "$$\n",
    "S \\to X_a Y_1, \\, Y_1 \\to T X_b, \\, T \\to X_a Y_2, \\, Y_2 \\to T X_b, \\, S \\to X_a X_b\n",
    "$$\n",
    "\n",
    "---"
   ]
  }
 ],
 "metadata": {
  "language_info": {
   "name": "python"
  }
 },
 "nbformat": 4,
 "nbformat_minor": 2
}

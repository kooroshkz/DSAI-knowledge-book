{
 "cells": [
  {
   "cell_type": "markdown",
   "metadata": {},
   "source": [
    "## **Example: Proving $ L = \\{ a^n b^n c^n \\mid n \\geq 1 \\} $ is NOT Context-Free**\n",
    "\n",
    "### **Language:**\n",
    "$ L = \\{ a^n b^n c^n \\mid n \\geq 1 \\} $: Equal numbers of $ a $'s, $ b $'s, and $ c $'s.\n",
    "\n",
    "### **Proof:**\n",
    "1. **Assume** $ L $ is context-free. Let $ n $ be the pumping constant.  \n",
    "2. Choose $ u = a^n b^n c^n $. Clearly, $ |u| = 3n \\geq n $.  \n",
    "3. By the Pumping Lemma, $ u = vwxyz $ such that:  \n",
    "   - $ |wxy| \\leq n $.  \n",
    "   - $ |wy| \\geq 1 $.  \n",
    "4. Analyze $ wxy $: Since $ |wxy| \\leq n $, $ wxy $ must contain letters from at most **two groups** (either $ a $'s, $ b $'s, or $ c $'s).\n",
    "\n",
    "   **Two cases** arise:  \n",
    "   - **Case 1**: $ w $ and $ y $ are in the $ a $'s.  \n",
    "     - Pumping $ m = 2 $: $ vw^2xy^2z $ has more $ a $'s than $ b $'s and $ c $'s.  \n",
    "     - Thus, $ vw^2xy^2z \\notin L $.  \n",
    "   - **Case 2**: $ w $ and $ y $ are in the $ b $'s or $ c $'s.  \n",
    "     - Pumping $ m = 0 $: $ vxz $ has fewer $ b $'s or $ c $'s.  \n",
    "     - Thus, $ vxz \\notin L $.  \n",
    "\n",
    "5. In all cases, $ u $ cannot be pumped while staying in $ L $.  \n",
    "6. **Contradiction**: $ L $ is not context-free.\n"
   ]
  },
  {
   "cell_type": "markdown",
   "metadata": {
    "vscode": {
     "languageId": "plaintext"
    }
   },
   "source": [
    "---\n",
    "\n",
    "1. **CFLs are closed under**:  \n",
    "   - Union.  \n",
    "   - Concatenation.  \n",
    "   - Kleene star.  \n",
    "\n",
    "2. **CFLs are not closed under**:  \n",
    "   - Intersection.  \n",
    "   - Complement.  \n",
    "   - Set difference.  \n",
    "\n",
    "3. **Intersection with Regular Languages**: If $ L_1 $ is a CFL and $ L_2 $ is regular, $ L_1 \\cap L_2 $ is a CFL.\n",
    "\n",
    "---"
   ]
  },
  {
   "cell_type": "markdown",
   "metadata": {},
   "source": [
    "## **Product construction**:\n",
    "\n",
    "![Product Construction](../../Files/third-semester/automata/24.png)"
   ]
  }
 ],
 "metadata": {
  "language_info": {
   "name": "python"
  }
 },
 "nbformat": 4,
 "nbformat_minor": 2
}

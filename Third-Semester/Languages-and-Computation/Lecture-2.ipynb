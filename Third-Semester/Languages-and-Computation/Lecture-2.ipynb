{
 "cells": [
  {
   "cell_type": "markdown",
   "id": "66ec6d17",
   "metadata": {},
   "source": [
    "### Transition Function\n",
    "\n",
    "- $δ : Q × Σ → Q$: Takes a state and an input symbol, returning the next state. ($δ(A,0)=B$)\n",
    "- $δ^* : Q × Σ^* → Q$: Takes a state and a string of input symbols, returning the resulting state after processing the entire string.($δ^*(A,\"01\")=B$)\n",
    "\n",
    "**The language accepted by a DFA is**:\n",
    "\n",
    "$L(M) = \\{ w \\in \\Sigma^* : \\delta^*(q_0, w) \\in F \\}$ where $F$ is the set of accepting states and $M$ is the DFA.\n",
    "\n",
    "- A language $L$ is called **Regular Language** if and only if there exists some deterministic finite automaton $M$ such that $L = L(M)$.\n",
    "\n",
    "**The language accepted by an NFA is**:\n",
    "\n",
    "$L(N) = \\{ w \\in \\Sigma^* : \\delta^*(q_0, w) \\cap F \\neq \\emptyset \\}$ where $F$ is the set of accepting states and $N$ is the NFA \n"
   ]
  },
  {
   "cell_type": "markdown",
   "id": "e958a1cf",
   "metadata": {},
   "source": [
    "---\n",
    "\n",
    "## Deterministic Finite Automaton (DFA)\n",
    "- Every state has exactly one transition for each symbol in the alphabet.\n",
    "- No ε (epsilon) transitions are allowed.\n",
    "- There should be no ambiguity in state transitions.\n",
    "\n",
    "## Nondeterministic Finite Automaton (NFA)\n",
    "- A state can have zero, one, or multiple transitions for each symbol in the alphabet.\n",
    "- $ε$ ($\\lambda$) transitions are allowed, meaning the automaton can change states without consuming any input symbol.\n",
    "- There can be multiple possible next states for a given state and input symbol. ($δ(A,0)=\\{B,C\\}$)\n",
    "\n",
    "- Every DFA is also an NFA, but not every NFA is a DFA."
   ]
  },
  {
   "cell_type": "markdown",
   "id": "384fe3a7",
   "metadata": {},
   "source": [
    "---\n",
    "\n",
    "### Lambda Transitions\n",
    "\n",
    "<img src=\"../../Files/third-semester/lac/2.png\" alt=\"NFA with Lambda Transitions\" width=\"300\"/>\n",
    "\n",
    "### Equivalence of DFA and NFA\n",
    "\n",
    "- For every NFA, there exists an equivalent DFA that accepts the same language.\n",
    "\n",
    "---\n",
    "\n",
    "#### Exercise\n",
    "\n",
    "- Construct an nfa with three states that accepts the language $\\{ab,abc\\}^*$\n",
    "\n",
    "<img src=\"../../Files/third-semester/lac/3.png\" alt=\"NFA for {ab, abc}*\" width=\"300\"/>\n",
    "\n",
    "- Convert the following nfa’s into equivalent dfa’s.\n",
    "\n",
    "<img src=\"../../Files/third-semester/lac/4.png\" alt=\"NFA to DFA Exercise\" width=\"300\"/> <br>\n",
    "\n",
    "- Solution: Use transition table method for NFA then for $\\phi$ make a trap state\n",
    "\n",
    "<img src=\"../../Files/third-semester/lac/5.png\" alt=\"DFA Solution\" width=\"300\"/>"
   ]
  },
  {
   "cell_type": "markdown",
   "id": "8e58ddce",
   "metadata": {
    "vscode": {
     "languageId": "plaintext"
    }
   },
   "source": [
    "---\n",
    "\n",
    "<img src=\"../../Files/third-semester/lac/6.png\" alt=\"NFA to DFA Exercise 2\" width=\"600\"/> <br>"
   ]
  },
  {
   "cell_type": "markdown",
   "id": "f937e8ba",
   "metadata": {},
   "source": [
    "---\n",
    "\n",
    "### Choose at the beginning\n",
    "e.g. : $ L = \\{a, b\\}^* \\cup \\{a, c\\}^* \\cup \\{b, c\\}^*$\n",
    "\n",
    "<img src=\"../../Files/third-semester/lac/7.png\" alt=\"NFA for L\" width=\"300\"/>"
   ]
  }
 ],
 "metadata": {
  "language_info": {
   "name": "python"
  }
 },
 "nbformat": 4,
 "nbformat_minor": 5
}

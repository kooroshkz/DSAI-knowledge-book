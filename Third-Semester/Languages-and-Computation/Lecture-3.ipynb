{
 "cells": [
  {
   "cell_type": "markdown",
   "id": "14072cb9",
   "metadata": {},
   "source": [
    "\n",
    "### **Regular Expressions**\n",
    "\n",
    "* Basic building blocks (primitive regex):\n",
    "\n",
    "  * `∅` → empty set\n",
    "  * `λ` → empty string\n",
    "  * `a` (where `a ∈ Σ`) → single letter\n",
    "\n",
    "* If `r1` and `r2` are regex, then we can build new ones:\n",
    "\n",
    "  * `r1 + r2` → choice (either `r1` or `r2`)\n",
    "  * `r1 r2` → concatenation\n",
    "  * `r1*` → repeat 0 or more times (Kleene star)\n",
    "  * `(r1)` → grouping\n",
    "\n",
    "* Sign and Decimal number example:\n",
    "\n",
    "  ```\n",
    "  s d d* (. d* + λ)\n",
    "  ```\n",
    "\n",
    "  * `s` → + or - (e.g. + or -)\n",
    "  * `d d*` → digits (e.g. 123)\n",
    "  * `(. d* + λ)` → optional decimal part (e.g. .45 or empty)\n",
    "\n",
    "* Valid Date Range:\n",
    "  * Year: `(19[0-9][0-9] + 20[0-1][0-9] + 202[0-5])` (e.g. 2023)\n",
    "  * Month: `(0[1-9] + 1[0-2])` (e.g. 01 to 12)\n",
    "  * Day: `([1-9] + 1[0-9] + 2[0-9] + 3[0-1])` (e.g. 1 to 31)\n",
    "---\n",
    "\n",
    "**Thompson's Construction**: Any **regular expression** $r$ can be turned into an **NFA** hence is a regular language. (Regex $⇔$ NFA $⇔$ Regular Language)"
   ]
  }
 ],
 "metadata": {
  "language_info": {
   "name": "python"
  }
 },
 "nbformat": 4,
 "nbformat_minor": 5
}

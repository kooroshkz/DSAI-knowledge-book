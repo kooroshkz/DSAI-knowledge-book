{
 "cells": [
  {
   "cell_type": "markdown",
   "id": "14072cb9",
   "metadata": {},
   "source": [
    "\n",
    "### **Regular Expressions**\n",
    "\n",
    "* Basic building blocks (primitive regex):\n",
    "\n",
    "  * `∅` → empty set\n",
    "  * `λ` → empty string\n",
    "  * `a` (where `a ∈ Σ`) → single letter\n",
    "\n",
    "* If `r1` and `r2` are regex, then we can build new ones:\n",
    "\n",
    "  * `r1 + r2` → choice (either `r1` or `r2`)\n",
    "  * `r1 r2` → concatenation\n",
    "  * `r1*` → repeat 0 or more times (Kleene star)\n",
    "  * `(r1)` → grouping\n",
    "* **Precedence order:** (), ∗, ·, +\n",
    "* Sign and Decimal number example:\n",
    "\n",
    "  ```\n",
    "  s d d* (. d* + λ)\n",
    "  ```\n",
    "\n",
    "  * `s` → + or - (e.g. + or -)\n",
    "  * `d d*` → digits (e.g. 123)\n",
    "  * `(. d* + λ)` → optional decimal part (e.g. .45 or empty)\n",
    "\n",
    "* Valid Date Range:\n",
    "  * Year: `(19[0-9][0-9] + 20[0-1][0-9] + 202[0-5])` (e.g. 2023)\n",
    "  * Month: `(0[1-9] + 1[0-2])` (e.g. 01 to 12)\n",
    "  * Day: `([1-9] + 1[0-9] + 2[0-9] + 3[0-1])` (e.g. 1 to 31)\n",
    "---\n",
    "\n",
    "**Thompson's Construction**: Turn **regular expression** $\\to$ **NFA**\n",
    "\n",
    "<img src=\"../../Files/third-semester/lac/8.png\" alt=\"Thompson's Construction\" style=\"width: 400px\" />\n",
    "<img src=\"../../Files/third-semester/lac/9.png\" alt=\"Thompson's Construction\" style=\"width: 400px\" />\n",
    "\n",
    "* Kleene start only have one accept state at the beginning\n",
    "\n",
    "- Example $r = (aab)^*(a+aba)^*$\n",
    "\n",
    "<img src=\"../../Files/third-semester/lac/10.png\" alt=\"Thompson's Construction Example\" style=\"width: 485px\" /> OR\n",
    "<img src=\"../../Files/third-semester/lac/11.png\" alt=\"Thompson's Construction Example\" style=\"width: 400px\" />"
   ]
  },
  {
   "cell_type": "markdown",
   "id": "ec0a5ea7",
   "metadata": {},
   "source": [
    "$ r = (a^*bb)^* + bb^*a^*$\n",
    "\n",
    "<img src=\"../../Files/third-semester/lac/12.png\" alt=\"Thompson's Construction Example\" style=\"width: 600px\" />\n",
    "<img src=\"../../Files/third-semester/lac/13.png\" alt=\"Thompson's Construction Example\" style=\"width: 400px\" />"
   ]
  }
 ],
 "metadata": {
  "language_info": {
   "name": "python"
  }
 },
 "nbformat": 4,
 "nbformat_minor": 5
}

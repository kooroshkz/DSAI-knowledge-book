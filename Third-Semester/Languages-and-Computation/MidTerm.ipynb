{
 "cells": [
  {
   "cell_type": "markdown",
   "id": "c7c39445",
   "metadata": {},
   "source": [
    "\n",
    "* Given one of the following ways to describe or define a regular language, create another form that describes the same language:\n",
    "\n",
    "  * (In)formal description of a regular language\n",
    "  * Deterministic finite automaton (DFA)\n",
    "  * Non-deterministic finite automaton (NFA)\n",
    "  * Regular expression\n",
    "  * Regular grammar\n",
    "\n",
    "* Given a language description, decide if it is regular.\n",
    "\n",
    "* Given a description of a context-free language, create a context-free grammar that generates it (or the other way around).\n",
    "\n",
    "* Given a description of a context-free language, create a non-deterministic pushdown automaton (NPDA) that accepts it (or the other way around).\n",
    "\n",
    "* Given a grammar, decide whether it is regular, context-free, or neither.\n"
   ]
  }
 ],
 "metadata": {
  "language_info": {
   "name": "python"
  }
 },
 "nbformat": 4,
 "nbformat_minor": 5
}

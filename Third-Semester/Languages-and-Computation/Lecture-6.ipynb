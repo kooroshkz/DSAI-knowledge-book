{
 "cells": [
  {
   "cell_type": "markdown",
   "id": "fa3dd873",
   "metadata": {},
   "source": [
    "$\\xrightarrow{a,z,Az}$ means when reading $a$, and the top of the stack was $z$, replace $z$ with $Az$.\n",
    "\n",
    "$\\xrightarrow{a,A,AA}$ means when reading $a$, and the top of the stack was $A$, replace $A$ with $AA$.\n",
    "\n",
    "$\\xrightarrow{b,A,\\lambda}$ means when reading $b$, and the top of the stack was $A$, pop $A$ from the stack.\n",
    "\n",
    "$\\xrightarrow{\\lambda,z,z}$ means when reading nothing, and the top of the stack was $z$, pop $z$ from the stack.\n",
    "\n",
    "---\n",
    "\n",
    "$\\Gamma = \\{A,z\\}$ is the stack alphabet and $z \\in \\Gamma$ is the initial stack symbol.\n",
    "\n",
    "Transition function form: $\\delta(1,a,z) = \\{(2,Az)\\} \\to$ Means in state $1$ getting $a$, $z$ on top, go to state $2$ and replace $z$ with $Az$.\n",
    "\n",
    "Notation PDA:\n",
    "\n",
    "For parsing $w = aabb$:\n",
    "\n",
    "$(1,aabb,z) ⊢ (2,abb,Az) ⊢ (2,bb,AAz) ⊢ (3,b,Az) ⊢ (3, \\lambda,z) ⊢ (3,\\lambda,z)$ where in $(1,aabb,z)$, $1$ is the current state, $aabb$ is the remaining input (to read), and $z$ is the current stack content and $⊢$ means move.\n",
    "\n",
    "---\n",
    "\n",
    "Examples:\n",
    "\n",
    "Let **L** be the language on { [ , ] } consisting of the words **w** for which **n₍[₎(w) = n₍]₎(w)**, and moreover, for every prefix **x** of **w**, **n₍[₎(x) ≥ n₍]₎(x)**.\n",
    "\n",
    "Construct an NPDA **M** for which **L = L(M)**.\n",
    "\n",
    "<img src=\"../../Files/third-semester/lac/20.png\" alt=\"PDA for balanced brackets\" width=\"600\"/>"
   ]
  },
  {
   "cell_type": "markdown",
   "id": "6b004acd",
   "metadata": {},
   "source": [
    "---\n",
    "\n",
    "**Note:** Any Context-Free Language can be converted to Pushdown Automaton.\n",
    "\n",
    "#### CFA to PDA conversion steps\n",
    "\n",
    "We first make the backbone of the PDA: Start with $S$ and end with $\\lambda$ cleaning stack.\n",
    "\n",
    "<img src=\"../../Files/third-semester/lac/21.png\" alt=\"CFA to PDA conversion step 1\" width=\"600\"/>\n",
    "\n",
    "- Matching is when top of stack is a terminal $a$ it will be popped when input symbol is also $a$.\n",
    "    - Like if top of stack is $a$ and input symbol is also $a$, then we pop $a$ from stack and read $a$ from input.\n",
    "- Expanding is when top of stack is a variable $S$ it will be replaced by the right side of a production rule.\n",
    "    - Like if $S \\rightarrow aAB | \\lambda$ is a production rule, then when top of stack is $S$, we can replace it with $aAB$ or $\\lambda$.\n",
    "\n",
    "##### Now parsing $aabb$:\n",
    "\n",
    "<img src=\"../../Files/third-semester/lac/22.png\" alt=\"Parsing aabb using PDA\" width=\"600\"/>"
   ]
  }
 ],
 "metadata": {
  "language_info": {
   "name": "python"
  }
 },
 "nbformat": 4,
 "nbformat_minor": 5
}

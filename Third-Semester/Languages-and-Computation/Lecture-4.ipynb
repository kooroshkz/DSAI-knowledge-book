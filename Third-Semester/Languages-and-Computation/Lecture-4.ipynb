{
 "cells": [
  {
   "cell_type": "markdown",
   "id": "188a367b",
   "metadata": {},
   "source": [
    "## Brzozowski–McCluskey\n",
    "### Automaton $\\to$ Regular Expression\n",
    "\n",
    "<img src=\"../../Files/third-semester/lac/14.png\" alt=\"Brzozowski-McCluskey algorithm example 1\" width=\"500\"/>\n",
    "\n",
    "Step 1 matters: Put $\\lambda$-transitions to the beginning of the automaton.\n",
    "\n",
    "**Also** remove all final states, add one general one and make $\\lambda$-transitions from all previous final states to the new one.\n",
    "\n",
    "**If** there was two loops on the same state, we can combine them as $(xyz+abc)^*$.\n",
    "Example:\n",
    "\n",
    "<img src=\"../../Files/third-semester/lac/15.png\" alt=\"Brzozowski-McCluskey algorithm example 2\" width=\"300\"/>\n",
    "\n",
    "Answer:\n",
    "\n",
    "<img src=\"../../Files/third-semester/lac/16.png\" alt=\"Brzozowski-McCluskey algorithm example 3\" width=\"300\"/>\n",
    "\n",
    "\n",
    "\n"
   ]
  },
  {
   "cell_type": "markdown",
   "id": "fe8dde4e",
   "metadata": {},
   "source": [
    "Example 2:\n",
    "\n",
    "<img src=\"../../Files/third-semester/lac/17.png\" alt=\"Brzozowski-McCluskey algorithm example 4\" width=\"200\"/><br>\n",
    "\n",
    "<img src=\"../../Files/third-semester/lac/18.png\" alt=\"Brzozowski-McCluskey algorithm example 5\" width=\"300\"/>"
   ]
  }
 ],
 "metadata": {
  "language_info": {
   "name": "python"
  }
 },
 "nbformat": 4,
 "nbformat_minor": 5
}
